{
  "nbformat": 4,
  "nbformat_minor": 0,
  "metadata": {
    "colab": {
      "provenance": [],
      "authorship_tag": "ABX9TyOQCatsvz9oG7rdthwgHaOJ",
      "include_colab_link": true
    },
    "kernelspec": {
      "name": "python3",
      "display_name": "Python 3"
    },
    "language_info": {
      "name": "python"
    }
  },
  "cells": [
    {
      "cell_type": "markdown",
      "metadata": {
        "id": "view-in-github",
        "colab_type": "text"
      },
      "source": [
        "<a href=\"https://colab.research.google.com/github/StriverPraveen/test/blob/main/oops.ipynb\" target=\"_parent\"><img src=\"https://colab.research.google.com/assets/colab-badge.svg\" alt=\"Open In Colab\"/></a>"
      ]
    },
    {
      "cell_type": "code",
      "execution_count": null,
      "metadata": {
        "colab": {
          "base_uri": "https://localhost:8080/"
        },
        "id": "eSkmOUYAY_AG",
        "outputId": "504fc772-b44b-49b9-b8a5-9fc5fbdb9960"
      },
      "outputs": [
        {
          "output_type": "stream",
          "name": "stdout",
          "text": [
            "hello\n"
          ]
        }
      ],
      "source": [
        "print(\"hello\")"
      ]
    },
    {
      "cell_type": "code",
      "source": [
        "pip install pandas"
      ],
      "metadata": {
        "colab": {
          "base_uri": "https://localhost:8080/"
        },
        "id": "c6gEtw8eZD4F",
        "outputId": "b1fb637c-9d9c-42aa-86ff-3ea5577ba4d2"
      },
      "execution_count": null,
      "outputs": [
        {
          "output_type": "stream",
          "name": "stdout",
          "text": [
            "Looking in indexes: https://pypi.org/simple, https://us-python.pkg.dev/colab-wheels/public/simple/\n",
            "Requirement already satisfied: pandas in /usr/local/lib/python3.8/dist-packages (1.3.5)\n",
            "Requirement already satisfied: numpy>=1.17.3 in /usr/local/lib/python3.8/dist-packages (from pandas) (1.21.6)\n",
            "Requirement already satisfied: pytz>=2017.3 in /usr/local/lib/python3.8/dist-packages (from pandas) (2022.7.1)\n",
            "Requirement already satisfied: python-dateutil>=2.7.3 in /usr/local/lib/python3.8/dist-packages (from pandas) (2.8.2)\n",
            "Requirement already satisfied: six>=1.5 in /usr/local/lib/python3.8/dist-packages (from python-dateutil>=2.7.3->pandas) (1.15.0)\n"
          ]
        }
      ]
    },
    {
      "cell_type": "code",
      "source": [
        "class A:\n",
        "  def __init__(self,n):\n",
        "    self.n=n\n",
        "  def isprime(self):\n",
        "    for i in range(2,int(self.n**0.5)+1):\n",
        "      if self.n%i==0:\n",
        "        return True\n",
        "        break\n",
        "    else:\n",
        "      return False\n",
        "class B(A):\n",
        "  def __init__(self,n):\n",
        "    self.n=n\n",
        "    super().__init__(self.n)\n",
        "  def prime(self):\n",
        "    if self.isprime():\n",
        "      print(\"Not prime\")\n",
        "    else:\n",
        "      print(\"prime\")\n",
        "ob=B(int(input()))\n",
        "ob.prime()      "
      ],
      "metadata": {
        "colab": {
          "base_uri": "https://localhost:8080/"
        },
        "id": "HHdQvd4xZJUL",
        "outputId": "d3c3b311-9c3b-4b03-df71-498679171a8c"
      },
      "execution_count": null,
      "outputs": [
        {
          "output_type": "stream",
          "name": "stdout",
          "text": [
            "13\n",
            "prime\n"
          ]
        }
      ]
    },
    {
      "cell_type": "code",
      "source": [
        "class A:\n",
        "  def __init__(self,n):\n",
        "    self.n=n\n",
        "  def isprime(self):\n",
        "    for i in range(2,int(self.n**0.5)+1):\n",
        "      if self.n%i==0:\n",
        "        return True\n",
        "        break\n",
        "    else:\n",
        "      return False\n",
        "class B(A):\n",
        "  def __init__(self):\n",
        "  \n",
        "    super().__init__(10)\n",
        "  def prime(self):\n",
        "    if self.isprime():\n",
        "      print(\"Not prime\")\n",
        "    else:\n",
        "      print(\"prime\")\n",
        "ob=B()      \n",
        "ob.prime()"
      ],
      "metadata": {
        "colab": {
          "base_uri": "https://localhost:8080/"
        },
        "id": "QQbk8Wi4cQhZ",
        "outputId": "1743afac-d053-4b74-af6e-d57174ae9864"
      },
      "execution_count": null,
      "outputs": [
        {
          "output_type": "stream",
          "name": "stdout",
          "text": [
            "Not prime\n"
          ]
        }
      ]
    },
    {
      "cell_type": "code",
      "source": [
        "class A:\n",
        "  def __init__(self,n):\n",
        "    self.n=n\n",
        "  def isprime(self):\n",
        "    for i in range(2,int(self.n**0.5)+1):\n",
        "      if self.n%i==0:\n",
        "        return True\n",
        "        break\n",
        "    else:\n",
        "      return False\n",
        "class B(A):\n",
        "  def __init__(self):\n",
        "    self.n=100\n",
        "    super().__init__(self.n)\n",
        "  def prime(self):\n",
        "    if self.isprime():\n",
        "      print(\"Not prime\")\n",
        "    else:\n",
        "      print(\"prime\")\n",
        "ob=B()      \n",
        "ob.prime()"
      ],
      "metadata": {
        "colab": {
          "base_uri": "https://localhost:8080/"
        },
        "id": "k9TZR7_UbYfu",
        "outputId": "bd371a42-44fa-4d41-cb24-50d547a378f0"
      },
      "execution_count": null,
      "outputs": [
        {
          "output_type": "stream",
          "name": "stdout",
          "text": [
            "Not prime\n"
          ]
        }
      ]
    },
    {
      "cell_type": "code",
      "source": [
        "pip install mutipledispatch"
      ],
      "metadata": {
        "colab": {
          "base_uri": "https://localhost:8080/"
        },
        "id": "tvzj_DKJsv5L",
        "outputId": "c21f7559-ece3-4bd7-82a3-fb9205623f2e"
      },
      "execution_count": null,
      "outputs": [
        {
          "output_type": "stream",
          "name": "stdout",
          "text": [
            "Looking in indexes: https://pypi.org/simple, https://us-python.pkg.dev/colab-wheels/public/simple/\n",
            "\u001b[31mERROR: Could not find a version that satisfies the requirement mutipledispatch (from versions: none)\u001b[0m\u001b[31m\n",
            "\u001b[0m\u001b[31mERROR: No matching distribution found for mutipledispatch\u001b[0m\u001b[31m\n",
            "\u001b[0m"
          ]
        }
      ]
    },
    {
      "cell_type": "code",
      "source": [
        "pip install multipledispatch"
      ],
      "metadata": {
        "colab": {
          "base_uri": "https://localhost:8080/"
        },
        "id": "F4DmNs3xs5rN",
        "outputId": "9493e9df-9c89-4115-d0d5-87545b2b8a46"
      },
      "execution_count": null,
      "outputs": [
        {
          "output_type": "stream",
          "name": "stdout",
          "text": [
            "Looking in indexes: https://pypi.org/simple, https://us-python.pkg.dev/colab-wheels/public/simple/\n",
            "Requirement already satisfied: multipledispatch in /usr/local/lib/python3.8/dist-packages (0.6.0)\n",
            "Requirement already satisfied: six in /usr/local/lib/python3.8/dist-packages (from multipledispatch) (1.15.0)\n"
          ]
        }
      ]
    },
    {
      "cell_type": "code",
      "source": [
        "from multipledispatch import dispatch \n",
        "class A:\n",
        "  @dispatch(int,int)\n",
        "  def hello(self,a,b):\n",
        "    print(a,b)\n",
        "  @dispatch(int,int,int)\n",
        "  def hello(self,a,b,c):\n",
        "    print(a,b,c)\n",
        "ob=A()\n",
        "ob.hello(4,5)"
      ],
      "metadata": {
        "colab": {
          "base_uri": "https://localhost:8080/"
        },
        "id": "MTuDcEvttGc6",
        "outputId": "d81edc40-ff66-4a60-c596-5b5481af4b92"
      },
      "execution_count": null,
      "outputs": [
        {
          "output_type": "stream",
          "name": "stdout",
          "text": [
            "4 5\n"
          ]
        }
      ]
    },
    {
      "cell_type": "code",
      "source": [
        "class A:\n",
        "  def __init__(self,a,b):\n",
        "    self.a=a\n",
        "    self.b=b\n",
        "  def product(self):\n",
        "    return self.a*self.b\n",
        "class B(A):\n",
        "  def __init__(self,a,b):\n",
        "    super().__init__(a,b)\n",
        "  def area(self):\n",
        "    return 2*self.product()\n",
        "  \n",
        "ob=B(4,5)\n",
        "print(ob.area())"
      ],
      "metadata": {
        "colab": {
          "base_uri": "https://localhost:8080/"
        },
        "id": "nStKunhlJvP8",
        "outputId": "6642a8c7-2be7-45c4-8c38-6252d29e001f"
      },
      "execution_count": null,
      "outputs": [
        {
          "output_type": "stream",
          "name": "stdout",
          "text": [
            "40\n"
          ]
        }
      ]
    },
    {
      "cell_type": "code",
      "source": [
        "from collections import collect\n",
        "h=[1,2,3,3,5,5,7]\n",
        "print(collect(h))"
      ],
      "metadata": {
        "id": "rNpJ6tABt9Z9",
        "colab": {
          "base_uri": "https://localhost:8080/",
          "height": 356
        },
        "outputId": "b5802057-4ca1-414b-e447-627f5a19e0fc"
      },
      "execution_count": null,
      "outputs": [
        {
          "output_type": "error",
          "ename": "ImportError",
          "evalue": "ignored",
          "traceback": [
            "\u001b[0;31m---------------------------------------------------------------------------\u001b[0m",
            "\u001b[0;31mImportError\u001b[0m                               Traceback (most recent call last)",
            "\u001b[0;32m<ipython-input-3-3e23dd9147b4>\u001b[0m in \u001b[0;36m<module>\u001b[0;34m\u001b[0m\n\u001b[0;32m----> 1\u001b[0;31m \u001b[0;32mfrom\u001b[0m \u001b[0mcollections\u001b[0m \u001b[0;32mimport\u001b[0m \u001b[0mcollect\u001b[0m\u001b[0;34m\u001b[0m\u001b[0;34m\u001b[0m\u001b[0m\n\u001b[0m\u001b[1;32m      2\u001b[0m \u001b[0mh\u001b[0m\u001b[0;34m=\u001b[0m\u001b[0;34m[\u001b[0m\u001b[0;36m1\u001b[0m\u001b[0;34m,\u001b[0m\u001b[0;36m2\u001b[0m\u001b[0;34m,\u001b[0m\u001b[0;36m3\u001b[0m\u001b[0;34m,\u001b[0m\u001b[0;36m3\u001b[0m\u001b[0;34m,\u001b[0m\u001b[0;36m5\u001b[0m\u001b[0;34m,\u001b[0m\u001b[0;36m5\u001b[0m\u001b[0;34m,\u001b[0m\u001b[0;36m7\u001b[0m\u001b[0;34m]\u001b[0m\u001b[0;34m\u001b[0m\u001b[0;34m\u001b[0m\u001b[0m\n\u001b[1;32m      3\u001b[0m \u001b[0mprint\u001b[0m\u001b[0;34m(\u001b[0m\u001b[0mcollect\u001b[0m\u001b[0;34m(\u001b[0m\u001b[0mh\u001b[0m\u001b[0;34m)\u001b[0m\u001b[0;34m)\u001b[0m\u001b[0;34m\u001b[0m\u001b[0;34m\u001b[0m\u001b[0m\n",
            "\u001b[0;31mImportError\u001b[0m: cannot import name 'collect' from 'collections' (/usr/lib/python3.8/collections/__init__.py)",
            "",
            "\u001b[0;31m---------------------------------------------------------------------------\u001b[0;32m\nNOTE: If your import is failing due to a missing package, you can\nmanually install dependencies using either !pip or !apt.\n\nTo view examples of installing some common dependencies, click the\n\"Open Examples\" button below.\n\u001b[0;31m---------------------------------------------------------------------------\u001b[0m\n"
          ],
          "errorDetails": {
            "actions": [
              {
                "action": "open_url",
                "actionText": "Open Examples",
                "url": "/notebooks/snippets/importing_libraries.ipynb"
              }
            ]
          }
        }
      ]
    },
    {
      "cell_type": "code",
      "source": [
        "#collections"
      ],
      "metadata": {
        "id": "BRcSD7wbPifD"
      },
      "execution_count": null,
      "outputs": []
    },
    {
      "cell_type": "code",
      "source": [],
      "metadata": {
        "id": "Vltp22kuP-Vi"
      },
      "execution_count": null,
      "outputs": []
    },
    {
      "cell_type": "markdown",
      "source": [
        "#collections\n",
        "\n",
        "nametuple()\n",
        "Chainmap     deque\n",
        "Counter\n",
        "OrdredDict   defaultdict\n",
        "UserDict\n",
        "UserList     UserString"
      ],
      "metadata": {
        "id": "ltXwv_dqQSfB"
      }
    },
    {
      "cell_type": "markdown",
      "source": [
        "## namedtuple() returns a tuple with a named value for each element in the tuple."
      ],
      "metadata": {
        "id": "kQZYdhZgSPsb"
      }
    },
    {
      "cell_type": "code",
      "source": [
        "import collections \n",
        "print(dir(collections))\n",
        "for i in dir(collections):\n",
        "  if not i.startswith(\"_\"):\n",
        "    print(i)"
      ],
      "metadata": {
        "colab": {
          "base_uri": "https://localhost:8080/"
        },
        "id": "Nigp6K3NETmK",
        "outputId": "62c578d1-cc9e-4326-9e41-c53c23959dfd"
      },
      "execution_count": null,
      "outputs": [
        {
          "output_type": "stream",
          "name": "stdout",
          "text": [
            "['ChainMap', 'Counter', 'OrderedDict', 'UserDict', 'UserList', 'UserString', '_Link', '_OrderedDictItemsView', '_OrderedDictKeysView', '_OrderedDictValuesView', '__all__', '__builtins__', '__cached__', '__doc__', '__file__', '__getattr__', '__loader__', '__name__', '__package__', '__path__', '__spec__', '_chain', '_collections_abc', '_count_elements', '_eq', '_heapq', '_iskeyword', '_itemgetter', '_proxy', '_recursive_repr', '_repeat', '_starmap', '_sys', '_tuplegetter', 'abc', 'defaultdict', 'deque', 'namedtuple']\n",
            "ChainMap\n",
            "Counter\n",
            "OrderedDict\n",
            "UserDict\n",
            "UserList\n",
            "UserString\n",
            "abc\n",
            "defaultdict\n",
            "deque\n",
            "namedtuple\n"
          ]
        }
      ]
    },
    {
      "cell_type": "code",
      "source": [
        "from collections import namedtuple\n",
        "a=namedtuple(\"courses\",\"name,technology\")\n",
        "s=a(\"data science\",\"python\")\n",
        "print(s)"
      ],
      "metadata": {
        "colab": {
          "base_uri": "https://localhost:8080/"
        },
        "id": "6M2rIMGdSGSj",
        "outputId": "d73ed991-a06a-44d7-850a-7a4f34cb91dc"
      },
      "execution_count": null,
      "outputs": [
        {
          "output_type": "stream",
          "name": "stdout",
          "text": [
            "courses(name='data science', technology='python')\n"
          ]
        }
      ]
    },
    {
      "cell_type": "markdown",
      "source": [
        "## deque pronounced as \"deck\" is an optimised list to perform insertion and deletion easily."
      ],
      "metadata": {
        "id": "g1OZb5YGTKN1"
      }
    },
    {
      "cell_type": "code",
      "source": [
        "from collections import *\n",
        "print(dir(deque))\n",
        "for i in dir(deque):\n",
        "  if not i.startswith(\"_\"):\n",
        "    print(i)"
      ],
      "metadata": {
        "colab": {
          "base_uri": "https://localhost:8080/"
        },
        "id": "qE9VzZLfEjw9",
        "outputId": "8c1ee6e7-d4be-4a02-f497-df9488a743b0"
      },
      "execution_count": null,
      "outputs": [
        {
          "output_type": "stream",
          "name": "stdout",
          "text": [
            "['__add__', '__bool__', '__class__', '__contains__', '__copy__', '__delattr__', '__delitem__', '__dir__', '__doc__', '__eq__', '__format__', '__ge__', '__getattribute__', '__getitem__', '__gt__', '__hash__', '__iadd__', '__imul__', '__init__', '__init_subclass__', '__iter__', '__le__', '__len__', '__lt__', '__mul__', '__ne__', '__new__', '__reduce__', '__reduce_ex__', '__repr__', '__reversed__', '__rmul__', '__setattr__', '__setitem__', '__sizeof__', '__str__', '__subclasshook__', 'append', 'appendleft', 'clear', 'copy', 'count', 'extend', 'extendleft', 'index', 'insert', 'maxlen', 'pop', 'popleft', 'remove', 'reverse', 'rotate']\n",
            "append\n",
            "appendleft\n",
            "clear\n",
            "copy\n",
            "count\n",
            "extend\n",
            "extendleft\n",
            "index\n",
            "insert\n",
            "maxlen\n",
            "pop\n",
            "popleft\n",
            "remove\n",
            "reverse\n",
            "rotate\n"
          ]
        }
      ]
    },
    {
      "cell_type": "code",
      "source": [
        "from collections import deque\n",
        "a=['e','d','u','r','e','k','a']\n",
        "d=deque(a)\n",
        "print(d)\n",
        "d.append(d)\n",
        "print(d)\n",
        "d."
      ],
      "metadata": {
        "colab": {
          "base_uri": "https://localhost:8080/"
        },
        "id": "VsRe7Dq0QgE_",
        "outputId": "c088162f-017f-4755-b7df-d7e5e819cf93"
      },
      "execution_count": null,
      "outputs": [
        {
          "output_type": "stream",
          "name": "stdout",
          "text": [
            "deque(['e', 'd', 'u', 'r', 'e', 'k', 'a'])\n",
            "deque(['e', 'd', 'u', 'r', 'e', 'k', 'a', [...]])\n"
          ]
        }
      ]
    },
    {
      "cell_type": "code",
      "source": [
        "from collections import deque\n",
        "a=['e','d','u','r','e','k','a']\n",
        "d=deque(a)\n",
        "print(d)\n",
        "d.append(\"python\")\n",
        "print(d)\n",
        "d.extend(d)\n",
        "print(d)"
      ],
      "metadata": {
        "colab": {
          "base_uri": "https://localhost:8080/"
        },
        "id": "XWA_6cn3R1Ed",
        "outputId": "74d9ba7d-f7a7-4637-e23d-ed65dac5532f"
      },
      "execution_count": null,
      "outputs": [
        {
          "output_type": "stream",
          "name": "stdout",
          "text": [
            "deque(['e', 'd', 'u', 'r', 'e', 'k', 'a'])\n",
            "deque(['e', 'd', 'u', 'r', 'e', 'k', 'a', 'python'])\n",
            "deque(['e', 'd', 'u', 'r', 'e', 'k', 'a', 'python', 'e', 'd', 'u', 'r', 'e', 'k', 'a', 'python'])\n"
          ]
        }
      ]
    },
    {
      "cell_type": "code",
      "source": [
        "from collections import deque\n",
        "a=['e','d','u','r','e','k','a']\n",
        "d=deque(a)\n",
        "print(d)\n",
        "d.appendleft(\"python\")\n",
        "print(d)"
      ],
      "metadata": {
        "colab": {
          "base_uri": "https://localhost:8080/"
        },
        "id": "8x0nxeNWUiYI",
        "outputId": "9922c22c-66cb-49e3-89d9-fd14e0703207"
      },
      "execution_count": null,
      "outputs": [
        {
          "output_type": "stream",
          "name": "stdout",
          "text": [
            "deque(['e', 'd', 'u', 'r', 'e', 'k', 'a'])\n",
            "deque(['python', 'e', 'd', 'u', 'r', 'e', 'k', 'a'])\n"
          ]
        }
      ]
    },
    {
      "cell_type": "code",
      "source": [
        "from collections import deque\n",
        "a=['e','d','u','r','e','k','a']\n",
        "d=deque(a)\n",
        "print(d)\n",
        "d.append(\"python\")\n",
        "print(d)\n",
        "d.pop()\n",
        "print(d)"
      ],
      "metadata": {
        "colab": {
          "base_uri": "https://localhost:8080/"
        },
        "id": "BrwNqPHBUrUh",
        "outputId": "46d9fa4a-e425-46d0-d772-4ff903da2f8d"
      },
      "execution_count": null,
      "outputs": [
        {
          "output_type": "stream",
          "name": "stdout",
          "text": [
            "deque(['e', 'd', 'u', 'r', 'e', 'k', 'a'])\n",
            "deque(['e', 'd', 'u', 'r', 'e', 'k', 'a', 'python'])\n",
            "deque(['e', 'd', 'u', 'r', 'e', 'k', 'a'])\n"
          ]
        }
      ]
    },
    {
      "cell_type": "code",
      "source": [
        "from collections import deque\n",
        "a=['e','d','u','r','e','k','a']\n",
        "d=deque(a)\n",
        "print(d)\n",
        "d.append(\"python\")\n",
        "print(d)\n",
        "d.popleft()\n",
        "print(d)"
      ],
      "metadata": {
        "colab": {
          "base_uri": "https://localhost:8080/"
        },
        "id": "JBzhtCPWU5cR",
        "outputId": "59fa4bd1-7353-45ea-fe80-53a75dc21e91"
      },
      "execution_count": null,
      "outputs": [
        {
          "output_type": "stream",
          "name": "stdout",
          "text": [
            "deque(['e', 'd', 'u', 'r', 'e', 'k', 'a'])\n",
            "deque(['e', 'd', 'u', 'r', 'e', 'k', 'a', 'python'])\n",
            "deque(['d', 'u', 'r', 'e', 'k', 'a', 'python'])\n"
          ]
        }
      ]
    },
    {
      "cell_type": "markdown",
      "source": [
        "## Chainmap is a dictionary like class for creating a single view of multiple mappings"
      ],
      "metadata": {
        "id": "ZYC9AzGnVQ7X"
      }
    },
    {
      "cell_type": "code",
      "source": [
        "from collections import ChainMap\n",
        "print(dir(ChainMap))\n",
        "for i in dir(ChainMap):\n",
        "  if not i.startswith(\"_\"):\n",
        "    print(i)"
      ],
      "metadata": {
        "colab": {
          "base_uri": "https://localhost:8080/"
        },
        "id": "scZxwA12Evu2",
        "outputId": "6679ce4f-d1e0-47d1-b081-1d1537bd545e"
      },
      "execution_count": null,
      "outputs": [
        {
          "output_type": "stream",
          "name": "stdout",
          "text": [
            "['_MutableMapping__marker', '__abstractmethods__', '__bool__', '__class__', '__contains__', '__copy__', '__delattr__', '__delitem__', '__dict__', '__dir__', '__doc__', '__eq__', '__format__', '__ge__', '__getattribute__', '__getitem__', '__gt__', '__hash__', '__init__', '__init_subclass__', '__iter__', '__le__', '__len__', '__lt__', '__missing__', '__module__', '__ne__', '__new__', '__reduce__', '__reduce_ex__', '__repr__', '__reversed__', '__setattr__', '__setitem__', '__sizeof__', '__slots__', '__str__', '__subclasshook__', '__weakref__', '_abc_impl', 'clear', 'copy', 'fromkeys', 'get', 'items', 'keys', 'new_child', 'parents', 'pop', 'popitem', 'setdefault', 'update', 'values']\n",
            "clear\n",
            "copy\n",
            "fromkeys\n",
            "get\n",
            "items\n",
            "keys\n",
            "new_child\n",
            "parents\n",
            "pop\n",
            "popitem\n",
            "setdefault\n",
            "update\n",
            "values\n"
          ]
        }
      ]
    },
    {
      "cell_type": "code",
      "source": [
        "from collections import ChainMap\n",
        "a={1:\"edureka\",2:\"python\"}\n",
        "b={3:'ML',4:'AI'}\n",
        "a1=ChainMap(a,b)\n",
        "print(a1)\n",
        "print([a1])\n",
        "print(list(a1))"
      ],
      "metadata": {
        "colab": {
          "base_uri": "https://localhost:8080/"
        },
        "id": "eivAAbBJVDnw",
        "outputId": "fc5985c7-835e-4eb9-83c4-ac8fa77a58bb"
      },
      "execution_count": null,
      "outputs": [
        {
          "output_type": "stream",
          "name": "stdout",
          "text": [
            "ChainMap({1: 'edureka', 2: 'python'}, {3: 'ML', 4: 'AI'})\n",
            "[ChainMap({1: 'edureka', 2: 'python'}, {3: 'ML', 4: 'AI'})]\n",
            "[3, 4, 1, 2]\n"
          ]
        }
      ]
    },
    {
      "cell_type": "markdown",
      "source": [
        "##Counter is a dictionary subclass for counting hashable objects"
      ],
      "metadata": {
        "id": "iGjHf0eXXCaK"
      }
    },
    {
      "cell_type": "code",
      "source": [
        "from collections import *\n",
        "print(dir(Counter))\n",
        "for i in dir(Counter):\n",
        "  if not i.startswith(\"_\"):\n",
        "    print(i)"
      ],
      "metadata": {
        "colab": {
          "base_uri": "https://localhost:8080/"
        },
        "id": "2EmxcbyTE1a4",
        "outputId": "a4690cbe-8f02-462f-da51-a1125747eea8"
      },
      "execution_count": null,
      "outputs": [
        {
          "output_type": "stream",
          "name": "stdout",
          "text": [
            "['__add__', '__and__', '__class__', '__contains__', '__delattr__', '__delitem__', '__dict__', '__dir__', '__doc__', '__eq__', '__format__', '__ge__', '__getattribute__', '__getitem__', '__gt__', '__hash__', '__iadd__', '__iand__', '__init__', '__init_subclass__', '__ior__', '__isub__', '__iter__', '__le__', '__len__', '__lt__', '__missing__', '__module__', '__ne__', '__neg__', '__new__', '__or__', '__pos__', '__reduce__', '__reduce_ex__', '__repr__', '__reversed__', '__setattr__', '__setitem__', '__sizeof__', '__str__', '__sub__', '__subclasshook__', '__weakref__', '_keep_positive', 'clear', 'copy', 'elements', 'fromkeys', 'get', 'items', 'keys', 'most_common', 'pop', 'popitem', 'setdefault', 'subtract', 'update', 'values']\n",
            "clear\n",
            "copy\n",
            "elements\n",
            "fromkeys\n",
            "get\n",
            "items\n",
            "keys\n",
            "most_common\n",
            "pop\n",
            "popitem\n",
            "setdefault\n",
            "subtract\n",
            "update\n",
            "values\n"
          ]
        }
      ]
    },
    {
      "cell_type": "code",
      "source": [
        "from collections import Counter\n",
        "a=[1,1,2,3,2,2,4,5,6,7,3,3,5,9]\n",
        "c=Counter(a)\n",
        "print(c)"
      ],
      "metadata": {
        "colab": {
          "base_uri": "https://localhost:8080/"
        },
        "id": "NOBhLXV6Wtkw",
        "outputId": "e7ac2a41-1209-4639-e850-5f9e2dbcf886"
      },
      "execution_count": null,
      "outputs": [
        {
          "output_type": "stream",
          "name": "stdout",
          "text": [
            "Counter({2: 3, 3: 3, 1: 2, 5: 2, 4: 1, 6: 1, 7: 1, 9: 1})\n"
          ]
        }
      ]
    },
    {
      "cell_type": "code",
      "source": [
        "from collections import Counter\n",
        "a=[1,1,2,3,2,2,4,5,6,7,3,3,5,9]\n",
        "c=Counter(a)\n",
        "print(c)\n",
        "print(list(c.elements()))\n",
        "print(c.most_common())\n",
        "sub={2:1,6:1}\n",
        "print(c.subtract(sub))\n",
        "print(c.most_common())#this will give the out put in descending order of no of elements check output"
      ],
      "metadata": {
        "colab": {
          "base_uri": "https://localhost:8080/"
        },
        "id": "K56UDo-Bbl8B",
        "outputId": "7cd5f799-4b1a-450d-ac6f-8a227b1aff38"
      },
      "execution_count": null,
      "outputs": [
        {
          "output_type": "stream",
          "name": "stdout",
          "text": [
            "Counter({2: 3, 3: 3, 1: 2, 5: 2, 4: 1, 6: 1, 7: 1, 9: 1})\n",
            "[1, 1, 2, 2, 2, 3, 3, 3, 4, 5, 5, 6, 7, 9]\n",
            "[(2, 3), (3, 3), (1, 2), (5, 2), (4, 1), (6, 1), (7, 1), (9, 1)]\n",
            "None\n",
            "[(3, 3), (1, 2), (2, 2), (5, 2), (4, 1), (7, 1), (9, 1), (6, 0)]\n"
          ]
        }
      ]
    },
    {
      "cell_type": "markdown",
      "source": [
        "from collections import Counter\n",
        "a=[1,1,2,3,2,2,4,5,6,7,3,3,5,9]\n",
        "c=Counter(a)\n",
        "print(c)\n",
        "print(list(c.elements()))\n",
        "print(c.most_common())\n",
        "sub={2:1,6:1}\n",
        "print(c.subtract(sub))\n",
        "print(c.most_common())"
      ],
      "metadata": {
        "id": "ni1JXaDYXnLM"
      }
    },
    {
      "cell_type": "markdown",
      "source": [
        "## OrderedDict is dictionary subclass which remembers the order in which the entries were done"
      ],
      "metadata": {
        "id": "KZjMC7kPZeXg"
      }
    },
    {
      "cell_type": "code",
      "source": [
        "from collections import *\n",
        "print(dir(defaultdict))\n",
        "for i in dir(OrderedDict):\n",
        "  if not i.startswith(\"_\"):\n",
        "    print(i)"
      ],
      "metadata": {
        "colab": {
          "base_uri": "https://localhost:8080/"
        },
        "id": "21XkJg4pE_9j",
        "outputId": "df0a9743-a693-4e18-cc82-34c51858c95a"
      },
      "execution_count": null,
      "outputs": [
        {
          "output_type": "stream",
          "name": "stdout",
          "text": [
            "['__class__', '__contains__', '__copy__', '__delattr__', '__delitem__', '__dir__', '__doc__', '__eq__', '__format__', '__ge__', '__getattribute__', '__getitem__', '__gt__', '__hash__', '__init__', '__init_subclass__', '__iter__', '__le__', '__len__', '__lt__', '__missing__', '__ne__', '__new__', '__reduce__', '__reduce_ex__', '__repr__', '__reversed__', '__setattr__', '__setitem__', '__sizeof__', '__str__', '__subclasshook__', 'clear', 'copy', 'default_factory', 'fromkeys', 'get', 'items', 'keys', 'pop', 'popitem', 'setdefault', 'update', 'values']\n",
            "clear\n",
            "copy\n",
            "fromkeys\n",
            "get\n",
            "items\n",
            "keys\n",
            "move_to_end\n",
            "pop\n",
            "popitem\n",
            "setdefault\n",
            "update\n",
            "values\n"
          ]
        }
      ]
    },
    {
      "cell_type": "code",
      "source": [
        "from collections import OrderedDict\n",
        "d=OrderedDict()\n",
        "d[1]='e'\n",
        "d[2]='d'\n",
        "d[3]='u'\n",
        "d[4]='r'\n",
        "d[5]='e'\n",
        "d[6]='k'\n",
        "d[7]='a'\n",
        "print(d)"
      ],
      "metadata": {
        "colab": {
          "base_uri": "https://localhost:8080/"
        },
        "id": "kob1H5LdX65x",
        "outputId": "78c26f90-f99b-4a45-ba73-5bf894fa77d1"
      },
      "execution_count": null,
      "outputs": [
        {
          "output_type": "stream",
          "name": "stdout",
          "text": [
            "OrderedDict([(1, 'e'), (2, 'd'), (3, 'u'), (4, 'r'), (5, 'e'), (6, 'k'), (7, 'a')])\n"
          ]
        }
      ]
    },
    {
      "cell_type": "code",
      "source": [
        "from collections import OrderedDict\n",
        "d=OrderedDict()\n",
        "d[1]=\"a\"\n",
        "d[3]=\"c\"\n",
        "d[5]='e'\n",
        "d[2]='b'\n",
        "d[4]='d'\n",
        "print(d)"
      ],
      "metadata": {
        "colab": {
          "base_uri": "https://localhost:8080/"
        },
        "id": "A-GNOZPlfGlt",
        "outputId": "6a4aae62-2008-463b-898e-a6151a9153b1"
      },
      "execution_count": null,
      "outputs": [
        {
          "output_type": "stream",
          "name": "stdout",
          "text": [
            "OrderedDict([(1, 'a'), (3, 'c'), (5, 'e'), (2, 'b'), (4, 'd')])\n"
          ]
        }
      ]
    },
    {
      "cell_type": "code",
      "source": [
        "from collections import OrderedDict\n",
        "d=OrderedDict()\n",
        "d[1]='e'\n",
        "d[2]='d'\n",
        "d[3]='u'\n",
        "d[4]='r'\n",
        "d[5]='e'\n",
        "d[6]='k'\n",
        "d[7]='a'\n",
        "print(d)\n",
        "print(d.keys())\n",
        "print(d.items())\n",
        "print(list(d))"
      ],
      "metadata": {
        "colab": {
          "base_uri": "https://localhost:8080/"
        },
        "id": "L4q6qOxVaLu7",
        "outputId": "053f9e7d-3d67-4e84-cc6c-eb334b2937d8"
      },
      "execution_count": null,
      "outputs": [
        {
          "output_type": "stream",
          "name": "stdout",
          "text": [
            "OrderedDict([(1, 'e'), (2, 'd'), (3, 'u'), (4, 'r'), (5, 'e'), (6, 'k'), (7, 'a')])\n",
            "odict_keys([1, 2, 3, 4, 5, 6, 7])\n",
            "odict_items([(1, 'e'), (2, 'd'), (3, 'u'), (4, 'r'), (5, 'e'), (6, 'k'), (7, 'a')])\n",
            "[1, 2, 3, 4, 5, 6, 7]\n"
          ]
        }
      ]
    },
    {
      "cell_type": "code",
      "source": [
        "from collections import OrderedDict\n",
        "d=OrderedDict()\n",
        "d[1]='e'\n",
        "d[2]='d'\n",
        "d[3]='u'\n",
        "d[4]='r'\n",
        "d[5]='e'\n",
        "d[6]='k'\n",
        "d[7]='a'\n",
        "print(d)\n",
        "d[1]='p'\n",
        "print(d)"
      ],
      "metadata": {
        "colab": {
          "base_uri": "https://localhost:8080/"
        },
        "id": "7E8SczSmapWF",
        "outputId": "c7fb7895-8f7c-42a1-c190-e39dd402fb63"
      },
      "execution_count": null,
      "outputs": [
        {
          "output_type": "stream",
          "name": "stdout",
          "text": [
            "OrderedDict([(1, 'e'), (2, 'd'), (3, 'u'), (4, 'r'), (5, 'e'), (6, 'k'), (7, 'a')])\n",
            "OrderedDict([(1, 'p'), (2, 'd'), (3, 'u'), (4, 'r'), (5, 'e'), (6, 'k'), (7, 'a')])\n"
          ]
        }
      ]
    },
    {
      "cell_type": "markdown",
      "source": [
        "## defaultdict is a dictionary subclass which calls a factory function to supply missing values."
      ],
      "metadata": {
        "id": "21jz88OCdZ5W"
      }
    },
    {
      "cell_type": "code",
      "source": [
        "from collections import *\n",
        "print(dir(defaultdict))\n",
        "for i in dir(defaultdict):\n",
        "  if not i.startswith(\"_\"):\n",
        "    print(i)"
      ],
      "metadata": {
        "colab": {
          "base_uri": "https://localhost:8080/"
        },
        "id": "HR737ohhFGjg",
        "outputId": "da1d85de-edd3-4008-8b14-66cb06c6d569"
      },
      "execution_count": null,
      "outputs": [
        {
          "output_type": "stream",
          "name": "stdout",
          "text": [
            "['__class__', '__contains__', '__copy__', '__delattr__', '__delitem__', '__dir__', '__doc__', '__eq__', '__format__', '__ge__', '__getattribute__', '__getitem__', '__gt__', '__hash__', '__init__', '__init_subclass__', '__iter__', '__le__', '__len__', '__lt__', '__missing__', '__ne__', '__new__', '__reduce__', '__reduce_ex__', '__repr__', '__reversed__', '__setattr__', '__setitem__', '__sizeof__', '__str__', '__subclasshook__', 'clear', 'copy', 'default_factory', 'fromkeys', 'get', 'items', 'keys', 'pop', 'popitem', 'setdefault', 'update', 'values']\n",
            "clear\n",
            "copy\n",
            "default_factory\n",
            "fromkeys\n",
            "get\n",
            "items\n",
            "keys\n",
            "pop\n",
            "popitem\n",
            "setdefault\n",
            "update\n",
            "values\n"
          ]
        }
      ]
    },
    {
      "cell_type": "code",
      "source": [
        "from collections import defaultdict\n",
        "d=defaultdict(int)\n",
        "d[1]='python'\n",
        "d[2]='edureka'\n",
        "print(d)\n",
        "print(d[3])\n",
        "a={1:\"python\",2:\"edureka\"}\n",
        "print(a[3])"
      ],
      "metadata": {
        "colab": {
          "base_uri": "https://localhost:8080/",
          "height": 235
        },
        "id": "7TBPHH7FdVHr",
        "outputId": "524bb46e-5c42-43a2-8af6-fe2c2413a9a9"
      },
      "execution_count": null,
      "outputs": [
        {
          "output_type": "stream",
          "name": "stdout",
          "text": [
            "defaultdict(<class 'int'>, {1: 'python', 2: 'edureka'})\n",
            "0\n"
          ]
        },
        {
          "output_type": "error",
          "ename": "KeyError",
          "evalue": "ignored",
          "traceback": [
            "\u001b[0;31m---------------------------------------------------------------------------\u001b[0m",
            "\u001b[0;31mKeyError\u001b[0m                                  Traceback (most recent call last)",
            "\u001b[0;32m<ipython-input-28-54c5db5f85e7>\u001b[0m in \u001b[0;36m<module>\u001b[0;34m\u001b[0m\n\u001b[1;32m      6\u001b[0m \u001b[0mprint\u001b[0m\u001b[0;34m(\u001b[0m\u001b[0md\u001b[0m\u001b[0;34m[\u001b[0m\u001b[0;36m3\u001b[0m\u001b[0;34m]\u001b[0m\u001b[0;34m)\u001b[0m\u001b[0;34m\u001b[0m\u001b[0;34m\u001b[0m\u001b[0m\n\u001b[1;32m      7\u001b[0m \u001b[0ma\u001b[0m\u001b[0;34m=\u001b[0m\u001b[0;34m{\u001b[0m\u001b[0;36m1\u001b[0m\u001b[0;34m:\u001b[0m\u001b[0;34m\"python\"\u001b[0m\u001b[0;34m,\u001b[0m\u001b[0;36m2\u001b[0m\u001b[0;34m:\u001b[0m\u001b[0;34m\"edureka\"\u001b[0m\u001b[0;34m}\u001b[0m\u001b[0;34m\u001b[0m\u001b[0;34m\u001b[0m\u001b[0m\n\u001b[0;32m----> 8\u001b[0;31m \u001b[0mprint\u001b[0m\u001b[0;34m(\u001b[0m\u001b[0ma\u001b[0m\u001b[0;34m[\u001b[0m\u001b[0;36m3\u001b[0m\u001b[0;34m]\u001b[0m\u001b[0;34m)\u001b[0m\u001b[0;34m\u001b[0m\u001b[0;34m\u001b[0m\u001b[0m\n\u001b[0m",
            "\u001b[0;31mKeyError\u001b[0m: 3"
          ]
        }
      ]
    },
    {
      "cell_type": "code",
      "source": [
        "\n",
        "from collections import defaultdict\n",
        "d=defaultdict(float)\n",
        "d[1]=\"python\"\n",
        "d[2]=['edureda']\n",
        "print(d[3])\n"
      ],
      "metadata": {
        "colab": {
          "base_uri": "https://localhost:8080/"
        },
        "id": "b-iVwivDgIAm",
        "outputId": "fba4087c-e692-4311-dba6-1febe08fa3ec"
      },
      "execution_count": null,
      "outputs": [
        {
          "output_type": "stream",
          "name": "stdout",
          "text": [
            "0.0\n"
          ]
        }
      ]
    },
    {
      "cell_type": "code",
      "source": [
        "\n",
        "from collections import defaultdict\n",
        "d=defaultdict(bool)\n",
        "d[1]=\"python\"\n",
        "d[2]=['edureda']\n",
        "print(d[3])\n"
      ],
      "metadata": {
        "id": "4g0v7v14gLCk",
        "outputId": "7cabd2f7-8ec8-4299-f684-4e27e943a738",
        "colab": {
          "base_uri": "https://localhost:8080/"
        }
      },
      "execution_count": null,
      "outputs": [
        {
          "output_type": "stream",
          "name": "stdout",
          "text": [
            "False\n"
          ]
        }
      ]
    },
    {
      "cell_type": "markdown",
      "source": [],
      "metadata": {
        "id": "XdUKQs-Fx7F3"
      }
    },
    {
      "cell_type": "markdown",
      "source": [
        "UserDict is a wrapper around dictionary objects for easier dictionary sub-classing\n",
        "\n",
        "\n",
        "UserList is a wrapper around list objects for easier List sub-classing\n",
        "\n",
        "UserString is wrapper around string objects for easier string sub-classing\n"
      ],
      "metadata": {
        "id": "Hgtulvoue10L"
      }
    },
    {
      "cell_type": "markdown",
      "source": [
        "##Different types to print in python"
      ],
      "metadata": {
        "id": "nTevLT8ux8tt"
      }
    },
    {
      "cell_type": "code",
      "source": [
        "name=\"praveen\"\n",
        "age=40\n",
        "print(name+\" : \"+str(age))\n",
        "print(name,\":\",age)\n",
        "print(f\"{name} : { age}\")\n",
        "print(F\"{name}:{    age}\")\n",
        "print(\"%s : %d\"%(name, age))\n",
        "print('{} : {}'.format(name,age))"
      ],
      "metadata": {
        "id": "BbJMzvLceQxp",
        "colab": {
          "base_uri": "https://localhost:8080/"
        },
        "outputId": "7dddb206-a8d6-480f-f060-8b91d66c9d4d"
      },
      "execution_count": null,
      "outputs": [
        {
          "output_type": "stream",
          "name": "stdout",
          "text": [
            "praveen : 40\n",
            "praveen : 40\n",
            "praveen : 40\n",
            "praveen:40\n",
            "praveen : 40\n",
            "praveen : 40\n"
          ]
        }
      ]
    },
    {
      "cell_type": "code",
      "source": [
        "import itertools\n",
        "print(dir(itertools))\n",
        "for i in dir(itertools):\n",
        "  if not i.startswith(\"_\"):\n",
        "    print(i)"
      ],
      "metadata": {
        "colab": {
          "base_uri": "https://localhost:8080/"
        },
        "id": "CGHRGA70zi8U",
        "outputId": "4d769456-d865-4bf2-e740-3d348e4d3260"
      },
      "execution_count": null,
      "outputs": [
        {
          "output_type": "stream",
          "name": "stdout",
          "text": [
            "['__doc__', '__loader__', '__name__', '__package__', '__spec__', '_grouper', '_tee', '_tee_dataobject', 'accumulate', 'chain', 'combinations', 'combinations_with_replacement', 'compress', 'count', 'cycle', 'dropwhile', 'filterfalse', 'groupby', 'islice', 'permutations', 'product', 'repeat', 'starmap', 'takewhile', 'tee', 'zip_longest']\n",
            "accumulate\n",
            "chain\n",
            "combinations\n",
            "combinations_with_replacement\n",
            "compress\n",
            "count\n",
            "cycle\n",
            "dropwhile\n",
            "filterfalse\n",
            "groupby\n",
            "islice\n",
            "permutations\n",
            "product\n",
            "repeat\n",
            "starmap\n",
            "takewhile\n",
            "tee\n",
            "zip_longest\n"
          ]
        }
      ]
    },
    {
      "cell_type": "code",
      "source": [
        "import collections\n",
        "print(dir(collections))\n",
        "for i in dir(collections):\n",
        "  if not i.startswith(\"_\"):\n",
        "    print(i)"
      ],
      "metadata": {
        "colab": {
          "base_uri": "https://localhost:8080/"
        },
        "id": "a3mD5lBi97_5",
        "outputId": "bc1e425e-2330-4745-d9e3-58f7db2bc699"
      },
      "execution_count": null,
      "outputs": [
        {
          "output_type": "stream",
          "name": "stdout",
          "text": [
            "['ChainMap', 'Counter', 'OrderedDict', 'UserDict', 'UserList', 'UserString', '_Link', '_OrderedDictItemsView', '_OrderedDictKeysView', '_OrderedDictValuesView', '__all__', '__builtins__', '__cached__', '__doc__', '__file__', '__getattr__', '__loader__', '__name__', '__package__', '__path__', '__spec__', '_chain', '_collections_abc', '_count_elements', '_eq', '_heapq', '_iskeyword', '_itemgetter', '_proxy', '_recursive_repr', '_repeat', '_starmap', '_sys', '_tuplegetter', 'abc', 'defaultdict', 'deque', 'namedtuple']\n",
            "ChainMap\n",
            "Counter\n",
            "OrderedDict\n",
            "UserDict\n",
            "UserList\n",
            "UserString\n",
            "abc\n",
            "defaultdict\n",
            "deque\n",
            "namedtuple\n"
          ]
        }
      ]
    },
    {
      "cell_type": "code",
      "source": [
        "from collections import *\n",
        "print(dir(Counter))\n",
        "for i in dir(Counter):\n",
        "  if not i.startswith(\"_\"):\n",
        "    print(i)"
      ],
      "metadata": {
        "colab": {
          "base_uri": "https://localhost:8080/"
        },
        "id": "iq8fKKOq-YDy",
        "outputId": "36be7d66-d57f-4b17-dd78-1fa728f599cc"
      },
      "execution_count": null,
      "outputs": [
        {
          "output_type": "stream",
          "name": "stdout",
          "text": [
            "['__add__', '__and__', '__class__', '__contains__', '__delattr__', '__delitem__', '__dict__', '__dir__', '__doc__', '__eq__', '__format__', '__ge__', '__getattribute__', '__getitem__', '__gt__', '__hash__', '__iadd__', '__iand__', '__init__', '__init_subclass__', '__ior__', '__isub__', '__iter__', '__le__', '__len__', '__lt__', '__missing__', '__module__', '__ne__', '__neg__', '__new__', '__or__', '__pos__', '__reduce__', '__reduce_ex__', '__repr__', '__reversed__', '__setattr__', '__setitem__', '__sizeof__', '__str__', '__sub__', '__subclasshook__', '__weakref__', '_keep_positive', 'clear', 'copy', 'elements', 'fromkeys', 'get', 'items', 'keys', 'most_common', 'pop', 'popitem', 'setdefault', 'subtract', 'update', 'values']\n",
            "clear\n",
            "copy\n",
            "elements\n",
            "fromkeys\n",
            "get\n",
            "items\n",
            "keys\n",
            "most_common\n",
            "pop\n",
            "popitem\n",
            "setdefault\n",
            "subtract\n",
            "update\n",
            "values\n"
          ]
        }
      ]
    },
    {
      "cell_type": "code",
      "source": [
        "from collections import *\n",
        "print(dir(defaultdict))\n",
        "for i in dir(defaultdict):\n",
        "  if not i.startswith(\"_\"):\n",
        "    print(i)"
      ],
      "metadata": {
        "colab": {
          "base_uri": "https://localhost:8080/"
        },
        "id": "aQ9dvD3x_Qvt",
        "outputId": "c7866e70-1cd2-405a-e1ae-88880f171a24"
      },
      "execution_count": null,
      "outputs": [
        {
          "output_type": "stream",
          "name": "stdout",
          "text": [
            "['__class__', '__contains__', '__copy__', '__delattr__', '__delitem__', '__dir__', '__doc__', '__eq__', '__format__', '__ge__', '__getattribute__', '__getitem__', '__gt__', '__hash__', '__init__', '__init_subclass__', '__iter__', '__le__', '__len__', '__lt__', '__missing__', '__ne__', '__new__', '__reduce__', '__reduce_ex__', '__repr__', '__reversed__', '__setattr__', '__setitem__', '__sizeof__', '__str__', '__subclasshook__', 'clear', 'copy', 'default_factory', 'fromkeys', 'get', 'items', 'keys', 'pop', 'popitem', 'setdefault', 'update', 'values']\n",
            "clear\n",
            "copy\n",
            "default_factory\n",
            "fromkeys\n",
            "get\n",
            "items\n",
            "keys\n",
            "pop\n",
            "popitem\n",
            "setdefault\n",
            "update\n",
            "values\n"
          ]
        }
      ]
    },
    {
      "cell_type": "markdown",
      "source": [
        "# itertools module"
      ],
      "metadata": {
        "id": "yRq_CKVuGBJc"
      }
    },
    {
      "cell_type": "code",
      "source": [
        "import itertools\n",
        "help(itertools)"
      ],
      "metadata": {
        "colab": {
          "base_uri": "https://localhost:8080/"
        },
        "id": "wQpDGIPdlwu-",
        "outputId": "ed9ae68b-b077-42c1-837f-a703629ace90"
      },
      "execution_count": null,
      "outputs": [
        {
          "output_type": "stream",
          "name": "stdout",
          "text": [
            "Help on built-in module itertools:\n",
            "\n",
            "NAME\n",
            "    itertools - Functional tools for creating and using iterators.\n",
            "\n",
            "DESCRIPTION\n",
            "    Infinite iterators:\n",
            "    count(start=0, step=1) --> start, start+step, start+2*step, ...\n",
            "    cycle(p) --> p0, p1, ... plast, p0, p1, ...\n",
            "    repeat(elem [,n]) --> elem, elem, elem, ... endlessly or up to n times\n",
            "    \n",
            "    Iterators terminating on the shortest input sequence:\n",
            "    accumulate(p[, func]) --> p0, p0+p1, p0+p1+p2\n",
            "    chain(p, q, ...) --> p0, p1, ... plast, q0, q1, ...\n",
            "    chain.from_iterable([p, q, ...]) --> p0, p1, ... plast, q0, q1, ...\n",
            "    compress(data, selectors) --> (d[0] if s[0]), (d[1] if s[1]), ...\n",
            "    dropwhile(pred, seq) --> seq[n], seq[n+1], starting when pred fails\n",
            "    groupby(iterable[, keyfunc]) --> sub-iterators grouped by value of keyfunc(v)\n",
            "    filterfalse(pred, seq) --> elements of seq where pred(elem) is False\n",
            "    islice(seq, [start,] stop [, step]) --> elements from\n",
            "           seq[start:stop:step]\n",
            "    starmap(fun, seq) --> fun(*seq[0]), fun(*seq[1]), ...\n",
            "    tee(it, n=2) --> (it1, it2 , ... itn) splits one iterator into n\n",
            "    takewhile(pred, seq) --> seq[0], seq[1], until pred fails\n",
            "    zip_longest(p, q, ...) --> (p[0], q[0]), (p[1], q[1]), ...\n",
            "    \n",
            "    Combinatoric generators:\n",
            "    product(p, q, ... [repeat=1]) --> cartesian product\n",
            "    permutations(p[, r])\n",
            "    combinations(p, r)\n",
            "    combinations_with_replacement(p, r)\n",
            "\n",
            "CLASSES\n",
            "    builtins.object\n",
            "        accumulate\n",
            "        chain\n",
            "        combinations\n",
            "        combinations_with_replacement\n",
            "        compress\n",
            "        count\n",
            "        cycle\n",
            "        dropwhile\n",
            "        filterfalse\n",
            "        groupby\n",
            "        islice\n",
            "        permutations\n",
            "        product\n",
            "        repeat\n",
            "        starmap\n",
            "        takewhile\n",
            "        zip_longest\n",
            "    \n",
            "    class accumulate(builtins.object)\n",
            "     |  accumulate(iterable, func=None, *, initial=None)\n",
            "     |  \n",
            "     |  Return series of accumulated sums (or other binary function results).\n",
            "     |  \n",
            "     |  Methods defined here:\n",
            "     |  \n",
            "     |  __getattribute__(self, name, /)\n",
            "     |      Return getattr(self, name).\n",
            "     |  \n",
            "     |  __iter__(self, /)\n",
            "     |      Implement iter(self).\n",
            "     |  \n",
            "     |  __next__(self, /)\n",
            "     |      Implement next(self).\n",
            "     |  \n",
            "     |  __reduce__(...)\n",
            "     |      Return state information for pickling.\n",
            "     |  \n",
            "     |  __setstate__(...)\n",
            "     |      Set state information for unpickling.\n",
            "     |  \n",
            "     |  ----------------------------------------------------------------------\n",
            "     |  Static methods defined here:\n",
            "     |  \n",
            "     |  __new__(*args, **kwargs) from builtins.type\n",
            "     |      Create and return a new object.  See help(type) for accurate signature.\n",
            "    \n",
            "    class chain(builtins.object)\n",
            "     |  chain(*iterables) --> chain object\n",
            "     |  \n",
            "     |  Return a chain object whose .__next__() method returns elements from the\n",
            "     |  first iterable until it is exhausted, then elements from the next\n",
            "     |  iterable, until all of the iterables are exhausted.\n",
            "     |  \n",
            "     |  Methods defined here:\n",
            "     |  \n",
            "     |  __getattribute__(self, name, /)\n",
            "     |      Return getattr(self, name).\n",
            "     |  \n",
            "     |  __iter__(self, /)\n",
            "     |      Implement iter(self).\n",
            "     |  \n",
            "     |  __next__(self, /)\n",
            "     |      Implement next(self).\n",
            "     |  \n",
            "     |  __reduce__(...)\n",
            "     |      Return state information for pickling.\n",
            "     |  \n",
            "     |  __setstate__(...)\n",
            "     |      Set state information for unpickling.\n",
            "     |  \n",
            "     |  ----------------------------------------------------------------------\n",
            "     |  Class methods defined here:\n",
            "     |  \n",
            "     |  from_iterable(iterable, /) from builtins.type\n",
            "     |      Alternative chain() constructor taking a single iterable argument that evaluates lazily.\n",
            "     |  \n",
            "     |  ----------------------------------------------------------------------\n",
            "     |  Static methods defined here:\n",
            "     |  \n",
            "     |  __new__(*args, **kwargs) from builtins.type\n",
            "     |      Create and return a new object.  See help(type) for accurate signature.\n",
            "    \n",
            "    class combinations(builtins.object)\n",
            "     |  combinations(iterable, r)\n",
            "     |  \n",
            "     |  Return successive r-length combinations of elements in the iterable.\n",
            "     |  \n",
            "     |  combinations(range(4), 3) --> (0,1,2), (0,1,3), (0,2,3), (1,2,3)\n",
            "     |  \n",
            "     |  Methods defined here:\n",
            "     |  \n",
            "     |  __getattribute__(self, name, /)\n",
            "     |      Return getattr(self, name).\n",
            "     |  \n",
            "     |  __iter__(self, /)\n",
            "     |      Implement iter(self).\n",
            "     |  \n",
            "     |  __next__(self, /)\n",
            "     |      Implement next(self).\n",
            "     |  \n",
            "     |  __reduce__(...)\n",
            "     |      Return state information for pickling.\n",
            "     |  \n",
            "     |  __setstate__(...)\n",
            "     |      Set state information for unpickling.\n",
            "     |  \n",
            "     |  __sizeof__(...)\n",
            "     |      Returns size in memory, in bytes.\n",
            "     |  \n",
            "     |  ----------------------------------------------------------------------\n",
            "     |  Static methods defined here:\n",
            "     |  \n",
            "     |  __new__(*args, **kwargs) from builtins.type\n",
            "     |      Create and return a new object.  See help(type) for accurate signature.\n",
            "    \n",
            "    class combinations_with_replacement(builtins.object)\n",
            "     |  combinations_with_replacement(iterable, r)\n",
            "     |  \n",
            "     |  Return successive r-length combinations of elements in the iterable allowing individual elements to have successive repeats.\n",
            "     |  \n",
            "     |  combinations_with_replacement('ABC', 2) --> AA AB AC BB BC CC\"\n",
            "     |  \n",
            "     |  Methods defined here:\n",
            "     |  \n",
            "     |  __getattribute__(self, name, /)\n",
            "     |      Return getattr(self, name).\n",
            "     |  \n",
            "     |  __iter__(self, /)\n",
            "     |      Implement iter(self).\n",
            "     |  \n",
            "     |  __next__(self, /)\n",
            "     |      Implement next(self).\n",
            "     |  \n",
            "     |  __reduce__(...)\n",
            "     |      Return state information for pickling.\n",
            "     |  \n",
            "     |  __setstate__(...)\n",
            "     |      Set state information for unpickling.\n",
            "     |  \n",
            "     |  __sizeof__(...)\n",
            "     |      Returns size in memory, in bytes.\n",
            "     |  \n",
            "     |  ----------------------------------------------------------------------\n",
            "     |  Static methods defined here:\n",
            "     |  \n",
            "     |  __new__(*args, **kwargs) from builtins.type\n",
            "     |      Create and return a new object.  See help(type) for accurate signature.\n",
            "    \n",
            "    class compress(builtins.object)\n",
            "     |  compress(data, selectors)\n",
            "     |  \n",
            "     |  Return data elements corresponding to true selector elements.\n",
            "     |  \n",
            "     |  Forms a shorter iterator from selected data elements using the selectors to\n",
            "     |  choose the data elements.\n",
            "     |  \n",
            "     |  Methods defined here:\n",
            "     |  \n",
            "     |  __getattribute__(self, name, /)\n",
            "     |      Return getattr(self, name).\n",
            "     |  \n",
            "     |  __iter__(self, /)\n",
            "     |      Implement iter(self).\n",
            "     |  \n",
            "     |  __next__(self, /)\n",
            "     |      Implement next(self).\n",
            "     |  \n",
            "     |  __reduce__(...)\n",
            "     |      Return state information for pickling.\n",
            "     |  \n",
            "     |  ----------------------------------------------------------------------\n",
            "     |  Static methods defined here:\n",
            "     |  \n",
            "     |  __new__(*args, **kwargs) from builtins.type\n",
            "     |      Create and return a new object.  See help(type) for accurate signature.\n",
            "    \n",
            "    class count(builtins.object)\n",
            "     |  count(start=0, step=1)\n",
            "     |  \n",
            "     |  Return a count object whose .__next__() method returns consecutive values.\n",
            "     |  \n",
            "     |  Equivalent to:\n",
            "     |      def count(firstval=0, step=1):\n",
            "     |          x = firstval\n",
            "     |          while 1:\n",
            "     |              yield x\n",
            "     |              x += step\n",
            "     |  \n",
            "     |  Methods defined here:\n",
            "     |  \n",
            "     |  __getattribute__(self, name, /)\n",
            "     |      Return getattr(self, name).\n",
            "     |  \n",
            "     |  __iter__(self, /)\n",
            "     |      Implement iter(self).\n",
            "     |  \n",
            "     |  __next__(self, /)\n",
            "     |      Implement next(self).\n",
            "     |  \n",
            "     |  __reduce__(...)\n",
            "     |      Return state information for pickling.\n",
            "     |  \n",
            "     |  __repr__(self, /)\n",
            "     |      Return repr(self).\n",
            "     |  \n",
            "     |  ----------------------------------------------------------------------\n",
            "     |  Static methods defined here:\n",
            "     |  \n",
            "     |  __new__(*args, **kwargs) from builtins.type\n",
            "     |      Create and return a new object.  See help(type) for accurate signature.\n",
            "    \n",
            "    class cycle(builtins.object)\n",
            "     |  cycle(iterable, /)\n",
            "     |  \n",
            "     |  Return elements from the iterable until it is exhausted. Then repeat the sequence indefinitely.\n",
            "     |  \n",
            "     |  Methods defined here:\n",
            "     |  \n",
            "     |  __getattribute__(self, name, /)\n",
            "     |      Return getattr(self, name).\n",
            "     |  \n",
            "     |  __iter__(self, /)\n",
            "     |      Implement iter(self).\n",
            "     |  \n",
            "     |  __next__(self, /)\n",
            "     |      Implement next(self).\n",
            "     |  \n",
            "     |  __reduce__(...)\n",
            "     |      Return state information for pickling.\n",
            "     |  \n",
            "     |  __setstate__(...)\n",
            "     |      Set state information for unpickling.\n",
            "     |  \n",
            "     |  ----------------------------------------------------------------------\n",
            "     |  Static methods defined here:\n",
            "     |  \n",
            "     |  __new__(*args, **kwargs) from builtins.type\n",
            "     |      Create and return a new object.  See help(type) for accurate signature.\n",
            "    \n",
            "    class dropwhile(builtins.object)\n",
            "     |  dropwhile(predicate, iterable, /)\n",
            "     |  \n",
            "     |  Drop items from the iterable while predicate(item) is true.\n",
            "     |  \n",
            "     |  Afterwards, return every element until the iterable is exhausted.\n",
            "     |  \n",
            "     |  Methods defined here:\n",
            "     |  \n",
            "     |  __getattribute__(self, name, /)\n",
            "     |      Return getattr(self, name).\n",
            "     |  \n",
            "     |  __iter__(self, /)\n",
            "     |      Implement iter(self).\n",
            "     |  \n",
            "     |  __next__(self, /)\n",
            "     |      Implement next(self).\n",
            "     |  \n",
            "     |  __reduce__(...)\n",
            "     |      Return state information for pickling.\n",
            "     |  \n",
            "     |  __setstate__(...)\n",
            "     |      Set state information for unpickling.\n",
            "     |  \n",
            "     |  ----------------------------------------------------------------------\n",
            "     |  Static methods defined here:\n",
            "     |  \n",
            "     |  __new__(*args, **kwargs) from builtins.type\n",
            "     |      Create and return a new object.  See help(type) for accurate signature.\n",
            "    \n",
            "    class filterfalse(builtins.object)\n",
            "     |  filterfalse(function, iterable, /)\n",
            "     |  \n",
            "     |  Return those items of iterable for which function(item) is false.\n",
            "     |  \n",
            "     |  If function is None, return the items that are false.\n",
            "     |  \n",
            "     |  Methods defined here:\n",
            "     |  \n",
            "     |  __getattribute__(self, name, /)\n",
            "     |      Return getattr(self, name).\n",
            "     |  \n",
            "     |  __iter__(self, /)\n",
            "     |      Implement iter(self).\n",
            "     |  \n",
            "     |  __next__(self, /)\n",
            "     |      Implement next(self).\n",
            "     |  \n",
            "     |  __reduce__(...)\n",
            "     |      Return state information for pickling.\n",
            "     |  \n",
            "     |  ----------------------------------------------------------------------\n",
            "     |  Static methods defined here:\n",
            "     |  \n",
            "     |  __new__(*args, **kwargs) from builtins.type\n",
            "     |      Create and return a new object.  See help(type) for accurate signature.\n",
            "    \n",
            "    class groupby(builtins.object)\n",
            "     |  groupby(iterable, key=None)\n",
            "     |  \n",
            "     |  make an iterator that returns consecutive keys and groups from the iterable\n",
            "     |  \n",
            "     |  iterable\n",
            "     |    Elements to divide into groups according to the key function.\n",
            "     |  key\n",
            "     |    A function for computing the group category for each element.\n",
            "     |    If the key function is not specified or is None, the element itself\n",
            "     |    is used for grouping.\n",
            "     |  \n",
            "     |  Methods defined here:\n",
            "     |  \n",
            "     |  __getattribute__(self, name, /)\n",
            "     |      Return getattr(self, name).\n",
            "     |  \n",
            "     |  __iter__(self, /)\n",
            "     |      Implement iter(self).\n",
            "     |  \n",
            "     |  __next__(self, /)\n",
            "     |      Implement next(self).\n",
            "     |  \n",
            "     |  __reduce__(...)\n",
            "     |      Return state information for pickling.\n",
            "     |  \n",
            "     |  __setstate__(...)\n",
            "     |      Set state information for unpickling.\n",
            "     |  \n",
            "     |  ----------------------------------------------------------------------\n",
            "     |  Static methods defined here:\n",
            "     |  \n",
            "     |  __new__(*args, **kwargs) from builtins.type\n",
            "     |      Create and return a new object.  See help(type) for accurate signature.\n",
            "    \n",
            "    class islice(builtins.object)\n",
            "     |  islice(iterable, stop) --> islice object\n",
            "     |  islice(iterable, start, stop[, step]) --> islice object\n",
            "     |  \n",
            "     |  Return an iterator whose next() method returns selected values from an\n",
            "     |  iterable.  If start is specified, will skip all preceding elements;\n",
            "     |  otherwise, start defaults to zero.  Step defaults to one.  If\n",
            "     |  specified as another value, step determines how many values are\n",
            "     |  skipped between successive calls.  Works like a slice() on a list\n",
            "     |  but returns an iterator.\n",
            "     |  \n",
            "     |  Methods defined here:\n",
            "     |  \n",
            "     |  __getattribute__(self, name, /)\n",
            "     |      Return getattr(self, name).\n",
            "     |  \n",
            "     |  __iter__(self, /)\n",
            "     |      Implement iter(self).\n",
            "     |  \n",
            "     |  __next__(self, /)\n",
            "     |      Implement next(self).\n",
            "     |  \n",
            "     |  __reduce__(...)\n",
            "     |      Return state information for pickling.\n",
            "     |  \n",
            "     |  __setstate__(...)\n",
            "     |      Set state information for unpickling.\n",
            "     |  \n",
            "     |  ----------------------------------------------------------------------\n",
            "     |  Static methods defined here:\n",
            "     |  \n",
            "     |  __new__(*args, **kwargs) from builtins.type\n",
            "     |      Create and return a new object.  See help(type) for accurate signature.\n",
            "    \n",
            "    class permutations(builtins.object)\n",
            "     |  permutations(iterable, r=None)\n",
            "     |  \n",
            "     |  Return successive r-length permutations of elements in the iterable.\n",
            "     |  \n",
            "     |  permutations(range(3), 2) --> (0,1), (0,2), (1,0), (1,2), (2,0), (2,1)\n",
            "     |  \n",
            "     |  Methods defined here:\n",
            "     |  \n",
            "     |  __getattribute__(self, name, /)\n",
            "     |      Return getattr(self, name).\n",
            "     |  \n",
            "     |  __iter__(self, /)\n",
            "     |      Implement iter(self).\n",
            "     |  \n",
            "     |  __next__(self, /)\n",
            "     |      Implement next(self).\n",
            "     |  \n",
            "     |  __reduce__(...)\n",
            "     |      Return state information for pickling.\n",
            "     |  \n",
            "     |  __setstate__(...)\n",
            "     |      Set state information for unpickling.\n",
            "     |  \n",
            "     |  __sizeof__(...)\n",
            "     |      Returns size in memory, in bytes.\n",
            "     |  \n",
            "     |  ----------------------------------------------------------------------\n",
            "     |  Static methods defined here:\n",
            "     |  \n",
            "     |  __new__(*args, **kwargs) from builtins.type\n",
            "     |      Create and return a new object.  See help(type) for accurate signature.\n",
            "    \n",
            "    class product(builtins.object)\n",
            "     |  product(*iterables, repeat=1) --> product object\n",
            "     |  \n",
            "     |  Cartesian product of input iterables.  Equivalent to nested for-loops.\n",
            "     |  \n",
            "     |  For example, product(A, B) returns the same as:  ((x,y) for x in A for y in B).\n",
            "     |  The leftmost iterators are in the outermost for-loop, so the output tuples\n",
            "     |  cycle in a manner similar to an odometer (with the rightmost element changing\n",
            "     |  on every iteration).\n",
            "     |  \n",
            "     |  To compute the product of an iterable with itself, specify the number\n",
            "     |  of repetitions with the optional repeat keyword argument. For example,\n",
            "     |  product(A, repeat=4) means the same as product(A, A, A, A).\n",
            "     |  \n",
            "     |  product('ab', range(3)) --> ('a',0) ('a',1) ('a',2) ('b',0) ('b',1) ('b',2)\n",
            "     |  product((0,1), (0,1), (0,1)) --> (0,0,0) (0,0,1) (0,1,0) (0,1,1) (1,0,0) ...\n",
            "     |  \n",
            "     |  Methods defined here:\n",
            "     |  \n",
            "     |  __getattribute__(self, name, /)\n",
            "     |      Return getattr(self, name).\n",
            "     |  \n",
            "     |  __iter__(self, /)\n",
            "     |      Implement iter(self).\n",
            "     |  \n",
            "     |  __next__(self, /)\n",
            "     |      Implement next(self).\n",
            "     |  \n",
            "     |  __reduce__(...)\n",
            "     |      Return state information for pickling.\n",
            "     |  \n",
            "     |  __setstate__(...)\n",
            "     |      Set state information for unpickling.\n",
            "     |  \n",
            "     |  __sizeof__(...)\n",
            "     |      Returns size in memory, in bytes.\n",
            "     |  \n",
            "     |  ----------------------------------------------------------------------\n",
            "     |  Static methods defined here:\n",
            "     |  \n",
            "     |  __new__(*args, **kwargs) from builtins.type\n",
            "     |      Create and return a new object.  See help(type) for accurate signature.\n",
            "    \n",
            "    class repeat(builtins.object)\n",
            "     |  repeat(object [,times]) -> create an iterator which returns the object\n",
            "     |  for the specified number of times.  If not specified, returns the object\n",
            "     |  endlessly.\n",
            "     |  \n",
            "     |  Methods defined here:\n",
            "     |  \n",
            "     |  __getattribute__(self, name, /)\n",
            "     |      Return getattr(self, name).\n",
            "     |  \n",
            "     |  __iter__(self, /)\n",
            "     |      Implement iter(self).\n",
            "     |  \n",
            "     |  __length_hint__(...)\n",
            "     |      Private method returning an estimate of len(list(it)).\n",
            "     |  \n",
            "     |  __next__(self, /)\n",
            "     |      Implement next(self).\n",
            "     |  \n",
            "     |  __reduce__(...)\n",
            "     |      Return state information for pickling.\n",
            "     |  \n",
            "     |  __repr__(self, /)\n",
            "     |      Return repr(self).\n",
            "     |  \n",
            "     |  ----------------------------------------------------------------------\n",
            "     |  Static methods defined here:\n",
            "     |  \n",
            "     |  __new__(*args, **kwargs) from builtins.type\n",
            "     |      Create and return a new object.  See help(type) for accurate signature.\n",
            "    \n",
            "    class starmap(builtins.object)\n",
            "     |  starmap(function, iterable, /)\n",
            "     |  \n",
            "     |  Return an iterator whose values are returned from the function evaluated with an argument tuple taken from the given sequence.\n",
            "     |  \n",
            "     |  Methods defined here:\n",
            "     |  \n",
            "     |  __getattribute__(self, name, /)\n",
            "     |      Return getattr(self, name).\n",
            "     |  \n",
            "     |  __iter__(self, /)\n",
            "     |      Implement iter(self).\n",
            "     |  \n",
            "     |  __next__(self, /)\n",
            "     |      Implement next(self).\n",
            "     |  \n",
            "     |  __reduce__(...)\n",
            "     |      Return state information for pickling.\n",
            "     |  \n",
            "     |  ----------------------------------------------------------------------\n",
            "     |  Static methods defined here:\n",
            "     |  \n",
            "     |  __new__(*args, **kwargs) from builtins.type\n",
            "     |      Create and return a new object.  See help(type) for accurate signature.\n",
            "    \n",
            "    class takewhile(builtins.object)\n",
            "     |  takewhile(predicate, iterable, /)\n",
            "     |  \n",
            "     |  Return successive entries from an iterable as long as the predicate evaluates to true for each entry.\n",
            "     |  \n",
            "     |  Methods defined here:\n",
            "     |  \n",
            "     |  __getattribute__(self, name, /)\n",
            "     |      Return getattr(self, name).\n",
            "     |  \n",
            "     |  __iter__(self, /)\n",
            "     |      Implement iter(self).\n",
            "     |  \n",
            "     |  __next__(self, /)\n",
            "     |      Implement next(self).\n",
            "     |  \n",
            "     |  __reduce__(...)\n",
            "     |      Return state information for pickling.\n",
            "     |  \n",
            "     |  __setstate__(...)\n",
            "     |      Set state information for unpickling.\n",
            "     |  \n",
            "     |  ----------------------------------------------------------------------\n",
            "     |  Static methods defined here:\n",
            "     |  \n",
            "     |  __new__(*args, **kwargs) from builtins.type\n",
            "     |      Create and return a new object.  See help(type) for accurate signature.\n",
            "    \n",
            "    class zip_longest(builtins.object)\n",
            "     |  zip_longest(iter1 [,iter2 [...]], [fillvalue=None]) --> zip_longest object\n",
            "     |  \n",
            "     |  Return a zip_longest object whose .__next__() method returns a tuple where\n",
            "     |  the i-th element comes from the i-th iterable argument.  The .__next__()\n",
            "     |  method continues until the longest iterable in the argument sequence\n",
            "     |  is exhausted and then it raises StopIteration.  When the shorter iterables\n",
            "     |  are exhausted, the fillvalue is substituted in their place.  The fillvalue\n",
            "     |  defaults to None or can be specified by a keyword argument.\n",
            "     |  \n",
            "     |  Methods defined here:\n",
            "     |  \n",
            "     |  __getattribute__(self, name, /)\n",
            "     |      Return getattr(self, name).\n",
            "     |  \n",
            "     |  __iter__(self, /)\n",
            "     |      Implement iter(self).\n",
            "     |  \n",
            "     |  __next__(self, /)\n",
            "     |      Implement next(self).\n",
            "     |  \n",
            "     |  __reduce__(...)\n",
            "     |      Return state information for pickling.\n",
            "     |  \n",
            "     |  __setstate__(...)\n",
            "     |      Set state information for unpickling.\n",
            "     |  \n",
            "     |  ----------------------------------------------------------------------\n",
            "     |  Static methods defined here:\n",
            "     |  \n",
            "     |  __new__(*args, **kwargs) from builtins.type\n",
            "     |      Create and return a new object.  See help(type) for accurate signature.\n",
            "\n",
            "FUNCTIONS\n",
            "    tee(iterable, n=2, /)\n",
            "        Returns a tuple of n independent iterators.\n",
            "\n",
            "FILE\n",
            "    (built-in)\n",
            "\n",
            "\n"
          ]
        }
      ]
    },
    {
      "cell_type": "code",
      "source": [
        "import itertools\n",
        "print(dir(itertools))\n",
        "for i in dir(itertools):\n",
        "  if not i.startswith(\"_\"):\n",
        "    print(i)"
      ],
      "metadata": {
        "colab": {
          "base_uri": "https://localhost:8080/"
        },
        "id": "Y9OLoP00AeBh",
        "outputId": "8732cbf9-d965-46a8-8d35-abc98f156c91"
      },
      "execution_count": null,
      "outputs": [
        {
          "output_type": "stream",
          "name": "stdout",
          "text": [
            "['__doc__', '__loader__', '__name__', '__package__', '__spec__', '_grouper', '_tee', '_tee_dataobject', 'accumulate', 'chain', 'combinations', 'combinations_with_replacement', 'compress', 'count', 'cycle', 'dropwhile', 'filterfalse', 'groupby', 'islice', 'permutations', 'product', 'repeat', 'starmap', 'takewhile', 'tee', 'zip_longest']\n",
            "accumulate\n",
            "chain\n",
            "combinations\n",
            "combinations_with_replacement\n",
            "compress\n",
            "count\n",
            "cycle\n",
            "dropwhile\n",
            "filterfalse\n",
            "groupby\n",
            "islice\n",
            "permutations\n",
            "product\n",
            "repeat\n",
            "starmap\n",
            "takewhile\n",
            "tee\n",
            "zip_longest\n"
          ]
        }
      ]
    },
    {
      "cell_type": "markdown",
      "source": [
        "## chain"
      ],
      "metadata": {
        "id": "5FL3oY3zGkfb"
      }
    },
    {
      "cell_type": "code",
      "source": [
        "from itertools import chain\n",
        "print(dir(chain))\n",
        "for i in dir(chain):\n",
        "  if not i.startswith(\"_\"):\n",
        "    print(i)"
      ],
      "metadata": {
        "colab": {
          "base_uri": "https://localhost:8080/"
        },
        "id": "jxUCY9LVGkBj",
        "outputId": "0ef30190-d143-40b3-a833-699a7eeed7e8"
      },
      "execution_count": null,
      "outputs": [
        {
          "output_type": "stream",
          "name": "stdout",
          "text": [
            "['__class__', '__delattr__', '__dir__', '__doc__', '__eq__', '__format__', '__ge__', '__getattribute__', '__gt__', '__hash__', '__init__', '__init_subclass__', '__iter__', '__le__', '__lt__', '__ne__', '__new__', '__next__', '__reduce__', '__reduce_ex__', '__repr__', '__setattr__', '__setstate__', '__sizeof__', '__str__', '__subclasshook__', 'from_iterable']\n",
            "from_iterable\n"
          ]
        }
      ]
    },
    {
      "cell_type": "code",
      "source": [
        "help(chain)"
      ],
      "metadata": {
        "colab": {
          "base_uri": "https://localhost:8080/"
        },
        "id": "g3IVcwzYHyc2",
        "outputId": "d7429382-2d0a-4da2-bc0a-53707193a2c4"
      },
      "execution_count": null,
      "outputs": [
        {
          "output_type": "stream",
          "name": "stdout",
          "text": [
            "Help on class chain in module itertools:\n",
            "\n",
            "class chain(builtins.object)\n",
            " |  chain(*iterables) --> chain object\n",
            " |  \n",
            " |  Return a chain object whose .__next__() method returns elements from the\n",
            " |  first iterable until it is exhausted, then elements from the next\n",
            " |  iterable, until all of the iterables are exhausted.\n",
            " |  \n",
            " |  Methods defined here:\n",
            " |  \n",
            " |  __getattribute__(self, name, /)\n",
            " |      Return getattr(self, name).\n",
            " |  \n",
            " |  __iter__(self, /)\n",
            " |      Implement iter(self).\n",
            " |  \n",
            " |  __next__(self, /)\n",
            " |      Implement next(self).\n",
            " |  \n",
            " |  __reduce__(...)\n",
            " |      Return state information for pickling.\n",
            " |  \n",
            " |  __setstate__(...)\n",
            " |      Set state information for unpickling.\n",
            " |  \n",
            " |  ----------------------------------------------------------------------\n",
            " |  Class methods defined here:\n",
            " |  \n",
            " |  from_iterable(iterable, /) from builtins.type\n",
            " |      Alternative chain() constructor taking a single iterable argument that evaluates lazily.\n",
            " |  \n",
            " |  ----------------------------------------------------------------------\n",
            " |  Static methods defined here:\n",
            " |  \n",
            " |  __new__(*args, **kwargs) from builtins.type\n",
            " |      Create and return a new object.  See help(type) for accurate signature.\n",
            "\n"
          ]
        }
      ]
    },
    {
      "cell_type": "code",
      "source": [
        "from itertools import chain\n",
        "x='abc'\n",
        "y='def'\n",
        "z='ghi'\n",
        "for i in x,y,z:\n",
        "  print(i)\n",
        "print(\"!!!!!!!!!!!!!!!!!!!!!!!!!!!!!!!!!!!!\")\n",
        "for i in chain(x,y,z):\n",
        "  print(i)"
      ],
      "metadata": {
        "colab": {
          "base_uri": "https://localhost:8080/"
        },
        "id": "bMkLmC-iGUlc",
        "outputId": "b0357a57-2f62-4e5a-9e27-5274831258c7"
      },
      "execution_count": null,
      "outputs": [
        {
          "output_type": "stream",
          "name": "stdout",
          "text": [
            "abc\n",
            "def\n",
            "ghi\n",
            "!!!!!!!!!!!!!!!!!!!!!!!!!!!!!!!!!!!!\n",
            "a\n",
            "b\n",
            "c\n",
            "d\n",
            "e\n",
            "f\n",
            "g\n",
            "h\n",
            "i\n"
          ]
        }
      ]
    },
    {
      "cell_type": "code",
      "source": [
        "from itertools import chain\n",
        "x='abc'\n",
        "y='efg'\n",
        "z='hij'\n",
        "ar=[x,y,z]\n",
        "\n",
        "for i in ar:\n",
        "  print(i)\n",
        "\n",
        "print(\"!!!!!!!!!!!!!!!!!!!!!\")\n",
        "for i in chain.from_iterable(ar):\n",
        "  print(i)"
      ],
      "metadata": {
        "colab": {
          "base_uri": "https://localhost:8080/"
        },
        "id": "EQmz2AD_U_Vn",
        "outputId": "bb01d532-6786-4672-e931-f8c56e4dbea3"
      },
      "execution_count": null,
      "outputs": [
        {
          "output_type": "stream",
          "name": "stdout",
          "text": [
            "abc\n",
            "efg\n",
            "hij\n",
            "!!!!!!!!!!!!!!!!!!!!!\n",
            "a\n",
            "b\n",
            "c\n",
            "e\n",
            "f\n",
            "g\n",
            "h\n",
            "i\n",
            "j\n"
          ]
        }
      ]
    },
    {
      "cell_type": "markdown",
      "source": [
        "## combinations"
      ],
      "metadata": {
        "id": "gx7zrgIcV1G6"
      }
    },
    {
      "cell_type": "code",
      "source": [
        "from itertools import combinations as com\n",
        "l='abcdefg'\n",
        "x=com(l,3)\n",
        "print(x)\n",
        "y=[i for i in x]\n",
        "print(y)\n",
        "z=[i for i in x]#############################################\n",
        "print(z)\n",
        "b=[i for i in x]\n",
        "print(b)\n",
        "g=com(l,3)\n",
        "c=[\"\".join(i) for i in g]\n",
        "print(c)\n",
        "print(len(c))"
      ],
      "metadata": {
        "colab": {
          "base_uri": "https://localhost:8080/"
        },
        "id": "1XeUpecbWzup",
        "outputId": "e466c798-b58b-4bda-827c-e5ef9ccd98db"
      },
      "execution_count": null,
      "outputs": [
        {
          "output_type": "stream",
          "name": "stdout",
          "text": [
            "<itertools.combinations object at 0x7f092c693680>\n",
            "[('a', 'b', 'c'), ('a', 'b', 'd'), ('a', 'b', 'e'), ('a', 'b', 'f'), ('a', 'b', 'g'), ('a', 'c', 'd'), ('a', 'c', 'e'), ('a', 'c', 'f'), ('a', 'c', 'g'), ('a', 'd', 'e'), ('a', 'd', 'f'), ('a', 'd', 'g'), ('a', 'e', 'f'), ('a', 'e', 'g'), ('a', 'f', 'g'), ('b', 'c', 'd'), ('b', 'c', 'e'), ('b', 'c', 'f'), ('b', 'c', 'g'), ('b', 'd', 'e'), ('b', 'd', 'f'), ('b', 'd', 'g'), ('b', 'e', 'f'), ('b', 'e', 'g'), ('b', 'f', 'g'), ('c', 'd', 'e'), ('c', 'd', 'f'), ('c', 'd', 'g'), ('c', 'e', 'f'), ('c', 'e', 'g'), ('c', 'f', 'g'), ('d', 'e', 'f'), ('d', 'e', 'g'), ('d', 'f', 'g'), ('e', 'f', 'g')]\n",
            "[]\n",
            "[]\n",
            "['abc', 'abd', 'abe', 'abf', 'abg', 'acd', 'ace', 'acf', 'acg', 'ade', 'adf', 'adg', 'aef', 'aeg', 'afg', 'bcd', 'bce', 'bcf', 'bcg', 'bde', 'bdf', 'bdg', 'bef', 'beg', 'bfg', 'cde', 'cdf', 'cdg', 'cef', 'ceg', 'cfg', 'def', 'deg', 'dfg', 'efg']\n",
            "35\n"
          ]
        }
      ]
    },
    {
      "cell_type": "markdown",
      "source": [
        "accumulate"
      ],
      "metadata": {
        "id": "bR8ap5BrUq_1"
      }
    },
    {
      "cell_type": "code",
      "source": [
        "from itertools import accumulate\n",
        "import operator\n",
        "x=list(range(1,7))\n",
        "print(x)\n",
        "y=accumulate(x,operator.add)\n",
        "print(y)\n",
        "print(list(y))\n",
        "z=list(accumulate(x,operator.mul))\n",
        "print(z)"
      ],
      "metadata": {
        "colab": {
          "base_uri": "https://localhost:8080/"
        },
        "id": "VWdMOa5xITZl",
        "outputId": "8a157de7-f1f3-4aa3-d509-3fd2352aa0cb"
      },
      "execution_count": null,
      "outputs": [
        {
          "output_type": "stream",
          "name": "stdout",
          "text": [
            "[1, 2, 3, 4, 5, 6]\n",
            "<itertools.accumulate object at 0x7f092c6819c0>\n",
            "[1, 3, 6, 10, 15, 21]\n",
            "[1, 2, 6, 24, 120, 720]\n"
          ]
        }
      ]
    },
    {
      "cell_type": "markdown",
      "source": [
        "##count\n"
      ],
      "metadata": {
        "id": "Uhrlt7qwgX27"
      }
    },
    {
      "cell_type": "code",
      "source": [
        "from itertools import count\n",
        "x=count(1)\n",
        "print(x)\n",
        "print(next(x))\n",
        "print(x)\n",
        "print(next(x))\n",
        "print(x)\n",
        "print(next(x))\n"
      ],
      "metadata": {
        "colab": {
          "base_uri": "https://localhost:8080/"
        },
        "id": "xK2UXHJBeo2B",
        "outputId": "5646c5d3-f5ed-476b-bbec-910ce10d7715"
      },
      "execution_count": null,
      "outputs": [
        {
          "output_type": "stream",
          "name": "stdout",
          "text": [
            "count(1)\n",
            "1\n",
            "count(2)\n",
            "2\n",
            "count(3)\n",
            "3\n"
          ]
        }
      ]
    },
    {
      "cell_type": "code",
      "source": [
        "'''\n",
        "     1\n",
        "  2  3  4\n",
        "5 6  7  8  9\n",
        "\n",
        "'''\n",
        "from itertools import count\n",
        "start=count(1,2)\n",
        "num=count(1)\n",
        "for i in range(3):\n",
        "  print(('  ')*(3-i),end='')\n",
        "  for j in range(next(start)):\n",
        "    print(next(num),end=\" \")\n",
        "  print()\n"
      ],
      "metadata": {
        "colab": {
          "base_uri": "https://localhost:8080/"
        },
        "id": "6dEctdgtgs6z",
        "outputId": "8d146369-181a-4e38-d0b8-ce25ee9a75f8"
      },
      "execution_count": null,
      "outputs": [
        {
          "output_type": "stream",
          "name": "stdout",
          "text": [
            "      1 \n",
            "    2 3 4 \n",
            "  5 6 7 8 9 \n"
          ]
        }
      ]
    },
    {
      "cell_type": "markdown",
      "source": [
        "##compress"
      ],
      "metadata": {
        "id": "0yy8aRmijprU"
      }
    },
    {
      "cell_type": "code",
      "source": [
        "from itertools import compress \n",
        "le='abcdefg'\n",
        "need=[1,0,0,0,1,0,0]\n",
        "new=compress(le,need)\n",
        "print(new)\n",
        "print(list(new))\n",
        "print(list(new))\n",
        "print(new)\n",
        "print(list(new))\n",
        "new=compress(le,need)\n",
        "print(\"\".join(new))"
      ],
      "metadata": {
        "colab": {
          "base_uri": "https://localhost:8080/"
        },
        "id": "_mvJDgAYiv06",
        "outputId": "f48d2874-0e6a-40f1-eb76-e0fef863e0e2"
      },
      "execution_count": null,
      "outputs": [
        {
          "output_type": "stream",
          "name": "stdout",
          "text": [
            "<itertools.compress object at 0x7f3ecd458280>\n",
            "['a', 'e']\n",
            "[]\n",
            "<itertools.compress object at 0x7f3ecd458280>\n",
            "[]\n",
            "ae\n"
          ]
        }
      ]
    },
    {
      "cell_type": "code",
      "source": [],
      "metadata": {
        "id": "BJA5mtmjkO7y"
      },
      "execution_count": null,
      "outputs": []
    },
    {
      "cell_type": "markdown",
      "source": [
        "##islice"
      ],
      "metadata": {
        "id": "syKp5tgLbsdg"
      }
    },
    {
      "cell_type": "code",
      "source": [
        "from multipledispatch.utils import groupby\n",
        "from itertools import islice as slice\n",
        "student =['tom','pete','sam','john','poul']\n",
        "group_1=slice(student,0,len(student),2)\n",
        "group_2=slice(student,1,len(student),2)\n",
        "print(group_1)\n",
        "print(next(group_1))\n",
        "print(next(group_1))\n",
        "print(group_2)\n",
        "print(next(group_2))\n",
        "print(group_2)\n",
        "print(next(group_2))"
      ],
      "metadata": {
        "colab": {
          "base_uri": "https://localhost:8080/"
        },
        "id": "2GDDg9W3c-qL",
        "outputId": "668d5620-9aed-487b-9c58-f5f1e0b62195"
      },
      "execution_count": null,
      "outputs": [
        {
          "output_type": "stream",
          "name": "stdout",
          "text": [
            "<itertools.islice object at 0x7f3ead7c31d0>\n",
            "tom\n",
            "sam\n",
            "<itertools.islice object at 0x7f3ead7b7f90>\n",
            "pete\n",
            "<itertools.islice object at 0x7f3ead7b7f90>\n",
            "john\n"
          ]
        }
      ]
    },
    {
      "cell_type": "markdown",
      "source": [
        "##product"
      ],
      "metadata": {
        "id": "0546D7pdfH1X"
      }
    },
    {
      "cell_type": "code",
      "source": [
        "from itertools import product\n",
        "for i in product('ab',range(3)):\n",
        "  print(i)\n",
        "\n",
        "print(\"!!!!!!!!!!!!!!!!!!!!!!!!!!!!\")\n",
        "for i in product((0,1),(0,1),(0,1)):\n",
        "  print(i)\n",
        "\n",
        "print(\"!!!!!!!!!!!!!!!!!!!!!!!!!!!!!\")\n",
        "for i in product(\"A\",repeat=3):\n",
        "  print(i)\n",
        "print(\"!!!!!!!!!!!!!!!!!!!!!!!!!!!!!!!!\")\n",
        "for i in product((0,1)):\n",
        "  print(i)\n",
        "print(\"!!!!!!!!!!!!!!!!!!!!!!!!!!!!!!!!!!!\")\n",
        "for i in product((0,1),(0,1)):\n",
        "  print(i)\n",
        "print(\"!!!!!!!!!!!!!!!!!!!!!!!!!!!!!!!!!!!!!!!\")\n",
        "for i in product((0,1),(2,3)):\n",
        "  print(i)\n",
        "print('!!!!!!!!!!!!!!!!!!!!!!!!!!!!')\n",
        "for i in product((0,1),(2,3),(4,5)):\n",
        "  print(i)\n",
        "print('!!!!!!!!!!!!!!!!!!!!!!!!!!!!!!!!')\n",
        "for i in product((0,1),(2,3,4)):\n",
        "  print(i)\n",
        "print(\"!!!!!!!!!!!!!!!!!!!!!!!!!!!!!!!!!!!\")\n",
        "for i in product((0,1),(2,3,4),(5,6)):\n",
        "  print(i)"
      ],
      "metadata": {
        "colab": {
          "base_uri": "https://localhost:8080/"
        },
        "id": "Ert4FDdWd2c9",
        "outputId": "81025c00-7174-4187-ed2d-bb4c307f5e6a"
      },
      "execution_count": null,
      "outputs": [
        {
          "output_type": "stream",
          "name": "stdout",
          "text": [
            "('a', 0)\n",
            "('a', 1)\n",
            "('a', 2)\n",
            "('b', 0)\n",
            "('b', 1)\n",
            "('b', 2)\n",
            "!!!!!!!!!!!!!!!!!!!!!!!!!!!!\n",
            "(0, 0, 0)\n",
            "(0, 0, 1)\n",
            "(0, 1, 0)\n",
            "(0, 1, 1)\n",
            "(1, 0, 0)\n",
            "(1, 0, 1)\n",
            "(1, 1, 0)\n",
            "(1, 1, 1)\n",
            "!!!!!!!!!!!!!!!!!!!!!!!!!!!!!\n",
            "('A', 'A', 'A')\n",
            "!!!!!!!!!!!!!!!!!!!!!!!!!!!!!!!!\n",
            "(0,)\n",
            "(1,)\n",
            "!!!!!!!!!!!!!!!!!!!!!!!!!!!!!!!!!!!\n",
            "(0, 0)\n",
            "(0, 1)\n",
            "(1, 0)\n",
            "(1, 1)\n",
            "!!!!!!!!!!!!!!!!!!!!!!!!!!!!!!!!!!!!!!!\n",
            "(0, 2)\n",
            "(0, 3)\n",
            "(1, 2)\n",
            "(1, 3)\n",
            "!!!!!!!!!!!!!!!!!!!!!!!!!!!!\n",
            "(0, 2, 4)\n",
            "(0, 2, 5)\n",
            "(0, 3, 4)\n",
            "(0, 3, 5)\n",
            "(1, 2, 4)\n",
            "(1, 2, 5)\n",
            "(1, 3, 4)\n",
            "(1, 3, 5)\n",
            "!!!!!!!!!!!!!!!!!!!!!!!!!!!!!!!!\n",
            "(0, 2)\n",
            "(0, 3)\n",
            "(0, 4)\n",
            "(1, 2)\n",
            "(1, 3)\n",
            "(1, 4)\n",
            "!!!!!!!!!!!!!!!!!!!!!!!!!!!!!!!!!!!\n",
            "(0, 2, 5)\n",
            "(0, 2, 6)\n",
            "(0, 3, 5)\n",
            "(0, 3, 6)\n",
            "(0, 4, 5)\n",
            "(0, 4, 6)\n",
            "(1, 2, 5)\n",
            "(1, 2, 6)\n",
            "(1, 3, 5)\n",
            "(1, 3, 6)\n",
            "(1, 4, 5)\n",
            "(1, 4, 6)\n"
          ]
        }
      ]
    },
    {
      "cell_type": "markdown",
      "source": [
        "##cycle"
      ],
      "metadata": {
        "id": "pbAwBzAGiijW"
      }
    },
    {
      "cell_type": "code",
      "source": [
        "from itertools import cycle\n",
        "\n",
        "st=['ram','hal','rahul','sam','rajesh']\n",
        "num=cycle(range(1,3))\n",
        "print(num)\n",
        "print(next(num))\n",
        "print(next(num))\n",
        "print(next(num))\n",
        "print(next(num))\n",
        "print(next(num))\n",
        "print(next(num))#comment it see what happens ##################\n",
        "team=[(next(num),student) for student in st]\n",
        "print(team)\n",
        "print(next(num))\n",
        "print(team)\n",
        "print('!!!!!!!!!!!!!!!!!!!!!!!!!!!!!!!')\n",
        "print(i for i in team)\n",
        "for i in team:\n",
        "  print(i)"
      ],
      "metadata": {
        "id": "WWWO-svGfe3E",
        "colab": {
          "base_uri": "https://localhost:8080/"
        },
        "outputId": "b43ee6ad-6e7c-46ce-abb4-8fd7cd01cdca"
      },
      "execution_count": null,
      "outputs": [
        {
          "output_type": "stream",
          "name": "stdout",
          "text": [
            "<itertools.cycle object at 0x7f673759c6c0>\n",
            "1\n",
            "2\n",
            "1\n",
            "2\n",
            "1\n",
            "2\n",
            "[(1, 'ram'), (2, 'hal'), (1, 'rahul'), (2, 'sam'), (1, 'rajesh')]\n",
            "2\n",
            "[(1, 'ram'), (2, 'hal'), (1, 'rahul'), (2, 'sam'), (1, 'rajesh')]\n",
            "!!!!!!!!!!!!!!!!!!!!!!!!!!!!!!!\n",
            "<generator object <genexpr> at 0x7f6737556660>\n",
            "(1, 'ram')\n",
            "(2, 'hal')\n",
            "(1, 'rahul')\n",
            "(2, 'sam')\n",
            "(1, 'rajesh')\n"
          ]
        }
      ]
    },
    {
      "cell_type": "code",
      "source": [
        "help(zip)"
      ],
      "metadata": {
        "colab": {
          "base_uri": "https://localhost:8080/"
        },
        "id": "GVomTS9YiwHC",
        "outputId": "b1bc5450-7b72-4141-cf31-dc5f57365653"
      },
      "execution_count": null,
      "outputs": [
        {
          "output_type": "stream",
          "name": "stdout",
          "text": [
            "Help on class zip in module builtins:\n",
            "\n",
            "class zip(object)\n",
            " |  zip(*iterables) --> A zip object yielding tuples until an input is exhausted.\n",
            " |  \n",
            " |     >>> list(zip('abcdefg', range(3), range(4)))\n",
            " |     [('a', 0, 0), ('b', 1, 1), ('c', 2, 2)]\n",
            " |  \n",
            " |  The zip object yields n-length tuples, where n is the number of iterables\n",
            " |  passed as positional arguments to zip().  The i-th element in every tuple\n",
            " |  comes from the i-th iterable argument to zip().  This continues until the\n",
            " |  shortest argument is exhausted.\n",
            " |  \n",
            " |  Methods defined here:\n",
            " |  \n",
            " |  __getattribute__(self, name, /)\n",
            " |      Return getattr(self, name).\n",
            " |  \n",
            " |  __iter__(self, /)\n",
            " |      Implement iter(self).\n",
            " |  \n",
            " |  __next__(self, /)\n",
            " |      Implement next(self).\n",
            " |  \n",
            " |  __reduce__(...)\n",
            " |      Return state information for pickling.\n",
            " |  \n",
            " |  ----------------------------------------------------------------------\n",
            " |  Static methods defined here:\n",
            " |  \n",
            " |  __new__(*args, **kwargs) from builtins.type\n",
            " |      Create and return a new object.  See help(type) for accurate signature.\n",
            "\n"
          ]
        }
      ]
    },
    {
      "cell_type": "code",
      "source": [],
      "metadata": {
        "colab": {
          "base_uri": "https://localhost:8080/"
        },
        "id": "sqLYfqBAiyQU",
        "outputId": "87819ac1-764c-4174-e60f-2936e440d6a7"
      },
      "execution_count": null,
      "outputs": [
        {
          "output_type": "stream",
          "name": "stdout",
          "text": [
            "Help on class islice in module itertools:\n",
            "\n",
            "class islice(builtins.object)\n",
            " |  islice(iterable, stop) --> islice object\n",
            " |  islice(iterable, start, stop[, step]) --> islice object\n",
            " |  \n",
            " |  Return an iterator whose next() method returns selected values from an\n",
            " |  iterable.  If start is specified, will skip all preceding elements;\n",
            " |  otherwise, start defaults to zero.  Step defaults to one.  If\n",
            " |  specified as another value, step determines how many values are\n",
            " |  skipped between successive calls.  Works like a slice() on a list\n",
            " |  but returns an iterator.\n",
            " |  \n",
            " |  Methods defined here:\n",
            " |  \n",
            " |  __getattribute__(self, name, /)\n",
            " |      Return getattr(self, name).\n",
            " |  \n",
            " |  __iter__(self, /)\n",
            " |      Implement iter(self).\n",
            " |  \n",
            " |  __next__(self, /)\n",
            " |      Implement next(self).\n",
            " |  \n",
            " |  __reduce__(...)\n",
            " |      Return state information for pickling.\n",
            " |  \n",
            " |  __setstate__(...)\n",
            " |      Set state information for unpickling.\n",
            " |  \n",
            " |  ----------------------------------------------------------------------\n",
            " |  Static methods defined here:\n",
            " |  \n",
            " |  __new__(*args, **kwargs) from builtins.type\n",
            " |      Create and return a new object.  See help(type) for accurate signature.\n",
            "\n"
          ]
        }
      ]
    },
    {
      "cell_type": "markdown",
      "source": [
        "##repeat"
      ],
      "metadata": {
        "id": "qLuKW58Fn5sG"
      }
    },
    {
      "cell_type": "code",
      "source": [
        "from itertools import repeat\n",
        "x=repeat(10)\n",
        "print(x)\n",
        "print(next(x))\n",
        "print(next(x))\n",
        "print(next(x))\n",
        "print(next(x))\n",
        "print(next(x))\n"
      ],
      "metadata": {
        "colab": {
          "base_uri": "https://localhost:8080/"
        },
        "id": "IcsD9ssXi-b0",
        "outputId": "e53a44af-3272-45e7-ca03-295158c60e58"
      },
      "execution_count": null,
      "outputs": [
        {
          "output_type": "stream",
          "name": "stdout",
          "text": [
            "repeat(10)\n",
            "10\n",
            "10\n",
            "10\n",
            "10\n",
            "10\n"
          ]
        }
      ]
    },
    {
      "cell_type": "markdown",
      "source": [
        "##zip_longest"
      ],
      "metadata": {
        "id": "E8pwzx5v5L4x"
      }
    },
    {
      "cell_type": "markdown",
      "source": [
        "understand the differece between the zip and the zip_longest"
      ],
      "metadata": {
        "id": "64K6RjUM5mIR"
      }
    },
    {
      "cell_type": "code",
      "source": [
        "help(zip)"
      ],
      "metadata": {
        "id": "SR2hmlITkx_z",
        "colab": {
          "base_uri": "https://localhost:8080/"
        },
        "outputId": "cbef6e70-366a-4976-c4d8-6180fa988755"
      },
      "execution_count": null,
      "outputs": [
        {
          "output_type": "stream",
          "name": "stdout",
          "text": [
            "Help on class zip in module builtins:\n",
            "\n",
            "class zip(object)\n",
            " |  zip(*iterables) --> A zip object yielding tuples until an input is exhausted.\n",
            " |  \n",
            " |     >>> list(zip('abcdefg', range(3), range(4)))\n",
            " |     [('a', 0, 0), ('b', 1, 1), ('c', 2, 2)]\n",
            " |  \n",
            " |  The zip object yields n-length tuples, where n is the number of iterables\n",
            " |  passed as positional arguments to zip().  The i-th element in every tuple\n",
            " |  comes from the i-th iterable argument to zip().  This continues until the\n",
            " |  shortest argument is exhausted.\n",
            " |  \n",
            " |  Methods defined here:\n",
            " |  \n",
            " |  __getattribute__(self, name, /)\n",
            " |      Return getattr(self, name).\n",
            " |  \n",
            " |  __iter__(self, /)\n",
            " |      Implement iter(self).\n",
            " |  \n",
            " |  __next__(self, /)\n",
            " |      Implement next(self).\n",
            " |  \n",
            " |  __reduce__(...)\n",
            " |      Return state information for pickling.\n",
            " |  \n",
            " |  ----------------------------------------------------------------------\n",
            " |  Static methods defined here:\n",
            " |  \n",
            " |  __new__(*args, **kwargs) from builtins.type\n",
            " |      Create and return a new object.  See help(type) for accurate signature.\n",
            "\n"
          ]
        }
      ]
    },
    {
      "cell_type": "code",
      "source": [
        "from itertools import zip_longest\n",
        "help(zip_longest)"
      ],
      "metadata": {
        "colab": {
          "base_uri": "https://localhost:8080/"
        },
        "id": "9hP5Jw7b6RSo",
        "outputId": "b1e4d337-d9f3-4022-8222-d39591639c89"
      },
      "execution_count": null,
      "outputs": [
        {
          "output_type": "stream",
          "name": "stdout",
          "text": [
            "Help on class zip_longest in module itertools:\n",
            "\n",
            "class zip_longest(builtins.object)\n",
            " |  zip_longest(iter1 [,iter2 [...]], [fillvalue=None]) --> zip_longest object\n",
            " |  \n",
            " |  Return a zip_longest object whose .__next__() method returns a tuple where\n",
            " |  the i-th element comes from the i-th iterable argument.  The .__next__()\n",
            " |  method continues until the longest iterable in the argument sequence\n",
            " |  is exhausted and then it raises StopIteration.  When the shorter iterables\n",
            " |  are exhausted, the fillvalue is substituted in their place.  The fillvalue\n",
            " |  defaults to None or can be specified by a keyword argument.\n",
            " |  \n",
            " |  Methods defined here:\n",
            " |  \n",
            " |  __getattribute__(self, name, /)\n",
            " |      Return getattr(self, name).\n",
            " |  \n",
            " |  __iter__(self, /)\n",
            " |      Implement iter(self).\n",
            " |  \n",
            " |  __next__(self, /)\n",
            " |      Implement next(self).\n",
            " |  \n",
            " |  __reduce__(...)\n",
            " |      Return state information for pickling.\n",
            " |  \n",
            " |  __setstate__(...)\n",
            " |      Set state information for unpickling.\n",
            " |  \n",
            " |  ----------------------------------------------------------------------\n",
            " |  Static methods defined here:\n",
            " |  \n",
            " |  __new__(*args, **kwargs) from builtins.type\n",
            " |      Create and return a new object.  See help(type) for accurate signature.\n",
            "\n"
          ]
        }
      ]
    },
    {
      "cell_type": "code",
      "source": [
        "import itertools\n",
        "st=['ram','hal','rahul','sam','rajesh']\n",
        "grades=[40,20,30,10]\n",
        "roll=list(zip(st,grades))\n",
        "print(roll)\n",
        "roll2=list(itertools.zip_longest(st,grades))\n",
        "print(roll2)\n",
        "roll3=list(itertools.zip_longest(st,grades,fillvalue=0))\n",
        "print(roll3)"
      ],
      "metadata": {
        "id": "xqd5_m1Elo7C",
        "colab": {
          "base_uri": "https://localhost:8080/"
        },
        "outputId": "1696d90c-39bc-48f2-b576-7637fd7190bd"
      },
      "execution_count": null,
      "outputs": [
        {
          "output_type": "stream",
          "name": "stdout",
          "text": [
            "[('ram', 40), ('hal', 20), ('rahul', 30), ('sam', 10)]\n",
            "[('ram', 40), ('hal', 20), ('rahul', 30), ('sam', 10), ('rajesh', None)]\n",
            "[('ram', 40), ('hal', 20), ('rahul', 30), ('sam', 10), ('rajesh', 0)]\n"
          ]
        }
      ]
    },
    {
      "cell_type": "markdown",
      "source": [
        "##starmap"
      ],
      "metadata": {
        "id": "OqrlqnRy7n7Q"
      }
    },
    {
      "cell_type": "markdown",
      "source": [
        "it is used when the elements are already zipped instead of map\n",
        "\n",
        "starmap(function,iterable)"
      ],
      "metadata": {
        "id": "Iqs5fJ8f8sWI"
      }
    },
    {
      "cell_type": "code",
      "source": [
        "from itertools import starmap\n",
        "x=[(2,2),(2,3),(10,4)]\n",
        "new=starmap(pow,x)\n",
        "print(new)\n",
        "print(list(new))"
      ],
      "metadata": {
        "colab": {
          "base_uri": "https://localhost:8080/"
        },
        "id": "NmA2d8Hx6HLq",
        "outputId": "6309385b-0a63-44a5-f437-38a802d2d06a"
      },
      "execution_count": null,
      "outputs": [
        {
          "output_type": "stream",
          "name": "stdout",
          "text": [
            "<itertools.starmap object at 0x7f675c16a2b0>\n",
            "[4, 8, 10000]\n"
          ]
        }
      ]
    },
    {
      "cell_type": "markdown",
      "source": [
        "##permutations"
      ],
      "metadata": {
        "id": "0LGSMi4DFi5z"
      }
    },
    {
      "cell_type": "markdown",
      "source": [
        "##differece between permutations and combinations\n",
        "\n",
        "##what does they output when appended into list"
      ],
      "metadata": {
        "id": "zo4FDYMCGdHS"
      }
    },
    {
      "cell_type": "code",
      "source": [
        "from itertools import permutations as pm\n",
        "x=pm('abc',2)\n",
        "print(x)\n",
        "print(list(x))\n",
        "print(list(x))##########################exausted\n",
        "y=pm('abc')##################\n",
        "print(list(y))"
      ],
      "metadata": {
        "colab": {
          "base_uri": "https://localhost:8080/"
        },
        "id": "77-rpHDXEUUA",
        "outputId": "7e8b718b-4ee2-4954-c279-e264b8221644"
      },
      "execution_count": null,
      "outputs": [
        {
          "output_type": "stream",
          "name": "stdout",
          "text": [
            "<itertools.permutations object at 0x7f673748c3b0>\n",
            "[('a', 'b'), ('a', 'c'), ('b', 'a'), ('b', 'c'), ('c', 'a'), ('c', 'b')]\n",
            "[]\n",
            "[('a', 'b', 'c'), ('a', 'c', 'b'), ('b', 'a', 'c'), ('b', 'c', 'a'), ('c', 'a', 'b'), ('c', 'b', 'a')]\n"
          ]
        }
      ]
    },
    {
      "cell_type": "markdown",
      "source": [
        " compare this it to the products"
      ],
      "metadata": {
        "id": "f02u6qCPGuNt"
      }
    },
    {
      "cell_type": "code",
      "source": [
        "from itertools import permutations as pm\n",
        "x=pm(range(4),2)\n",
        "print(list(x))"
      ],
      "metadata": {
        "colab": {
          "base_uri": "https://localhost:8080/"
        },
        "id": "Lg0blfQqGsZG",
        "outputId": "9c051a4a-5a08-42f0-8486-45d5ee110d2c"
      },
      "execution_count": null,
      "outputs": [
        {
          "output_type": "stream",
          "name": "stdout",
          "text": [
            "[(0, 1), (0, 2), (0, 3), (1, 0), (1, 2), (1, 3), (2, 0), (2, 1), (2, 3), (3, 0), (3, 1), (3, 2)]\n"
          ]
        }
      ]
    },
    {
      "cell_type": "markdown",
      "source": [
        "##dropwhile i did not understand"
      ],
      "metadata": {
        "id": "ws73Zvi_IPnn"
      }
    },
    {
      "cell_type": "code",
      "source": [
        "from itertools import dropwhile\n",
        "help(dropwhile)"
      ],
      "metadata": {
        "colab": {
          "base_uri": "https://localhost:8080/"
        },
        "id": "izkS51fdIBnN",
        "outputId": "c847b260-e49e-4cf7-a40a-dd186bbcb8a6"
      },
      "execution_count": null,
      "outputs": [
        {
          "output_type": "stream",
          "name": "stdout",
          "text": [
            "Help on class dropwhile in module itertools:\n",
            "\n",
            "class dropwhile(builtins.object)\n",
            " |  dropwhile(predicate, iterable, /)\n",
            " |  \n",
            " |  Drop items from the iterable while predicate(item) is true.\n",
            " |  \n",
            " |  Afterwards, return every element until the iterable is exhausted.\n",
            " |  \n",
            " |  Methods defined here:\n",
            " |  \n",
            " |  __getattribute__(self, name, /)\n",
            " |      Return getattr(self, name).\n",
            " |  \n",
            " |  __iter__(self, /)\n",
            " |      Implement iter(self).\n",
            " |  \n",
            " |  __next__(self, /)\n",
            " |      Implement next(self).\n",
            " |  \n",
            " |  __reduce__(...)\n",
            " |      Return state information for pickling.\n",
            " |  \n",
            " |  __setstate__(...)\n",
            " |      Set state information for unpickling.\n",
            " |  \n",
            " |  ----------------------------------------------------------------------\n",
            " |  Static methods defined here:\n",
            " |  \n",
            " |  __new__(*args, **kwargs) from builtins.type\n",
            " |      Create and return a new object.  See help(type) for accurate signature.\n",
            "\n"
          ]
        }
      ]
    },
    {
      "cell_type": "code",
      "source": [
        "from itertools import dropwhile as drop \n",
        "from random import shuffle\n",
        "y={(\"sam\",4.1),('john',4.3),('steve',4.4),(\"math\",4.5),(\"tom\",4.9)}\n",
        "shuffle(y)\n",
        "check=drop(lambda x:x[1]< 4.5,y)\n",
        "print(list(check))"
      ],
      "metadata": {
        "colab": {
          "base_uri": "https://localhost:8080/",
          "height": 356
        },
        "id": "Sv5kLHCNJQg1",
        "outputId": "6b0c4d46-a3b2-40c5-ee21-551aeb8ba754"
      },
      "execution_count": null,
      "outputs": [
        {
          "output_type": "error",
          "ename": "TypeError",
          "evalue": "ignored",
          "traceback": [
            "\u001b[0;31m---------------------------------------------------------------------------\u001b[0m",
            "\u001b[0;31mTypeError\u001b[0m                                 Traceback (most recent call last)",
            "\u001b[0;32m<ipython-input-52-2f64f66fd432>\u001b[0m in \u001b[0;36m<module>\u001b[0;34m\u001b[0m\n\u001b[1;32m      2\u001b[0m \u001b[0;32mfrom\u001b[0m \u001b[0mrandom\u001b[0m \u001b[0;32mimport\u001b[0m \u001b[0mshuffle\u001b[0m\u001b[0;34m\u001b[0m\u001b[0;34m\u001b[0m\u001b[0m\n\u001b[1;32m      3\u001b[0m \u001b[0my\u001b[0m\u001b[0;34m=\u001b[0m\u001b[0;34m{\u001b[0m\u001b[0;34m(\u001b[0m\u001b[0;34m\"sam\"\u001b[0m\u001b[0;34m,\u001b[0m\u001b[0;36m4.1\u001b[0m\u001b[0;34m)\u001b[0m\u001b[0;34m,\u001b[0m\u001b[0;34m(\u001b[0m\u001b[0;34m'john'\u001b[0m\u001b[0;34m,\u001b[0m\u001b[0;36m4.3\u001b[0m\u001b[0;34m)\u001b[0m\u001b[0;34m,\u001b[0m\u001b[0;34m(\u001b[0m\u001b[0;34m'steve'\u001b[0m\u001b[0;34m,\u001b[0m\u001b[0;36m4.4\u001b[0m\u001b[0;34m)\u001b[0m\u001b[0;34m,\u001b[0m\u001b[0;34m(\u001b[0m\u001b[0;34m\"math\"\u001b[0m\u001b[0;34m,\u001b[0m\u001b[0;36m4.5\u001b[0m\u001b[0;34m)\u001b[0m\u001b[0;34m,\u001b[0m\u001b[0;34m(\u001b[0m\u001b[0;34m\"tom\"\u001b[0m\u001b[0;34m,\u001b[0m\u001b[0;36m4.9\u001b[0m\u001b[0;34m)\u001b[0m\u001b[0;34m}\u001b[0m\u001b[0;34m\u001b[0m\u001b[0;34m\u001b[0m\u001b[0m\n\u001b[0;32m----> 4\u001b[0;31m \u001b[0mshuffle\u001b[0m\u001b[0;34m(\u001b[0m\u001b[0my\u001b[0m\u001b[0;34m)\u001b[0m\u001b[0;34m\u001b[0m\u001b[0;34m\u001b[0m\u001b[0m\n\u001b[0m\u001b[1;32m      5\u001b[0m \u001b[0mcheck\u001b[0m\u001b[0;34m=\u001b[0m\u001b[0mdrop\u001b[0m\u001b[0;34m(\u001b[0m\u001b[0;32mlambda\u001b[0m \u001b[0mx\u001b[0m\u001b[0;34m:\u001b[0m\u001b[0mx\u001b[0m\u001b[0;34m[\u001b[0m\u001b[0;36m1\u001b[0m\u001b[0;34m]\u001b[0m\u001b[0;34m<\u001b[0m \u001b[0;36m4.5\u001b[0m\u001b[0;34m,\u001b[0m\u001b[0my\u001b[0m\u001b[0;34m)\u001b[0m\u001b[0;34m\u001b[0m\u001b[0;34m\u001b[0m\u001b[0m\n\u001b[1;32m      6\u001b[0m \u001b[0mprint\u001b[0m\u001b[0;34m(\u001b[0m\u001b[0mlist\u001b[0m\u001b[0;34m(\u001b[0m\u001b[0mcheck\u001b[0m\u001b[0;34m)\u001b[0m\u001b[0;34m)\u001b[0m\u001b[0;34m\u001b[0m\u001b[0;34m\u001b[0m\u001b[0m\n",
            "\u001b[0;32m/usr/lib/python3.8/random.py\u001b[0m in \u001b[0;36mshuffle\u001b[0;34m(self, x, random)\u001b[0m\n\u001b[1;32m    305\u001b[0m                 \u001b[0;31m# pick an element in x[:i+1] with which to exchange x[i]\u001b[0m\u001b[0;34m\u001b[0m\u001b[0;34m\u001b[0m\u001b[0;34m\u001b[0m\u001b[0m\n\u001b[1;32m    306\u001b[0m                 \u001b[0mj\u001b[0m \u001b[0;34m=\u001b[0m \u001b[0mrandbelow\u001b[0m\u001b[0;34m(\u001b[0m\u001b[0mi\u001b[0m\u001b[0;34m+\u001b[0m\u001b[0;36m1\u001b[0m\u001b[0;34m)\u001b[0m\u001b[0;34m\u001b[0m\u001b[0;34m\u001b[0m\u001b[0m\n\u001b[0;32m--> 307\u001b[0;31m                 \u001b[0mx\u001b[0m\u001b[0;34m[\u001b[0m\u001b[0mi\u001b[0m\u001b[0;34m]\u001b[0m\u001b[0;34m,\u001b[0m \u001b[0mx\u001b[0m\u001b[0;34m[\u001b[0m\u001b[0mj\u001b[0m\u001b[0;34m]\u001b[0m \u001b[0;34m=\u001b[0m \u001b[0mx\u001b[0m\u001b[0;34m[\u001b[0m\u001b[0mj\u001b[0m\u001b[0;34m]\u001b[0m\u001b[0;34m,\u001b[0m \u001b[0mx\u001b[0m\u001b[0;34m[\u001b[0m\u001b[0mi\u001b[0m\u001b[0;34m]\u001b[0m\u001b[0;34m\u001b[0m\u001b[0;34m\u001b[0m\u001b[0m\n\u001b[0m\u001b[1;32m    308\u001b[0m         \u001b[0;32melse\u001b[0m\u001b[0;34m:\u001b[0m\u001b[0;34m\u001b[0m\u001b[0;34m\u001b[0m\u001b[0m\n\u001b[1;32m    309\u001b[0m             \u001b[0m_int\u001b[0m \u001b[0;34m=\u001b[0m \u001b[0mint\u001b[0m\u001b[0;34m\u001b[0m\u001b[0;34m\u001b[0m\u001b[0m\n",
            "\u001b[0;31mTypeError\u001b[0m: 'set' object is not subscriptable"
          ]
        }
      ]
    },
    {
      "cell_type": "code",
      "source": [
        "from itertools import dropwhile as drop \n",
        "from random import shuffle\n",
        "y=[(\"sam\",4.1),('john',4.3),('steve',4.4),(\"math\",4.5),(\"tom\",4.9)]\n",
        "shuffle(y)\n",
        "print(y)\n",
        "check=drop(lambda x:x[1]< 4.5,y)\n",
        "print(list(check))\n",
        "shuffle(y)\n",
        "print(y)\n",
        "check=drop(lambda x:x[1]< 4.5,y)\n",
        "print(list(check))\n",
        "shuffle(y)\n",
        "print(y)\n",
        "check=drop(lambda x:x[1]< 4.5,y)\n",
        "print(list(check))\n",
        "shuffle(y)\n",
        "print(y)\n",
        "check=drop(lambda x:x[1]< 4.5,y)\n",
        "print(list(check))\n",
        "shuffle(y)\n",
        "print(y)\n",
        "check=drop(lambda x:x[1]< 4.5,y)\n",
        "print(list(check))\n",
        "print(y)\n",
        "check=drop(lambda x:x[1]< 4.5,y)\n",
        "print(list(check))"
      ],
      "metadata": {
        "colab": {
          "base_uri": "https://localhost:8080/"
        },
        "id": "9bcealHEMFso",
        "outputId": "87e4090d-0a06-40c0-cec0-48412ea4cc17"
      },
      "execution_count": null,
      "outputs": [
        {
          "output_type": "stream",
          "name": "stdout",
          "text": [
            "[('sam', 4.1), ('steve', 4.4), ('john', 4.3), ('tom', 4.9), ('math', 4.5)]\n",
            "[('tom', 4.9), ('math', 4.5)]\n",
            "[('tom', 4.9), ('sam', 4.1), ('steve', 4.4), ('john', 4.3), ('math', 4.5)]\n",
            "[('tom', 4.9), ('sam', 4.1), ('steve', 4.4), ('john', 4.3), ('math', 4.5)]\n",
            "[('steve', 4.4), ('john', 4.3), ('tom', 4.9), ('sam', 4.1), ('math', 4.5)]\n",
            "[('tom', 4.9), ('sam', 4.1), ('math', 4.5)]\n",
            "[('math', 4.5), ('john', 4.3), ('sam', 4.1), ('steve', 4.4), ('tom', 4.9)]\n",
            "[('math', 4.5), ('john', 4.3), ('sam', 4.1), ('steve', 4.4), ('tom', 4.9)]\n",
            "[('tom', 4.9), ('steve', 4.4), ('sam', 4.1), ('john', 4.3), ('math', 4.5)]\n",
            "[('tom', 4.9), ('steve', 4.4), ('sam', 4.1), ('john', 4.3), ('math', 4.5)]\n",
            "[('tom', 4.9), ('steve', 4.4), ('sam', 4.1), ('john', 4.3), ('math', 4.5)]\n",
            "[('tom', 4.9), ('steve', 4.4), ('sam', 4.1), ('john', 4.3), ('math', 4.5)]\n"
          ]
        }
      ]
    },
    {
      "cell_type": "code",
      "source": [
        "from itertools import dropwhile as drop \n",
        "from random import shuffle\n",
        "y=[(\"sam\",4.1),('john',4.3),('steve',4.4),(\"math\",4.5),(\"tom\",4.9)]\n",
        "shuffle(y)\n",
        "print(y)\n",
        "check=drop(lambda x:x[1]< 4.5,y)\n",
        "print(list(check))\n",
        "print(y)\n",
        "check=drop(lambda x:x[1]< 4.5,y)\n",
        "print(list(check))\n",
        "print(y)\n",
        "check=drop(lambda x:x[1]< 4.5,y)\n",
        "print(list(check))\n",
        "print(y)\n",
        "check=drop(lambda x:x[1]< 4.5,y)\n",
        "print(list(check))\n",
        "print(y)\n",
        "check=drop(lambda x:x[1]< 4.5,y)\n",
        "print(list(check))\n"
      ],
      "metadata": {
        "colab": {
          "base_uri": "https://localhost:8080/"
        },
        "id": "GjRPcTaiOCvA",
        "outputId": "a82c53b5-a15d-4a72-c253-d79a29723648"
      },
      "execution_count": null,
      "outputs": [
        {
          "output_type": "stream",
          "name": "stdout",
          "text": [
            "[('john', 4.3), ('tom', 4.9), ('math', 4.5), ('steve', 4.4), ('sam', 4.1)]\n",
            "[('tom', 4.9), ('math', 4.5), ('steve', 4.4), ('sam', 4.1)]\n",
            "[('john', 4.3), ('tom', 4.9), ('math', 4.5), ('steve', 4.4), ('sam', 4.1)]\n",
            "[('tom', 4.9), ('math', 4.5), ('steve', 4.4), ('sam', 4.1)]\n",
            "[('john', 4.3), ('tom', 4.9), ('math', 4.5), ('steve', 4.4), ('sam', 4.1)]\n",
            "[('tom', 4.9), ('math', 4.5), ('steve', 4.4), ('sam', 4.1)]\n",
            "[('john', 4.3), ('tom', 4.9), ('math', 4.5), ('steve', 4.4), ('sam', 4.1)]\n",
            "[('tom', 4.9), ('math', 4.5), ('steve', 4.4), ('sam', 4.1)]\n",
            "[('john', 4.3), ('tom', 4.9), ('math', 4.5), ('steve', 4.4), ('sam', 4.1)]\n",
            "[('tom', 4.9), ('math', 4.5), ('steve', 4.4), ('sam', 4.1)]\n"
          ]
        }
      ]
    },
    {
      "cell_type": "code",
      "source": [
        "from itertools import dropwhile as drop \n",
        "from random import shuffle\n",
        "y=[(\"sam\",4.1),('john',4.3),('steve',4.4),(\"math\",4.5),(\"tom\",4.9)]\n",
        "shuffle(y)\n",
        "check=drop(lambda x:x[1]< 4.5,y)\n",
        "print(list(check))\n"
      ],
      "metadata": {
        "colab": {
          "base_uri": "https://localhost:8080/"
        },
        "id": "OF1wyrSVM-UI",
        "outputId": "21613cec-7c43-473d-fe0b-937805ce02b4"
      },
      "execution_count": null,
      "outputs": [
        {
          "output_type": "stream",
          "name": "stdout",
          "text": [
            "[('math', 4.5), ('sam', 4.1), ('john', 4.3), ('tom', 4.9), ('steve', 4.4)]\n"
          ]
        }
      ]
    },
    {
      "cell_type": "markdown",
      "source": [
        "##tee"
      ],
      "metadata": {
        "id": "f4X8BEMIS9Mx"
      }
    },
    {
      "cell_type": "code",
      "source": [
        "from itertools import tee \n",
        "x=[1,2,3]\n",
        "z=tee(x,3)\n",
        "print(z)\n",
        "print(list(list(z)))\n",
        "\n",
        "# for i in z:\n",
        "#   for j in i:\n",
        "#     print(j)\n",
        "for i in z:\n",
        "  print(list(i))"
      ],
      "metadata": {
        "colab": {
          "base_uri": "https://localhost:8080/"
        },
        "id": "VBv3zqrkTDTu",
        "outputId": "173eddf0-926a-475b-c95f-3b6fd8472b09"
      },
      "execution_count": null,
      "outputs": [
        {
          "output_type": "stream",
          "name": "stdout",
          "text": [
            "(<itertools._tee object at 0x7f6737374bc0>, <itertools._tee object at 0x7f6737374b40>, <itertools._tee object at 0x7f67373f8880>)\n",
            "[<itertools._tee object at 0x7f6737374bc0>, <itertools._tee object at 0x7f6737374b40>, <itertools._tee object at 0x7f67373f8880>]\n",
            "[1, 2, 3]\n",
            "[1, 2, 3]\n",
            "[1, 2, 3]\n"
          ]
        }
      ]
    },
    {
      "cell_type": "markdown",
      "source": [
        "how to repeat a list 3 times like above"
      ],
      "metadata": {
        "id": "cZg2yh8QUsfR"
      }
    },
    {
      "cell_type": "code",
      "source": [
        "\n",
        "#it is not same as above\n",
        "print([1,2,3]*3)\n",
        "print([1,2,3]*3,end=\" \")\n"
      ],
      "metadata": {
        "colab": {
          "base_uri": "https://localhost:8080/"
        },
        "id": "I2izom_RUW7E",
        "outputId": "ba48f080-0d5c-433c-92a8-b75bd405fbb2"
      },
      "execution_count": null,
      "outputs": [
        {
          "output_type": "stream",
          "name": "stdout",
          "text": [
            "[1, 2, 3, 1, 2, 3, 1, 2, 3]\n",
            "[1, 2, 3, 1, 2, 3, 1, 2, 3] "
          ]
        }
      ]
    },
    {
      "cell_type": "markdown",
      "source": [
        "## groupby"
      ],
      "metadata": {
        "id": "xCH1VZqqVEsQ"
      }
    },
    {
      "cell_type": "code",
      "source": [
        "from itertools import groupby\n",
        "x='aaaabbbccd'\n",
        "new=groupby(x)\n",
        "print(new)\n",
        "print(list(new))\n",
        "new2=list(groupby(x))\n",
        "for i in new2:\n",
        "  print(i)\n",
        "print(type(new2))\n",
        "print(type(new2[0]))\n",
        "print(type(new2[0][0]))\n",
        "print(type(new2[0][1]))"
      ],
      "metadata": {
        "colab": {
          "base_uri": "https://localhost:8080/"
        },
        "id": "KxvUbndyVBxb",
        "outputId": "f97244f8-2fae-4800-8452-747e9a47fdfd"
      },
      "execution_count": null,
      "outputs": [
        {
          "output_type": "stream",
          "name": "stdout",
          "text": [
            "<itertools.groupby object at 0x7f67373a2b30>\n",
            "[('a', <itertools._grouper object at 0x7f67375a9f40>), ('b', <itertools._grouper object at 0x7f67375a93d0>), ('c', <itertools._grouper object at 0x7f67375a9400>), ('d', <itertools._grouper object at 0x7f67375a9ac0>)]\n",
            "('a', <itertools._grouper object at 0x7f67375a9b80>)\n",
            "('b', <itertools._grouper object at 0x7f67375a9400>)\n",
            "('c', <itertools._grouper object at 0x7f67375a9ac0>)\n",
            "('d', <itertools._grouper object at 0x7f67375a9670>)\n",
            "<class 'list'>\n",
            "<class 'tuple'>\n",
            "<class 'str'>\n",
            "<class 'itertools._grouper'>\n"
          ]
        }
      ]
    },
    {
      "cell_type": "code",
      "source": [
        "from itertools import groupby\n",
        "x='aaaabbbccd'\n",
        "new=groupby(x)\n",
        "new=[list(g) for k,g in new]\n",
        "print(new)"
      ],
      "metadata": {
        "colab": {
          "base_uri": "https://localhost:8080/"
        },
        "id": "UcVeEsiXWrvm",
        "outputId": "83ed3eab-dbde-449e-9e95-f7daede021ea"
      },
      "execution_count": null,
      "outputs": [
        {
          "output_type": "stream",
          "name": "stdout",
          "text": [
            "[['a', 'a', 'a', 'a'], ['b', 'b', 'b'], ['c', 'c'], ['d']]\n"
          ]
        }
      ]
    },
    {
      "cell_type": "code",
      "source": [
        "from itertools import groupby\n",
        "x='aaabbadaabbbccd'\n",
        "new=groupby(x)\n",
        "new=[list(g) for k,g in new]\n",
        "print(new)"
      ],
      "metadata": {
        "colab": {
          "base_uri": "https://localhost:8080/"
        },
        "id": "gVw5_sAYXTV6",
        "outputId": "e73643cb-1b93-4f8c-bb09-7ce22aab07a4"
      },
      "execution_count": null,
      "outputs": [
        {
          "output_type": "stream",
          "name": "stdout",
          "text": [
            "[['a', 'a', 'a'], ['b', 'b'], ['a'], ['d'], ['a', 'a'], ['b', 'b', 'b'], ['c', 'c'], ['d']]\n"
          ]
        }
      ]
    },
    {
      "cell_type": "code",
      "source": [
        "from itertools import groupby\n",
        "x='aaaabbbccd'\n",
        "new=itertools.groupby(x)\n",
        "letter_count={letter[0]:len(list(letter[1])) for letter in new}\n",
        "print(letter_count)"
      ],
      "metadata": {
        "colab": {
          "base_uri": "https://localhost:8080/"
        },
        "id": "DYfwi0vXXrQf",
        "outputId": "473a12b5-af50-4829-f250-325c9fa1d253"
      },
      "execution_count": null,
      "outputs": [
        {
          "output_type": "stream",
          "name": "stdout",
          "text": [
            "{'a': 4, 'b': 3, 'c': 2, 'd': 1}\n"
          ]
        }
      ]
    },
    {
      "cell_type": "code",
      "source": [
        "from itertools import groupby\n",
        "grades=[85,90,100,85,90,80]\n",
        "grades=groupby(grades)\n",
        "count_grades={grade[0]:len(list(grade[1])) for grade in grades}\n",
        "print(count_grades)"
      ],
      "metadata": {
        "colab": {
          "base_uri": "https://localhost:8080/"
        },
        "id": "uTW2afiSZCEm",
        "outputId": "69980c2e-bab5-41f3-8251-906a7d6aabd9"
      },
      "execution_count": null,
      "outputs": [
        {
          "output_type": "stream",
          "name": "stdout",
          "text": [
            "{85: 1, 90: 1, 100: 1, 80: 1}\n"
          ]
        }
      ]
    },
    {
      "cell_type": "code",
      "source": [
        "#if we want to groupby like terms ues sorted\n",
        "from itertools import groupby\n",
        "grades=[85,90,100,85,90,80]\n",
        "grades=groupby(sorted(grades))\n",
        "count_grades={grade[0]:len(list(grade[1])) for grade in grades}\n",
        "print(count_grades)"
      ],
      "metadata": {
        "colab": {
          "base_uri": "https://localhost:8080/"
        },
        "id": "hvvCWHToce4M",
        "outputId": "66eea929-4f9a-47f1-d2ee-9f1a0d7b90b1"
      },
      "execution_count": null,
      "outputs": [
        {
          "output_type": "stream",
          "name": "stdout",
          "text": [
            "{80: 1, 85: 2, 90: 2, 100: 1}\n"
          ]
        }
      ]
    },
    {
      "cell_type": "code",
      "source": [
        "b='hello'\n",
        "print(f'{b=}')"
      ],
      "metadata": {
        "colab": {
          "base_uri": "https://localhost:8080/"
        },
        "id": "R6s2PfxVdSYi",
        "outputId": "a15f5f69-76fc-41cd-aeb8-5f17a4392933"
      },
      "execution_count": null,
      "outputs": [
        {
          "output_type": "stream",
          "name": "stdout",
          "text": [
            "b='hello'\n"
          ]
        }
      ]
    },
    {
      "cell_type": "code",
      "source": [],
      "metadata": {
        "id": "Qlpy7YFqfO1u"
      },
      "execution_count": null,
      "outputs": []
    },
    {
      "cell_type": "markdown",
      "source": [
        "##combinations"
      ],
      "metadata": {
        "id": "2BqpIKSoeb6C"
      }
    },
    {
      "cell_type": "code",
      "source": [
        "from itertools import combinations as comb\n",
        "num=list(range(5))\n",
        "x=comb(num,3)\n",
        "y=[i for i in x]\n",
        "print(f\"{y=}\")"
      ],
      "metadata": {
        "colab": {
          "base_uri": "https://localhost:8080/"
        },
        "id": "_U-BoXy8efxp",
        "outputId": "38f929af-5ba1-4f1a-819f-aba5b8b62fc3"
      },
      "execution_count": null,
      "outputs": [
        {
          "output_type": "stream",
          "name": "stdout",
          "text": [
            "y=[(0, 1, 2), (0, 1, 3), (0, 1, 4), (0, 2, 3), (0, 2, 4), (0, 3, 4), (1, 2, 3), (1, 2, 4), (1, 3, 4), (2, 3, 4)]\n"
          ]
        }
      ]
    },
    {
      "cell_type": "code",
      "source": [
        "from itertools import combinations_with_replacement as comb\n",
        "num=list(range(5))\n",
        "x=comb(num,3)\n",
        "y=[i for i in x]\n",
        "print(f'{y=}')"
      ],
      "metadata": {
        "colab": {
          "base_uri": "https://localhost:8080/"
        },
        "id": "GC3vxkukf_k5",
        "outputId": "4be185d2-c888-4b28-e418-92f97f45f0e2"
      },
      "execution_count": null,
      "outputs": [
        {
          "output_type": "stream",
          "name": "stdout",
          "text": [
            "y=[(0, 0, 0), (0, 0, 1), (0, 0, 2), (0, 0, 3), (0, 0, 4), (0, 1, 1), (0, 1, 2), (0, 1, 3), (0, 1, 4), (0, 2, 2), (0, 2, 3), (0, 2, 4), (0, 3, 3), (0, 3, 4), (0, 4, 4), (1, 1, 1), (1, 1, 2), (1, 1, 3), (1, 1, 4), (1, 2, 2), (1, 2, 3), (1, 2, 4), (1, 3, 3), (1, 3, 4), (1, 4, 4), (2, 2, 2), (2, 2, 3), (2, 2, 4), (2, 3, 3), (2, 3, 4), (2, 4, 4), (3, 3, 3), (3, 3, 4), (3, 4, 4), (4, 4, 4)]\n"
          ]
        }
      ]
    },
    {
      "cell_type": "code",
      "source": [
        "from itertools import combinations_without_replacement as comb\n",
        "num=list(range(5))\n",
        "x=comb(num,3)\n",
        "y=[i for i in x]\n",
        "print(f'{y=}')"
      ],
      "metadata": {
        "colab": {
          "base_uri": "https://localhost:8080/",
          "height": 373
        },
        "id": "DyhnoWxwgkmw",
        "outputId": "fed669b5-d744-4379-e66f-80b5a5f16853"
      },
      "execution_count": null,
      "outputs": [
        {
          "output_type": "error",
          "ename": "ImportError",
          "evalue": "ignored",
          "traceback": [
            "\u001b[0;31m---------------------------------------------------------------------------\u001b[0m",
            "\u001b[0;31mImportError\u001b[0m                               Traceback (most recent call last)",
            "\u001b[0;32m<ipython-input-5-ab7f25dc98ce>\u001b[0m in \u001b[0;36m<module>\u001b[0;34m\u001b[0m\n\u001b[0;32m----> 1\u001b[0;31m \u001b[0;32mfrom\u001b[0m \u001b[0mitertools\u001b[0m \u001b[0;32mimport\u001b[0m \u001b[0mcombinations_without_replacement\u001b[0m \u001b[0;32mas\u001b[0m \u001b[0mcomb\u001b[0m\u001b[0;34m\u001b[0m\u001b[0;34m\u001b[0m\u001b[0m\n\u001b[0m\u001b[1;32m      2\u001b[0m \u001b[0mnum\u001b[0m\u001b[0;34m=\u001b[0m\u001b[0mlist\u001b[0m\u001b[0;34m(\u001b[0m\u001b[0mrange\u001b[0m\u001b[0;34m(\u001b[0m\u001b[0;36m5\u001b[0m\u001b[0;34m)\u001b[0m\u001b[0;34m)\u001b[0m\u001b[0;34m\u001b[0m\u001b[0;34m\u001b[0m\u001b[0m\n\u001b[1;32m      3\u001b[0m \u001b[0mx\u001b[0m\u001b[0;34m=\u001b[0m\u001b[0mcomb\u001b[0m\u001b[0;34m(\u001b[0m\u001b[0mnum\u001b[0m\u001b[0;34m,\u001b[0m\u001b[0;36m3\u001b[0m\u001b[0;34m)\u001b[0m\u001b[0;34m\u001b[0m\u001b[0;34m\u001b[0m\u001b[0m\n\u001b[1;32m      4\u001b[0m \u001b[0my\u001b[0m\u001b[0;34m=\u001b[0m\u001b[0;34m[\u001b[0m\u001b[0mi\u001b[0m \u001b[0;32mfor\u001b[0m \u001b[0mi\u001b[0m \u001b[0;32min\u001b[0m \u001b[0mx\u001b[0m\u001b[0;34m]\u001b[0m\u001b[0;34m\u001b[0m\u001b[0;34m\u001b[0m\u001b[0m\n\u001b[1;32m      5\u001b[0m \u001b[0mprint\u001b[0m\u001b[0;34m(\u001b[0m\u001b[0;34mf'{y=}'\u001b[0m\u001b[0;34m)\u001b[0m\u001b[0;34m\u001b[0m\u001b[0;34m\u001b[0m\u001b[0m\n",
            "\u001b[0;31mImportError\u001b[0m: cannot import name 'combinations_without_replacement' from 'itertools' (unknown location)",
            "",
            "\u001b[0;31m---------------------------------------------------------------------------\u001b[0;32m\nNOTE: If your import is failing due to a missing package, you can\nmanually install dependencies using either !pip or !apt.\n\nTo view examples of installing some common dependencies, click the\n\"Open Examples\" button below.\n\u001b[0;31m---------------------------------------------------------------------------\u001b[0m\n"
          ],
          "errorDetails": {
            "actions": [
              {
                "action": "open_url",
                "actionText": "Open Examples",
                "url": "/notebooks/snippets/importing_libraries.ipynb"
              }
            ]
          }
        }
      ]
    },
    {
      "cell_type": "markdown",
      "source": [
        "##filterfalse"
      ],
      "metadata": {
        "id": "8_TcftpjhyhK"
      }
    },
    {
      "cell_type": "code",
      "source": [
        "from itertools import filterfalse \n",
        "x=list(range(11))\n",
        "y=filterfalse(lambda i:i%2==0,x)\n",
        "for i in y:\n",
        "  print(f'{i=}')"
      ],
      "metadata": {
        "colab": {
          "base_uri": "https://localhost:8080/"
        },
        "id": "5sTeYHCchwWx",
        "outputId": "07ae181b-e9e3-4bc8-938b-d9f3cfa90ee1"
      },
      "execution_count": null,
      "outputs": [
        {
          "output_type": "stream",
          "name": "stdout",
          "text": [
            "i=1\n",
            "i=3\n",
            "i=5\n",
            "i=7\n",
            "i=9\n"
          ]
        }
      ]
    },
    {
      "cell_type": "markdown",
      "source": [
        "##takewhile"
      ],
      "metadata": {
        "id": "8rb-5xcNjVai"
      }
    },
    {
      "cell_type": "code",
      "source": [
        "from itertools import takewhile\n",
        "x=[1,4,6,4,1,7,2]\n",
        "y=takewhile(lambda i:i<6,x)\n",
        "for i in y:\n",
        "  print(f'{i=}')"
      ],
      "metadata": {
        "colab": {
          "base_uri": "https://localhost:8080/"
        },
        "id": "LeZWj2phjS0Q",
        "outputId": "91f7bd6a-d2d4-4850-bd7e-2a5519eb61ff"
      },
      "execution_count": null,
      "outputs": [
        {
          "output_type": "stream",
          "name": "stdout",
          "text": [
            "i=1\n",
            "i=4\n"
          ]
        }
      ]
    },
    {
      "cell_type": "code",
      "source": [
        "from itertools import takewhile\n",
        "x=[1,4,4,1,5,6]\n",
        "y=takewhile(lambda i:i<6,x)\n",
        "for i in y:\n",
        "  print(f'{i=}')"
      ],
      "metadata": {
        "colab": {
          "base_uri": "https://localhost:8080/"
        },
        "id": "9KarUKj3kFx3",
        "outputId": "293524f8-380b-4c5e-b16d-291bf8bac690"
      },
      "execution_count": null,
      "outputs": [
        {
          "output_type": "stream",
          "name": "stdout",
          "text": [
            "i=1\n",
            "i=4\n",
            "i=4\n",
            "i=1\n",
            "i=5\n"
          ]
        }
      ]
    },
    {
      "cell_type": "code",
      "source": [
        "from itertools import product\n",
        "help(product)"
      ],
      "metadata": {
        "colab": {
          "base_uri": "https://localhost:8080/"
        },
        "id": "6b_aWamAlC4J",
        "outputId": "ff7f68e9-5e98-46c3-c344-0e3d8718e752"
      },
      "execution_count": null,
      "outputs": [
        {
          "output_type": "stream",
          "name": "stdout",
          "text": [
            "Help on class product in module itertools:\n",
            "\n",
            "class product(builtins.object)\n",
            " |  product(*iterables, repeat=1) --> product object\n",
            " |  \n",
            " |  Cartesian product of input iterables.  Equivalent to nested for-loops.\n",
            " |  \n",
            " |  For example, product(A, B) returns the same as:  ((x,y) for x in A for y in B).\n",
            " |  The leftmost iterators are in the outermost for-loop, so the output tuples\n",
            " |  cycle in a manner similar to an odometer (with the rightmost element changing\n",
            " |  on every iteration).\n",
            " |  \n",
            " |  To compute the product of an iterable with itself, specify the number\n",
            " |  of repetitions with the optional repeat keyword argument. For example,\n",
            " |  product(A, repeat=4) means the same as product(A, A, A, A).\n",
            " |  \n",
            " |  product('ab', range(3)) --> ('a',0) ('a',1) ('a',2) ('b',0) ('b',1) ('b',2)\n",
            " |  product((0,1), (0,1), (0,1)) --> (0,0,0) (0,0,1) (0,1,0) (0,1,1) (1,0,0) ...\n",
            " |  \n",
            " |  Methods defined here:\n",
            " |  \n",
            " |  __getattribute__(self, name, /)\n",
            " |      Return getattr(self, name).\n",
            " |  \n",
            " |  __iter__(self, /)\n",
            " |      Implement iter(self).\n",
            " |  \n",
            " |  __next__(self, /)\n",
            " |      Implement next(self).\n",
            " |  \n",
            " |  __reduce__(...)\n",
            " |      Return state information for pickling.\n",
            " |  \n",
            " |  __setstate__(...)\n",
            " |      Set state information for unpickling.\n",
            " |  \n",
            " |  __sizeof__(...)\n",
            " |      Returns size in memory, in bytes.\n",
            " |  \n",
            " |  ----------------------------------------------------------------------\n",
            " |  Static methods defined here:\n",
            " |  \n",
            " |  __new__(*args, **kwargs) from builtins.type\n",
            " |      Create and return a new object.  See help(type) for accurate signature.\n",
            "\n"
          ]
        }
      ]
    },
    {
      "cell_type": "code",
      "source": [
        "from itertools import product\n",
        "_=input('enter a number:')\n",
        "keys={\"2\":'abc','3':'def','4':'ghi','5':'jkl','6':'mno','7':'pqrs','8':'tuv','9':'wxyz'}\n",
        "seq=list(product(keys[_[0]],keys[_[1]],keys[_[2]],keys[_[3]],keys[_[4]],keys[_[5]],keys[_[6]]))\n",
        "comb=[''.join(i) for i in seq]\n",
        "print(comb)\n",
        "print(f'{comb[:20]=}')"
      ],
      "metadata": {
        "colab": {
          "base_uri": "https://localhost:8080/"
        },
        "id": "t36_WDiRn2Gg",
        "outputId": "72bf5a25-d699-4766-bb1d-73152cff091a"
      },
      "execution_count": null,
      "outputs": [
        {
          "output_type": "stream",
          "name": "stdout",
          "text": [
            "enter a number:2345678\n",
            "['adgjmpt', 'adgjmpu', 'adgjmpv', 'adgjmqt', 'adgjmqu', 'adgjmqv', 'adgjmrt', 'adgjmru', 'adgjmrv', 'adgjmst', 'adgjmsu', 'adgjmsv', 'adgjnpt', 'adgjnpu', 'adgjnpv', 'adgjnqt', 'adgjnqu', 'adgjnqv', 'adgjnrt', 'adgjnru', 'adgjnrv', 'adgjnst', 'adgjnsu', 'adgjnsv', 'adgjopt', 'adgjopu', 'adgjopv', 'adgjoqt', 'adgjoqu', 'adgjoqv', 'adgjort', 'adgjoru', 'adgjorv', 'adgjost', 'adgjosu', 'adgjosv', 'adgkmpt', 'adgkmpu', 'adgkmpv', 'adgkmqt', 'adgkmqu', 'adgkmqv', 'adgkmrt', 'adgkmru', 'adgkmrv', 'adgkmst', 'adgkmsu', 'adgkmsv', 'adgknpt', 'adgknpu', 'adgknpv', 'adgknqt', 'adgknqu', 'adgknqv', 'adgknrt', 'adgknru', 'adgknrv', 'adgknst', 'adgknsu', 'adgknsv', 'adgkopt', 'adgkopu', 'adgkopv', 'adgkoqt', 'adgkoqu', 'adgkoqv', 'adgkort', 'adgkoru', 'adgkorv', 'adgkost', 'adgkosu', 'adgkosv', 'adglmpt', 'adglmpu', 'adglmpv', 'adglmqt', 'adglmqu', 'adglmqv', 'adglmrt', 'adglmru', 'adglmrv', 'adglmst', 'adglmsu', 'adglmsv', 'adglnpt', 'adglnpu', 'adglnpv', 'adglnqt', 'adglnqu', 'adglnqv', 'adglnrt', 'adglnru', 'adglnrv', 'adglnst', 'adglnsu', 'adglnsv', 'adglopt', 'adglopu', 'adglopv', 'adgloqt', 'adgloqu', 'adgloqv', 'adglort', 'adgloru', 'adglorv', 'adglost', 'adglosu', 'adglosv', 'adhjmpt', 'adhjmpu', 'adhjmpv', 'adhjmqt', 'adhjmqu', 'adhjmqv', 'adhjmrt', 'adhjmru', 'adhjmrv', 'adhjmst', 'adhjmsu', 'adhjmsv', 'adhjnpt', 'adhjnpu', 'adhjnpv', 'adhjnqt', 'adhjnqu', 'adhjnqv', 'adhjnrt', 'adhjnru', 'adhjnrv', 'adhjnst', 'adhjnsu', 'adhjnsv', 'adhjopt', 'adhjopu', 'adhjopv', 'adhjoqt', 'adhjoqu', 'adhjoqv', 'adhjort', 'adhjoru', 'adhjorv', 'adhjost', 'adhjosu', 'adhjosv', 'adhkmpt', 'adhkmpu', 'adhkmpv', 'adhkmqt', 'adhkmqu', 'adhkmqv', 'adhkmrt', 'adhkmru', 'adhkmrv', 'adhkmst', 'adhkmsu', 'adhkmsv', 'adhknpt', 'adhknpu', 'adhknpv', 'adhknqt', 'adhknqu', 'adhknqv', 'adhknrt', 'adhknru', 'adhknrv', 'adhknst', 'adhknsu', 'adhknsv', 'adhkopt', 'adhkopu', 'adhkopv', 'adhkoqt', 'adhkoqu', 'adhkoqv', 'adhkort', 'adhkoru', 'adhkorv', 'adhkost', 'adhkosu', 'adhkosv', 'adhlmpt', 'adhlmpu', 'adhlmpv', 'adhlmqt', 'adhlmqu', 'adhlmqv', 'adhlmrt', 'adhlmru', 'adhlmrv', 'adhlmst', 'adhlmsu', 'adhlmsv', 'adhlnpt', 'adhlnpu', 'adhlnpv', 'adhlnqt', 'adhlnqu', 'adhlnqv', 'adhlnrt', 'adhlnru', 'adhlnrv', 'adhlnst', 'adhlnsu', 'adhlnsv', 'adhlopt', 'adhlopu', 'adhlopv', 'adhloqt', 'adhloqu', 'adhloqv', 'adhlort', 'adhloru', 'adhlorv', 'adhlost', 'adhlosu', 'adhlosv', 'adijmpt', 'adijmpu', 'adijmpv', 'adijmqt', 'adijmqu', 'adijmqv', 'adijmrt', 'adijmru', 'adijmrv', 'adijmst', 'adijmsu', 'adijmsv', 'adijnpt', 'adijnpu', 'adijnpv', 'adijnqt', 'adijnqu', 'adijnqv', 'adijnrt', 'adijnru', 'adijnrv', 'adijnst', 'adijnsu', 'adijnsv', 'adijopt', 'adijopu', 'adijopv', 'adijoqt', 'adijoqu', 'adijoqv', 'adijort', 'adijoru', 'adijorv', 'adijost', 'adijosu', 'adijosv', 'adikmpt', 'adikmpu', 'adikmpv', 'adikmqt', 'adikmqu', 'adikmqv', 'adikmrt', 'adikmru', 'adikmrv', 'adikmst', 'adikmsu', 'adikmsv', 'adiknpt', 'adiknpu', 'adiknpv', 'adiknqt', 'adiknqu', 'adiknqv', 'adiknrt', 'adiknru', 'adiknrv', 'adiknst', 'adiknsu', 'adiknsv', 'adikopt', 'adikopu', 'adikopv', 'adikoqt', 'adikoqu', 'adikoqv', 'adikort', 'adikoru', 'adikorv', 'adikost', 'adikosu', 'adikosv', 'adilmpt', 'adilmpu', 'adilmpv', 'adilmqt', 'adilmqu', 'adilmqv', 'adilmrt', 'adilmru', 'adilmrv', 'adilmst', 'adilmsu', 'adilmsv', 'adilnpt', 'adilnpu', 'adilnpv', 'adilnqt', 'adilnqu', 'adilnqv', 'adilnrt', 'adilnru', 'adilnrv', 'adilnst', 'adilnsu', 'adilnsv', 'adilopt', 'adilopu', 'adilopv', 'adiloqt', 'adiloqu', 'adiloqv', 'adilort', 'adiloru', 'adilorv', 'adilost', 'adilosu', 'adilosv', 'aegjmpt', 'aegjmpu', 'aegjmpv', 'aegjmqt', 'aegjmqu', 'aegjmqv', 'aegjmrt', 'aegjmru', 'aegjmrv', 'aegjmst', 'aegjmsu', 'aegjmsv', 'aegjnpt', 'aegjnpu', 'aegjnpv', 'aegjnqt', 'aegjnqu', 'aegjnqv', 'aegjnrt', 'aegjnru', 'aegjnrv', 'aegjnst', 'aegjnsu', 'aegjnsv', 'aegjopt', 'aegjopu', 'aegjopv', 'aegjoqt', 'aegjoqu', 'aegjoqv', 'aegjort', 'aegjoru', 'aegjorv', 'aegjost', 'aegjosu', 'aegjosv', 'aegkmpt', 'aegkmpu', 'aegkmpv', 'aegkmqt', 'aegkmqu', 'aegkmqv', 'aegkmrt', 'aegkmru', 'aegkmrv', 'aegkmst', 'aegkmsu', 'aegkmsv', 'aegknpt', 'aegknpu', 'aegknpv', 'aegknqt', 'aegknqu', 'aegknqv', 'aegknrt', 'aegknru', 'aegknrv', 'aegknst', 'aegknsu', 'aegknsv', 'aegkopt', 'aegkopu', 'aegkopv', 'aegkoqt', 'aegkoqu', 'aegkoqv', 'aegkort', 'aegkoru', 'aegkorv', 'aegkost', 'aegkosu', 'aegkosv', 'aeglmpt', 'aeglmpu', 'aeglmpv', 'aeglmqt', 'aeglmqu', 'aeglmqv', 'aeglmrt', 'aeglmru', 'aeglmrv', 'aeglmst', 'aeglmsu', 'aeglmsv', 'aeglnpt', 'aeglnpu', 'aeglnpv', 'aeglnqt', 'aeglnqu', 'aeglnqv', 'aeglnrt', 'aeglnru', 'aeglnrv', 'aeglnst', 'aeglnsu', 'aeglnsv', 'aeglopt', 'aeglopu', 'aeglopv', 'aegloqt', 'aegloqu', 'aegloqv', 'aeglort', 'aegloru', 'aeglorv', 'aeglost', 'aeglosu', 'aeglosv', 'aehjmpt', 'aehjmpu', 'aehjmpv', 'aehjmqt', 'aehjmqu', 'aehjmqv', 'aehjmrt', 'aehjmru', 'aehjmrv', 'aehjmst', 'aehjmsu', 'aehjmsv', 'aehjnpt', 'aehjnpu', 'aehjnpv', 'aehjnqt', 'aehjnqu', 'aehjnqv', 'aehjnrt', 'aehjnru', 'aehjnrv', 'aehjnst', 'aehjnsu', 'aehjnsv', 'aehjopt', 'aehjopu', 'aehjopv', 'aehjoqt', 'aehjoqu', 'aehjoqv', 'aehjort', 'aehjoru', 'aehjorv', 'aehjost', 'aehjosu', 'aehjosv', 'aehkmpt', 'aehkmpu', 'aehkmpv', 'aehkmqt', 'aehkmqu', 'aehkmqv', 'aehkmrt', 'aehkmru', 'aehkmrv', 'aehkmst', 'aehkmsu', 'aehkmsv', 'aehknpt', 'aehknpu', 'aehknpv', 'aehknqt', 'aehknqu', 'aehknqv', 'aehknrt', 'aehknru', 'aehknrv', 'aehknst', 'aehknsu', 'aehknsv', 'aehkopt', 'aehkopu', 'aehkopv', 'aehkoqt', 'aehkoqu', 'aehkoqv', 'aehkort', 'aehkoru', 'aehkorv', 'aehkost', 'aehkosu', 'aehkosv', 'aehlmpt', 'aehlmpu', 'aehlmpv', 'aehlmqt', 'aehlmqu', 'aehlmqv', 'aehlmrt', 'aehlmru', 'aehlmrv', 'aehlmst', 'aehlmsu', 'aehlmsv', 'aehlnpt', 'aehlnpu', 'aehlnpv', 'aehlnqt', 'aehlnqu', 'aehlnqv', 'aehlnrt', 'aehlnru', 'aehlnrv', 'aehlnst', 'aehlnsu', 'aehlnsv', 'aehlopt', 'aehlopu', 'aehlopv', 'aehloqt', 'aehloqu', 'aehloqv', 'aehlort', 'aehloru', 'aehlorv', 'aehlost', 'aehlosu', 'aehlosv', 'aeijmpt', 'aeijmpu', 'aeijmpv', 'aeijmqt', 'aeijmqu', 'aeijmqv', 'aeijmrt', 'aeijmru', 'aeijmrv', 'aeijmst', 'aeijmsu', 'aeijmsv', 'aeijnpt', 'aeijnpu', 'aeijnpv', 'aeijnqt', 'aeijnqu', 'aeijnqv', 'aeijnrt', 'aeijnru', 'aeijnrv', 'aeijnst', 'aeijnsu', 'aeijnsv', 'aeijopt', 'aeijopu', 'aeijopv', 'aeijoqt', 'aeijoqu', 'aeijoqv', 'aeijort', 'aeijoru', 'aeijorv', 'aeijost', 'aeijosu', 'aeijosv', 'aeikmpt', 'aeikmpu', 'aeikmpv', 'aeikmqt', 'aeikmqu', 'aeikmqv', 'aeikmrt', 'aeikmru', 'aeikmrv', 'aeikmst', 'aeikmsu', 'aeikmsv', 'aeiknpt', 'aeiknpu', 'aeiknpv', 'aeiknqt', 'aeiknqu', 'aeiknqv', 'aeiknrt', 'aeiknru', 'aeiknrv', 'aeiknst', 'aeiknsu', 'aeiknsv', 'aeikopt', 'aeikopu', 'aeikopv', 'aeikoqt', 'aeikoqu', 'aeikoqv', 'aeikort', 'aeikoru', 'aeikorv', 'aeikost', 'aeikosu', 'aeikosv', 'aeilmpt', 'aeilmpu', 'aeilmpv', 'aeilmqt', 'aeilmqu', 'aeilmqv', 'aeilmrt', 'aeilmru', 'aeilmrv', 'aeilmst', 'aeilmsu', 'aeilmsv', 'aeilnpt', 'aeilnpu', 'aeilnpv', 'aeilnqt', 'aeilnqu', 'aeilnqv', 'aeilnrt', 'aeilnru', 'aeilnrv', 'aeilnst', 'aeilnsu', 'aeilnsv', 'aeilopt', 'aeilopu', 'aeilopv', 'aeiloqt', 'aeiloqu', 'aeiloqv', 'aeilort', 'aeiloru', 'aeilorv', 'aeilost', 'aeilosu', 'aeilosv', 'afgjmpt', 'afgjmpu', 'afgjmpv', 'afgjmqt', 'afgjmqu', 'afgjmqv', 'afgjmrt', 'afgjmru', 'afgjmrv', 'afgjmst', 'afgjmsu', 'afgjmsv', 'afgjnpt', 'afgjnpu', 'afgjnpv', 'afgjnqt', 'afgjnqu', 'afgjnqv', 'afgjnrt', 'afgjnru', 'afgjnrv', 'afgjnst', 'afgjnsu', 'afgjnsv', 'afgjopt', 'afgjopu', 'afgjopv', 'afgjoqt', 'afgjoqu', 'afgjoqv', 'afgjort', 'afgjoru', 'afgjorv', 'afgjost', 'afgjosu', 'afgjosv', 'afgkmpt', 'afgkmpu', 'afgkmpv', 'afgkmqt', 'afgkmqu', 'afgkmqv', 'afgkmrt', 'afgkmru', 'afgkmrv', 'afgkmst', 'afgkmsu', 'afgkmsv', 'afgknpt', 'afgknpu', 'afgknpv', 'afgknqt', 'afgknqu', 'afgknqv', 'afgknrt', 'afgknru', 'afgknrv', 'afgknst', 'afgknsu', 'afgknsv', 'afgkopt', 'afgkopu', 'afgkopv', 'afgkoqt', 'afgkoqu', 'afgkoqv', 'afgkort', 'afgkoru', 'afgkorv', 'afgkost', 'afgkosu', 'afgkosv', 'afglmpt', 'afglmpu', 'afglmpv', 'afglmqt', 'afglmqu', 'afglmqv', 'afglmrt', 'afglmru', 'afglmrv', 'afglmst', 'afglmsu', 'afglmsv', 'afglnpt', 'afglnpu', 'afglnpv', 'afglnqt', 'afglnqu', 'afglnqv', 'afglnrt', 'afglnru', 'afglnrv', 'afglnst', 'afglnsu', 'afglnsv', 'afglopt', 'afglopu', 'afglopv', 'afgloqt', 'afgloqu', 'afgloqv', 'afglort', 'afgloru', 'afglorv', 'afglost', 'afglosu', 'afglosv', 'afhjmpt', 'afhjmpu', 'afhjmpv', 'afhjmqt', 'afhjmqu', 'afhjmqv', 'afhjmrt', 'afhjmru', 'afhjmrv', 'afhjmst', 'afhjmsu', 'afhjmsv', 'afhjnpt', 'afhjnpu', 'afhjnpv', 'afhjnqt', 'afhjnqu', 'afhjnqv', 'afhjnrt', 'afhjnru', 'afhjnrv', 'afhjnst', 'afhjnsu', 'afhjnsv', 'afhjopt', 'afhjopu', 'afhjopv', 'afhjoqt', 'afhjoqu', 'afhjoqv', 'afhjort', 'afhjoru', 'afhjorv', 'afhjost', 'afhjosu', 'afhjosv', 'afhkmpt', 'afhkmpu', 'afhkmpv', 'afhkmqt', 'afhkmqu', 'afhkmqv', 'afhkmrt', 'afhkmru', 'afhkmrv', 'afhkmst', 'afhkmsu', 'afhkmsv', 'afhknpt', 'afhknpu', 'afhknpv', 'afhknqt', 'afhknqu', 'afhknqv', 'afhknrt', 'afhknru', 'afhknrv', 'afhknst', 'afhknsu', 'afhknsv', 'afhkopt', 'afhkopu', 'afhkopv', 'afhkoqt', 'afhkoqu', 'afhkoqv', 'afhkort', 'afhkoru', 'afhkorv', 'afhkost', 'afhkosu', 'afhkosv', 'afhlmpt', 'afhlmpu', 'afhlmpv', 'afhlmqt', 'afhlmqu', 'afhlmqv', 'afhlmrt', 'afhlmru', 'afhlmrv', 'afhlmst', 'afhlmsu', 'afhlmsv', 'afhlnpt', 'afhlnpu', 'afhlnpv', 'afhlnqt', 'afhlnqu', 'afhlnqv', 'afhlnrt', 'afhlnru', 'afhlnrv', 'afhlnst', 'afhlnsu', 'afhlnsv', 'afhlopt', 'afhlopu', 'afhlopv', 'afhloqt', 'afhloqu', 'afhloqv', 'afhlort', 'afhloru', 'afhlorv', 'afhlost', 'afhlosu', 'afhlosv', 'afijmpt', 'afijmpu', 'afijmpv', 'afijmqt', 'afijmqu', 'afijmqv', 'afijmrt', 'afijmru', 'afijmrv', 'afijmst', 'afijmsu', 'afijmsv', 'afijnpt', 'afijnpu', 'afijnpv', 'afijnqt', 'afijnqu', 'afijnqv', 'afijnrt', 'afijnru', 'afijnrv', 'afijnst', 'afijnsu', 'afijnsv', 'afijopt', 'afijopu', 'afijopv', 'afijoqt', 'afijoqu', 'afijoqv', 'afijort', 'afijoru', 'afijorv', 'afijost', 'afijosu', 'afijosv', 'afikmpt', 'afikmpu', 'afikmpv', 'afikmqt', 'afikmqu', 'afikmqv', 'afikmrt', 'afikmru', 'afikmrv', 'afikmst', 'afikmsu', 'afikmsv', 'afiknpt', 'afiknpu', 'afiknpv', 'afiknqt', 'afiknqu', 'afiknqv', 'afiknrt', 'afiknru', 'afiknrv', 'afiknst', 'afiknsu', 'afiknsv', 'afikopt', 'afikopu', 'afikopv', 'afikoqt', 'afikoqu', 'afikoqv', 'afikort', 'afikoru', 'afikorv', 'afikost', 'afikosu', 'afikosv', 'afilmpt', 'afilmpu', 'afilmpv', 'afilmqt', 'afilmqu', 'afilmqv', 'afilmrt', 'afilmru', 'afilmrv', 'afilmst', 'afilmsu', 'afilmsv', 'afilnpt', 'afilnpu', 'afilnpv', 'afilnqt', 'afilnqu', 'afilnqv', 'afilnrt', 'afilnru', 'afilnrv', 'afilnst', 'afilnsu', 'afilnsv', 'afilopt', 'afilopu', 'afilopv', 'afiloqt', 'afiloqu', 'afiloqv', 'afilort', 'afiloru', 'afilorv', 'afilost', 'afilosu', 'afilosv', 'bdgjmpt', 'bdgjmpu', 'bdgjmpv', 'bdgjmqt', 'bdgjmqu', 'bdgjmqv', 'bdgjmrt', 'bdgjmru', 'bdgjmrv', 'bdgjmst', 'bdgjmsu', 'bdgjmsv', 'bdgjnpt', 'bdgjnpu', 'bdgjnpv', 'bdgjnqt', 'bdgjnqu', 'bdgjnqv', 'bdgjnrt', 'bdgjnru', 'bdgjnrv', 'bdgjnst', 'bdgjnsu', 'bdgjnsv', 'bdgjopt', 'bdgjopu', 'bdgjopv', 'bdgjoqt', 'bdgjoqu', 'bdgjoqv', 'bdgjort', 'bdgjoru', 'bdgjorv', 'bdgjost', 'bdgjosu', 'bdgjosv', 'bdgkmpt', 'bdgkmpu', 'bdgkmpv', 'bdgkmqt', 'bdgkmqu', 'bdgkmqv', 'bdgkmrt', 'bdgkmru', 'bdgkmrv', 'bdgkmst', 'bdgkmsu', 'bdgkmsv', 'bdgknpt', 'bdgknpu', 'bdgknpv', 'bdgknqt', 'bdgknqu', 'bdgknqv', 'bdgknrt', 'bdgknru', 'bdgknrv', 'bdgknst', 'bdgknsu', 'bdgknsv', 'bdgkopt', 'bdgkopu', 'bdgkopv', 'bdgkoqt', 'bdgkoqu', 'bdgkoqv', 'bdgkort', 'bdgkoru', 'bdgkorv', 'bdgkost', 'bdgkosu', 'bdgkosv', 'bdglmpt', 'bdglmpu', 'bdglmpv', 'bdglmqt', 'bdglmqu', 'bdglmqv', 'bdglmrt', 'bdglmru', 'bdglmrv', 'bdglmst', 'bdglmsu', 'bdglmsv', 'bdglnpt', 'bdglnpu', 'bdglnpv', 'bdglnqt', 'bdglnqu', 'bdglnqv', 'bdglnrt', 'bdglnru', 'bdglnrv', 'bdglnst', 'bdglnsu', 'bdglnsv', 'bdglopt', 'bdglopu', 'bdglopv', 'bdgloqt', 'bdgloqu', 'bdgloqv', 'bdglort', 'bdgloru', 'bdglorv', 'bdglost', 'bdglosu', 'bdglosv', 'bdhjmpt', 'bdhjmpu', 'bdhjmpv', 'bdhjmqt', 'bdhjmqu', 'bdhjmqv', 'bdhjmrt', 'bdhjmru', 'bdhjmrv', 'bdhjmst', 'bdhjmsu', 'bdhjmsv', 'bdhjnpt', 'bdhjnpu', 'bdhjnpv', 'bdhjnqt', 'bdhjnqu', 'bdhjnqv', 'bdhjnrt', 'bdhjnru', 'bdhjnrv', 'bdhjnst', 'bdhjnsu', 'bdhjnsv', 'bdhjopt', 'bdhjopu', 'bdhjopv', 'bdhjoqt', 'bdhjoqu', 'bdhjoqv', 'bdhjort', 'bdhjoru', 'bdhjorv', 'bdhjost', 'bdhjosu', 'bdhjosv', 'bdhkmpt', 'bdhkmpu', 'bdhkmpv', 'bdhkmqt', 'bdhkmqu', 'bdhkmqv', 'bdhkmrt', 'bdhkmru', 'bdhkmrv', 'bdhkmst', 'bdhkmsu', 'bdhkmsv', 'bdhknpt', 'bdhknpu', 'bdhknpv', 'bdhknqt', 'bdhknqu', 'bdhknqv', 'bdhknrt', 'bdhknru', 'bdhknrv', 'bdhknst', 'bdhknsu', 'bdhknsv', 'bdhkopt', 'bdhkopu', 'bdhkopv', 'bdhkoqt', 'bdhkoqu', 'bdhkoqv', 'bdhkort', 'bdhkoru', 'bdhkorv', 'bdhkost', 'bdhkosu', 'bdhkosv', 'bdhlmpt', 'bdhlmpu', 'bdhlmpv', 'bdhlmqt', 'bdhlmqu', 'bdhlmqv', 'bdhlmrt', 'bdhlmru', 'bdhlmrv', 'bdhlmst', 'bdhlmsu', 'bdhlmsv', 'bdhlnpt', 'bdhlnpu', 'bdhlnpv', 'bdhlnqt', 'bdhlnqu', 'bdhlnqv', 'bdhlnrt', 'bdhlnru', 'bdhlnrv', 'bdhlnst', 'bdhlnsu', 'bdhlnsv', 'bdhlopt', 'bdhlopu', 'bdhlopv', 'bdhloqt', 'bdhloqu', 'bdhloqv', 'bdhlort', 'bdhloru', 'bdhlorv', 'bdhlost', 'bdhlosu', 'bdhlosv', 'bdijmpt', 'bdijmpu', 'bdijmpv', 'bdijmqt', 'bdijmqu', 'bdijmqv', 'bdijmrt', 'bdijmru', 'bdijmrv', 'bdijmst', 'bdijmsu', 'bdijmsv', 'bdijnpt', 'bdijnpu', 'bdijnpv', 'bdijnqt', 'bdijnqu', 'bdijnqv', 'bdijnrt', 'bdijnru', 'bdijnrv', 'bdijnst', 'bdijnsu', 'bdijnsv', 'bdijopt', 'bdijopu', 'bdijopv', 'bdijoqt', 'bdijoqu', 'bdijoqv', 'bdijort', 'bdijoru', 'bdijorv', 'bdijost', 'bdijosu', 'bdijosv', 'bdikmpt', 'bdikmpu', 'bdikmpv', 'bdikmqt', 'bdikmqu', 'bdikmqv', 'bdikmrt', 'bdikmru', 'bdikmrv', 'bdikmst', 'bdikmsu', 'bdikmsv', 'bdiknpt', 'bdiknpu', 'bdiknpv', 'bdiknqt', 'bdiknqu', 'bdiknqv', 'bdiknrt', 'bdiknru', 'bdiknrv', 'bdiknst', 'bdiknsu', 'bdiknsv', 'bdikopt', 'bdikopu', 'bdikopv', 'bdikoqt', 'bdikoqu', 'bdikoqv', 'bdikort', 'bdikoru', 'bdikorv', 'bdikost', 'bdikosu', 'bdikosv', 'bdilmpt', 'bdilmpu', 'bdilmpv', 'bdilmqt', 'bdilmqu', 'bdilmqv', 'bdilmrt', 'bdilmru', 'bdilmrv', 'bdilmst', 'bdilmsu', 'bdilmsv', 'bdilnpt', 'bdilnpu', 'bdilnpv', 'bdilnqt', 'bdilnqu', 'bdilnqv', 'bdilnrt', 'bdilnru', 'bdilnrv', 'bdilnst', 'bdilnsu', 'bdilnsv', 'bdilopt', 'bdilopu', 'bdilopv', 'bdiloqt', 'bdiloqu', 'bdiloqv', 'bdilort', 'bdiloru', 'bdilorv', 'bdilost', 'bdilosu', 'bdilosv', 'begjmpt', 'begjmpu', 'begjmpv', 'begjmqt', 'begjmqu', 'begjmqv', 'begjmrt', 'begjmru', 'begjmrv', 'begjmst', 'begjmsu', 'begjmsv', 'begjnpt', 'begjnpu', 'begjnpv', 'begjnqt', 'begjnqu', 'begjnqv', 'begjnrt', 'begjnru', 'begjnrv', 'begjnst', 'begjnsu', 'begjnsv', 'begjopt', 'begjopu', 'begjopv', 'begjoqt', 'begjoqu', 'begjoqv', 'begjort', 'begjoru', 'begjorv', 'begjost', 'begjosu', 'begjosv', 'begkmpt', 'begkmpu', 'begkmpv', 'begkmqt', 'begkmqu', 'begkmqv', 'begkmrt', 'begkmru', 'begkmrv', 'begkmst', 'begkmsu', 'begkmsv', 'begknpt', 'begknpu', 'begknpv', 'begknqt', 'begknqu', 'begknqv', 'begknrt', 'begknru', 'begknrv', 'begknst', 'begknsu', 'begknsv', 'begkopt', 'begkopu', 'begkopv', 'begkoqt', 'begkoqu', 'begkoqv', 'begkort', 'begkoru', 'begkorv', 'begkost', 'begkosu', 'begkosv', 'beglmpt', 'beglmpu', 'beglmpv', 'beglmqt', 'beglmqu', 'beglmqv', 'beglmrt', 'beglmru', 'beglmrv', 'beglmst', 'beglmsu', 'beglmsv', 'beglnpt', 'beglnpu', 'beglnpv', 'beglnqt', 'beglnqu', 'beglnqv', 'beglnrt', 'beglnru', 'beglnrv', 'beglnst', 'beglnsu', 'beglnsv', 'beglopt', 'beglopu', 'beglopv', 'begloqt', 'begloqu', 'begloqv', 'beglort', 'begloru', 'beglorv', 'beglost', 'beglosu', 'beglosv', 'behjmpt', 'behjmpu', 'behjmpv', 'behjmqt', 'behjmqu', 'behjmqv', 'behjmrt', 'behjmru', 'behjmrv', 'behjmst', 'behjmsu', 'behjmsv', 'behjnpt', 'behjnpu', 'behjnpv', 'behjnqt', 'behjnqu', 'behjnqv', 'behjnrt', 'behjnru', 'behjnrv', 'behjnst', 'behjnsu', 'behjnsv', 'behjopt', 'behjopu', 'behjopv', 'behjoqt', 'behjoqu', 'behjoqv', 'behjort', 'behjoru', 'behjorv', 'behjost', 'behjosu', 'behjosv', 'behkmpt', 'behkmpu', 'behkmpv', 'behkmqt', 'behkmqu', 'behkmqv', 'behkmrt', 'behkmru', 'behkmrv', 'behkmst', 'behkmsu', 'behkmsv', 'behknpt', 'behknpu', 'behknpv', 'behknqt', 'behknqu', 'behknqv', 'behknrt', 'behknru', 'behknrv', 'behknst', 'behknsu', 'behknsv', 'behkopt', 'behkopu', 'behkopv', 'behkoqt', 'behkoqu', 'behkoqv', 'behkort', 'behkoru', 'behkorv', 'behkost', 'behkosu', 'behkosv', 'behlmpt', 'behlmpu', 'behlmpv', 'behlmqt', 'behlmqu', 'behlmqv', 'behlmrt', 'behlmru', 'behlmrv', 'behlmst', 'behlmsu', 'behlmsv', 'behlnpt', 'behlnpu', 'behlnpv', 'behlnqt', 'behlnqu', 'behlnqv', 'behlnrt', 'behlnru', 'behlnrv', 'behlnst', 'behlnsu', 'behlnsv', 'behlopt', 'behlopu', 'behlopv', 'behloqt', 'behloqu', 'behloqv', 'behlort', 'behloru', 'behlorv', 'behlost', 'behlosu', 'behlosv', 'beijmpt', 'beijmpu', 'beijmpv', 'beijmqt', 'beijmqu', 'beijmqv', 'beijmrt', 'beijmru', 'beijmrv', 'beijmst', 'beijmsu', 'beijmsv', 'beijnpt', 'beijnpu', 'beijnpv', 'beijnqt', 'beijnqu', 'beijnqv', 'beijnrt', 'beijnru', 'beijnrv', 'beijnst', 'beijnsu', 'beijnsv', 'beijopt', 'beijopu', 'beijopv', 'beijoqt', 'beijoqu', 'beijoqv', 'beijort', 'beijoru', 'beijorv', 'beijost', 'beijosu', 'beijosv', 'beikmpt', 'beikmpu', 'beikmpv', 'beikmqt', 'beikmqu', 'beikmqv', 'beikmrt', 'beikmru', 'beikmrv', 'beikmst', 'beikmsu', 'beikmsv', 'beiknpt', 'beiknpu', 'beiknpv', 'beiknqt', 'beiknqu', 'beiknqv', 'beiknrt', 'beiknru', 'beiknrv', 'beiknst', 'beiknsu', 'beiknsv', 'beikopt', 'beikopu', 'beikopv', 'beikoqt', 'beikoqu', 'beikoqv', 'beikort', 'beikoru', 'beikorv', 'beikost', 'beikosu', 'beikosv', 'beilmpt', 'beilmpu', 'beilmpv', 'beilmqt', 'beilmqu', 'beilmqv', 'beilmrt', 'beilmru', 'beilmrv', 'beilmst', 'beilmsu', 'beilmsv', 'beilnpt', 'beilnpu', 'beilnpv', 'beilnqt', 'beilnqu', 'beilnqv', 'beilnrt', 'beilnru', 'beilnrv', 'beilnst', 'beilnsu', 'beilnsv', 'beilopt', 'beilopu', 'beilopv', 'beiloqt', 'beiloqu', 'beiloqv', 'beilort', 'beiloru', 'beilorv', 'beilost', 'beilosu', 'beilosv', 'bfgjmpt', 'bfgjmpu', 'bfgjmpv', 'bfgjmqt', 'bfgjmqu', 'bfgjmqv', 'bfgjmrt', 'bfgjmru', 'bfgjmrv', 'bfgjmst', 'bfgjmsu', 'bfgjmsv', 'bfgjnpt', 'bfgjnpu', 'bfgjnpv', 'bfgjnqt', 'bfgjnqu', 'bfgjnqv', 'bfgjnrt', 'bfgjnru', 'bfgjnrv', 'bfgjnst', 'bfgjnsu', 'bfgjnsv', 'bfgjopt', 'bfgjopu', 'bfgjopv', 'bfgjoqt', 'bfgjoqu', 'bfgjoqv', 'bfgjort', 'bfgjoru', 'bfgjorv', 'bfgjost', 'bfgjosu', 'bfgjosv', 'bfgkmpt', 'bfgkmpu', 'bfgkmpv', 'bfgkmqt', 'bfgkmqu', 'bfgkmqv', 'bfgkmrt', 'bfgkmru', 'bfgkmrv', 'bfgkmst', 'bfgkmsu', 'bfgkmsv', 'bfgknpt', 'bfgknpu', 'bfgknpv', 'bfgknqt', 'bfgknqu', 'bfgknqv', 'bfgknrt', 'bfgknru', 'bfgknrv', 'bfgknst', 'bfgknsu', 'bfgknsv', 'bfgkopt', 'bfgkopu', 'bfgkopv', 'bfgkoqt', 'bfgkoqu', 'bfgkoqv', 'bfgkort', 'bfgkoru', 'bfgkorv', 'bfgkost', 'bfgkosu', 'bfgkosv', 'bfglmpt', 'bfglmpu', 'bfglmpv', 'bfglmqt', 'bfglmqu', 'bfglmqv', 'bfglmrt', 'bfglmru', 'bfglmrv', 'bfglmst', 'bfglmsu', 'bfglmsv', 'bfglnpt', 'bfglnpu', 'bfglnpv', 'bfglnqt', 'bfglnqu', 'bfglnqv', 'bfglnrt', 'bfglnru', 'bfglnrv', 'bfglnst', 'bfglnsu', 'bfglnsv', 'bfglopt', 'bfglopu', 'bfglopv', 'bfgloqt', 'bfgloqu', 'bfgloqv', 'bfglort', 'bfgloru', 'bfglorv', 'bfglost', 'bfglosu', 'bfglosv', 'bfhjmpt', 'bfhjmpu', 'bfhjmpv', 'bfhjmqt', 'bfhjmqu', 'bfhjmqv', 'bfhjmrt', 'bfhjmru', 'bfhjmrv', 'bfhjmst', 'bfhjmsu', 'bfhjmsv', 'bfhjnpt', 'bfhjnpu', 'bfhjnpv', 'bfhjnqt', 'bfhjnqu', 'bfhjnqv', 'bfhjnrt', 'bfhjnru', 'bfhjnrv', 'bfhjnst', 'bfhjnsu', 'bfhjnsv', 'bfhjopt', 'bfhjopu', 'bfhjopv', 'bfhjoqt', 'bfhjoqu', 'bfhjoqv', 'bfhjort', 'bfhjoru', 'bfhjorv', 'bfhjost', 'bfhjosu', 'bfhjosv', 'bfhkmpt', 'bfhkmpu', 'bfhkmpv', 'bfhkmqt', 'bfhkmqu', 'bfhkmqv', 'bfhkmrt', 'bfhkmru', 'bfhkmrv', 'bfhkmst', 'bfhkmsu', 'bfhkmsv', 'bfhknpt', 'bfhknpu', 'bfhknpv', 'bfhknqt', 'bfhknqu', 'bfhknqv', 'bfhknrt', 'bfhknru', 'bfhknrv', 'bfhknst', 'bfhknsu', 'bfhknsv', 'bfhkopt', 'bfhkopu', 'bfhkopv', 'bfhkoqt', 'bfhkoqu', 'bfhkoqv', 'bfhkort', 'bfhkoru', 'bfhkorv', 'bfhkost', 'bfhkosu', 'bfhkosv', 'bfhlmpt', 'bfhlmpu', 'bfhlmpv', 'bfhlmqt', 'bfhlmqu', 'bfhlmqv', 'bfhlmrt', 'bfhlmru', 'bfhlmrv', 'bfhlmst', 'bfhlmsu', 'bfhlmsv', 'bfhlnpt', 'bfhlnpu', 'bfhlnpv', 'bfhlnqt', 'bfhlnqu', 'bfhlnqv', 'bfhlnrt', 'bfhlnru', 'bfhlnrv', 'bfhlnst', 'bfhlnsu', 'bfhlnsv', 'bfhlopt', 'bfhlopu', 'bfhlopv', 'bfhloqt', 'bfhloqu', 'bfhloqv', 'bfhlort', 'bfhloru', 'bfhlorv', 'bfhlost', 'bfhlosu', 'bfhlosv', 'bfijmpt', 'bfijmpu', 'bfijmpv', 'bfijmqt', 'bfijmqu', 'bfijmqv', 'bfijmrt', 'bfijmru', 'bfijmrv', 'bfijmst', 'bfijmsu', 'bfijmsv', 'bfijnpt', 'bfijnpu', 'bfijnpv', 'bfijnqt', 'bfijnqu', 'bfijnqv', 'bfijnrt', 'bfijnru', 'bfijnrv', 'bfijnst', 'bfijnsu', 'bfijnsv', 'bfijopt', 'bfijopu', 'bfijopv', 'bfijoqt', 'bfijoqu', 'bfijoqv', 'bfijort', 'bfijoru', 'bfijorv', 'bfijost', 'bfijosu', 'bfijosv', 'bfikmpt', 'bfikmpu', 'bfikmpv', 'bfikmqt', 'bfikmqu', 'bfikmqv', 'bfikmrt', 'bfikmru', 'bfikmrv', 'bfikmst', 'bfikmsu', 'bfikmsv', 'bfiknpt', 'bfiknpu', 'bfiknpv', 'bfiknqt', 'bfiknqu', 'bfiknqv', 'bfiknrt', 'bfiknru', 'bfiknrv', 'bfiknst', 'bfiknsu', 'bfiknsv', 'bfikopt', 'bfikopu', 'bfikopv', 'bfikoqt', 'bfikoqu', 'bfikoqv', 'bfikort', 'bfikoru', 'bfikorv', 'bfikost', 'bfikosu', 'bfikosv', 'bfilmpt', 'bfilmpu', 'bfilmpv', 'bfilmqt', 'bfilmqu', 'bfilmqv', 'bfilmrt', 'bfilmru', 'bfilmrv', 'bfilmst', 'bfilmsu', 'bfilmsv', 'bfilnpt', 'bfilnpu', 'bfilnpv', 'bfilnqt', 'bfilnqu', 'bfilnqv', 'bfilnrt', 'bfilnru', 'bfilnrv', 'bfilnst', 'bfilnsu', 'bfilnsv', 'bfilopt', 'bfilopu', 'bfilopv', 'bfiloqt', 'bfiloqu', 'bfiloqv', 'bfilort', 'bfiloru', 'bfilorv', 'bfilost', 'bfilosu', 'bfilosv', 'cdgjmpt', 'cdgjmpu', 'cdgjmpv', 'cdgjmqt', 'cdgjmqu', 'cdgjmqv', 'cdgjmrt', 'cdgjmru', 'cdgjmrv', 'cdgjmst', 'cdgjmsu', 'cdgjmsv', 'cdgjnpt', 'cdgjnpu', 'cdgjnpv', 'cdgjnqt', 'cdgjnqu', 'cdgjnqv', 'cdgjnrt', 'cdgjnru', 'cdgjnrv', 'cdgjnst', 'cdgjnsu', 'cdgjnsv', 'cdgjopt', 'cdgjopu', 'cdgjopv', 'cdgjoqt', 'cdgjoqu', 'cdgjoqv', 'cdgjort', 'cdgjoru', 'cdgjorv', 'cdgjost', 'cdgjosu', 'cdgjosv', 'cdgkmpt', 'cdgkmpu', 'cdgkmpv', 'cdgkmqt', 'cdgkmqu', 'cdgkmqv', 'cdgkmrt', 'cdgkmru', 'cdgkmrv', 'cdgkmst', 'cdgkmsu', 'cdgkmsv', 'cdgknpt', 'cdgknpu', 'cdgknpv', 'cdgknqt', 'cdgknqu', 'cdgknqv', 'cdgknrt', 'cdgknru', 'cdgknrv', 'cdgknst', 'cdgknsu', 'cdgknsv', 'cdgkopt', 'cdgkopu', 'cdgkopv', 'cdgkoqt', 'cdgkoqu', 'cdgkoqv', 'cdgkort', 'cdgkoru', 'cdgkorv', 'cdgkost', 'cdgkosu', 'cdgkosv', 'cdglmpt', 'cdglmpu', 'cdglmpv', 'cdglmqt', 'cdglmqu', 'cdglmqv', 'cdglmrt', 'cdglmru', 'cdglmrv', 'cdglmst', 'cdglmsu', 'cdglmsv', 'cdglnpt', 'cdglnpu', 'cdglnpv', 'cdglnqt', 'cdglnqu', 'cdglnqv', 'cdglnrt', 'cdglnru', 'cdglnrv', 'cdglnst', 'cdglnsu', 'cdglnsv', 'cdglopt', 'cdglopu', 'cdglopv', 'cdgloqt', 'cdgloqu', 'cdgloqv', 'cdglort', 'cdgloru', 'cdglorv', 'cdglost', 'cdglosu', 'cdglosv', 'cdhjmpt', 'cdhjmpu', 'cdhjmpv', 'cdhjmqt', 'cdhjmqu', 'cdhjmqv', 'cdhjmrt', 'cdhjmru', 'cdhjmrv', 'cdhjmst', 'cdhjmsu', 'cdhjmsv', 'cdhjnpt', 'cdhjnpu', 'cdhjnpv', 'cdhjnqt', 'cdhjnqu', 'cdhjnqv', 'cdhjnrt', 'cdhjnru', 'cdhjnrv', 'cdhjnst', 'cdhjnsu', 'cdhjnsv', 'cdhjopt', 'cdhjopu', 'cdhjopv', 'cdhjoqt', 'cdhjoqu', 'cdhjoqv', 'cdhjort', 'cdhjoru', 'cdhjorv', 'cdhjost', 'cdhjosu', 'cdhjosv', 'cdhkmpt', 'cdhkmpu', 'cdhkmpv', 'cdhkmqt', 'cdhkmqu', 'cdhkmqv', 'cdhkmrt', 'cdhkmru', 'cdhkmrv', 'cdhkmst', 'cdhkmsu', 'cdhkmsv', 'cdhknpt', 'cdhknpu', 'cdhknpv', 'cdhknqt', 'cdhknqu', 'cdhknqv', 'cdhknrt', 'cdhknru', 'cdhknrv', 'cdhknst', 'cdhknsu', 'cdhknsv', 'cdhkopt', 'cdhkopu', 'cdhkopv', 'cdhkoqt', 'cdhkoqu', 'cdhkoqv', 'cdhkort', 'cdhkoru', 'cdhkorv', 'cdhkost', 'cdhkosu', 'cdhkosv', 'cdhlmpt', 'cdhlmpu', 'cdhlmpv', 'cdhlmqt', 'cdhlmqu', 'cdhlmqv', 'cdhlmrt', 'cdhlmru', 'cdhlmrv', 'cdhlmst', 'cdhlmsu', 'cdhlmsv', 'cdhlnpt', 'cdhlnpu', 'cdhlnpv', 'cdhlnqt', 'cdhlnqu', 'cdhlnqv', 'cdhlnrt', 'cdhlnru', 'cdhlnrv', 'cdhlnst', 'cdhlnsu', 'cdhlnsv', 'cdhlopt', 'cdhlopu', 'cdhlopv', 'cdhloqt', 'cdhloqu', 'cdhloqv', 'cdhlort', 'cdhloru', 'cdhlorv', 'cdhlost', 'cdhlosu', 'cdhlosv', 'cdijmpt', 'cdijmpu', 'cdijmpv', 'cdijmqt', 'cdijmqu', 'cdijmqv', 'cdijmrt', 'cdijmru', 'cdijmrv', 'cdijmst', 'cdijmsu', 'cdijmsv', 'cdijnpt', 'cdijnpu', 'cdijnpv', 'cdijnqt', 'cdijnqu', 'cdijnqv', 'cdijnrt', 'cdijnru', 'cdijnrv', 'cdijnst', 'cdijnsu', 'cdijnsv', 'cdijopt', 'cdijopu', 'cdijopv', 'cdijoqt', 'cdijoqu', 'cdijoqv', 'cdijort', 'cdijoru', 'cdijorv', 'cdijost', 'cdijosu', 'cdijosv', 'cdikmpt', 'cdikmpu', 'cdikmpv', 'cdikmqt', 'cdikmqu', 'cdikmqv', 'cdikmrt', 'cdikmru', 'cdikmrv', 'cdikmst', 'cdikmsu', 'cdikmsv', 'cdiknpt', 'cdiknpu', 'cdiknpv', 'cdiknqt', 'cdiknqu', 'cdiknqv', 'cdiknrt', 'cdiknru', 'cdiknrv', 'cdiknst', 'cdiknsu', 'cdiknsv', 'cdikopt', 'cdikopu', 'cdikopv', 'cdikoqt', 'cdikoqu', 'cdikoqv', 'cdikort', 'cdikoru', 'cdikorv', 'cdikost', 'cdikosu', 'cdikosv', 'cdilmpt', 'cdilmpu', 'cdilmpv', 'cdilmqt', 'cdilmqu', 'cdilmqv', 'cdilmrt', 'cdilmru', 'cdilmrv', 'cdilmst', 'cdilmsu', 'cdilmsv', 'cdilnpt', 'cdilnpu', 'cdilnpv', 'cdilnqt', 'cdilnqu', 'cdilnqv', 'cdilnrt', 'cdilnru', 'cdilnrv', 'cdilnst', 'cdilnsu', 'cdilnsv', 'cdilopt', 'cdilopu', 'cdilopv', 'cdiloqt', 'cdiloqu', 'cdiloqv', 'cdilort', 'cdiloru', 'cdilorv', 'cdilost', 'cdilosu', 'cdilosv', 'cegjmpt', 'cegjmpu', 'cegjmpv', 'cegjmqt', 'cegjmqu', 'cegjmqv', 'cegjmrt', 'cegjmru', 'cegjmrv', 'cegjmst', 'cegjmsu', 'cegjmsv', 'cegjnpt', 'cegjnpu', 'cegjnpv', 'cegjnqt', 'cegjnqu', 'cegjnqv', 'cegjnrt', 'cegjnru', 'cegjnrv', 'cegjnst', 'cegjnsu', 'cegjnsv', 'cegjopt', 'cegjopu', 'cegjopv', 'cegjoqt', 'cegjoqu', 'cegjoqv', 'cegjort', 'cegjoru', 'cegjorv', 'cegjost', 'cegjosu', 'cegjosv', 'cegkmpt', 'cegkmpu', 'cegkmpv', 'cegkmqt', 'cegkmqu', 'cegkmqv', 'cegkmrt', 'cegkmru', 'cegkmrv', 'cegkmst', 'cegkmsu', 'cegkmsv', 'cegknpt', 'cegknpu', 'cegknpv', 'cegknqt', 'cegknqu', 'cegknqv', 'cegknrt', 'cegknru', 'cegknrv', 'cegknst', 'cegknsu', 'cegknsv', 'cegkopt', 'cegkopu', 'cegkopv', 'cegkoqt', 'cegkoqu', 'cegkoqv', 'cegkort', 'cegkoru', 'cegkorv', 'cegkost', 'cegkosu', 'cegkosv', 'ceglmpt', 'ceglmpu', 'ceglmpv', 'ceglmqt', 'ceglmqu', 'ceglmqv', 'ceglmrt', 'ceglmru', 'ceglmrv', 'ceglmst', 'ceglmsu', 'ceglmsv', 'ceglnpt', 'ceglnpu', 'ceglnpv', 'ceglnqt', 'ceglnqu', 'ceglnqv', 'ceglnrt', 'ceglnru', 'ceglnrv', 'ceglnst', 'ceglnsu', 'ceglnsv', 'ceglopt', 'ceglopu', 'ceglopv', 'cegloqt', 'cegloqu', 'cegloqv', 'ceglort', 'cegloru', 'ceglorv', 'ceglost', 'ceglosu', 'ceglosv', 'cehjmpt', 'cehjmpu', 'cehjmpv', 'cehjmqt', 'cehjmqu', 'cehjmqv', 'cehjmrt', 'cehjmru', 'cehjmrv', 'cehjmst', 'cehjmsu', 'cehjmsv', 'cehjnpt', 'cehjnpu', 'cehjnpv', 'cehjnqt', 'cehjnqu', 'cehjnqv', 'cehjnrt', 'cehjnru', 'cehjnrv', 'cehjnst', 'cehjnsu', 'cehjnsv', 'cehjopt', 'cehjopu', 'cehjopv', 'cehjoqt', 'cehjoqu', 'cehjoqv', 'cehjort', 'cehjoru', 'cehjorv', 'cehjost', 'cehjosu', 'cehjosv', 'cehkmpt', 'cehkmpu', 'cehkmpv', 'cehkmqt', 'cehkmqu', 'cehkmqv', 'cehkmrt', 'cehkmru', 'cehkmrv', 'cehkmst', 'cehkmsu', 'cehkmsv', 'cehknpt', 'cehknpu', 'cehknpv', 'cehknqt', 'cehknqu', 'cehknqv', 'cehknrt', 'cehknru', 'cehknrv', 'cehknst', 'cehknsu', 'cehknsv', 'cehkopt', 'cehkopu', 'cehkopv', 'cehkoqt', 'cehkoqu', 'cehkoqv', 'cehkort', 'cehkoru', 'cehkorv', 'cehkost', 'cehkosu', 'cehkosv', 'cehlmpt', 'cehlmpu', 'cehlmpv', 'cehlmqt', 'cehlmqu', 'cehlmqv', 'cehlmrt', 'cehlmru', 'cehlmrv', 'cehlmst', 'cehlmsu', 'cehlmsv', 'cehlnpt', 'cehlnpu', 'cehlnpv', 'cehlnqt', 'cehlnqu', 'cehlnqv', 'cehlnrt', 'cehlnru', 'cehlnrv', 'cehlnst', 'cehlnsu', 'cehlnsv', 'cehlopt', 'cehlopu', 'cehlopv', 'cehloqt', 'cehloqu', 'cehloqv', 'cehlort', 'cehloru', 'cehlorv', 'cehlost', 'cehlosu', 'cehlosv', 'ceijmpt', 'ceijmpu', 'ceijmpv', 'ceijmqt', 'ceijmqu', 'ceijmqv', 'ceijmrt', 'ceijmru', 'ceijmrv', 'ceijmst', 'ceijmsu', 'ceijmsv', 'ceijnpt', 'ceijnpu', 'ceijnpv', 'ceijnqt', 'ceijnqu', 'ceijnqv', 'ceijnrt', 'ceijnru', 'ceijnrv', 'ceijnst', 'ceijnsu', 'ceijnsv', 'ceijopt', 'ceijopu', 'ceijopv', 'ceijoqt', 'ceijoqu', 'ceijoqv', 'ceijort', 'ceijoru', 'ceijorv', 'ceijost', 'ceijosu', 'ceijosv', 'ceikmpt', 'ceikmpu', 'ceikmpv', 'ceikmqt', 'ceikmqu', 'ceikmqv', 'ceikmrt', 'ceikmru', 'ceikmrv', 'ceikmst', 'ceikmsu', 'ceikmsv', 'ceiknpt', 'ceiknpu', 'ceiknpv', 'ceiknqt', 'ceiknqu', 'ceiknqv', 'ceiknrt', 'ceiknru', 'ceiknrv', 'ceiknst', 'ceiknsu', 'ceiknsv', 'ceikopt', 'ceikopu', 'ceikopv', 'ceikoqt', 'ceikoqu', 'ceikoqv', 'ceikort', 'ceikoru', 'ceikorv', 'ceikost', 'ceikosu', 'ceikosv', 'ceilmpt', 'ceilmpu', 'ceilmpv', 'ceilmqt', 'ceilmqu', 'ceilmqv', 'ceilmrt', 'ceilmru', 'ceilmrv', 'ceilmst', 'ceilmsu', 'ceilmsv', 'ceilnpt', 'ceilnpu', 'ceilnpv', 'ceilnqt', 'ceilnqu', 'ceilnqv', 'ceilnrt', 'ceilnru', 'ceilnrv', 'ceilnst', 'ceilnsu', 'ceilnsv', 'ceilopt', 'ceilopu', 'ceilopv', 'ceiloqt', 'ceiloqu', 'ceiloqv', 'ceilort', 'ceiloru', 'ceilorv', 'ceilost', 'ceilosu', 'ceilosv', 'cfgjmpt', 'cfgjmpu', 'cfgjmpv', 'cfgjmqt', 'cfgjmqu', 'cfgjmqv', 'cfgjmrt', 'cfgjmru', 'cfgjmrv', 'cfgjmst', 'cfgjmsu', 'cfgjmsv', 'cfgjnpt', 'cfgjnpu', 'cfgjnpv', 'cfgjnqt', 'cfgjnqu', 'cfgjnqv', 'cfgjnrt', 'cfgjnru', 'cfgjnrv', 'cfgjnst', 'cfgjnsu', 'cfgjnsv', 'cfgjopt', 'cfgjopu', 'cfgjopv', 'cfgjoqt', 'cfgjoqu', 'cfgjoqv', 'cfgjort', 'cfgjoru', 'cfgjorv', 'cfgjost', 'cfgjosu', 'cfgjosv', 'cfgkmpt', 'cfgkmpu', 'cfgkmpv', 'cfgkmqt', 'cfgkmqu', 'cfgkmqv', 'cfgkmrt', 'cfgkmru', 'cfgkmrv', 'cfgkmst', 'cfgkmsu', 'cfgkmsv', 'cfgknpt', 'cfgknpu', 'cfgknpv', 'cfgknqt', 'cfgknqu', 'cfgknqv', 'cfgknrt', 'cfgknru', 'cfgknrv', 'cfgknst', 'cfgknsu', 'cfgknsv', 'cfgkopt', 'cfgkopu', 'cfgkopv', 'cfgkoqt', 'cfgkoqu', 'cfgkoqv', 'cfgkort', 'cfgkoru', 'cfgkorv', 'cfgkost', 'cfgkosu', 'cfgkosv', 'cfglmpt', 'cfglmpu', 'cfglmpv', 'cfglmqt', 'cfglmqu', 'cfglmqv', 'cfglmrt', 'cfglmru', 'cfglmrv', 'cfglmst', 'cfglmsu', 'cfglmsv', 'cfglnpt', 'cfglnpu', 'cfglnpv', 'cfglnqt', 'cfglnqu', 'cfglnqv', 'cfglnrt', 'cfglnru', 'cfglnrv', 'cfglnst', 'cfglnsu', 'cfglnsv', 'cfglopt', 'cfglopu', 'cfglopv', 'cfgloqt', 'cfgloqu', 'cfgloqv', 'cfglort', 'cfgloru', 'cfglorv', 'cfglost', 'cfglosu', 'cfglosv', 'cfhjmpt', 'cfhjmpu', 'cfhjmpv', 'cfhjmqt', 'cfhjmqu', 'cfhjmqv', 'cfhjmrt', 'cfhjmru', 'cfhjmrv', 'cfhjmst', 'cfhjmsu', 'cfhjmsv', 'cfhjnpt', 'cfhjnpu', 'cfhjnpv', 'cfhjnqt', 'cfhjnqu', 'cfhjnqv', 'cfhjnrt', 'cfhjnru', 'cfhjnrv', 'cfhjnst', 'cfhjnsu', 'cfhjnsv', 'cfhjopt', 'cfhjopu', 'cfhjopv', 'cfhjoqt', 'cfhjoqu', 'cfhjoqv', 'cfhjort', 'cfhjoru', 'cfhjorv', 'cfhjost', 'cfhjosu', 'cfhjosv', 'cfhkmpt', 'cfhkmpu', 'cfhkmpv', 'cfhkmqt', 'cfhkmqu', 'cfhkmqv', 'cfhkmrt', 'cfhkmru', 'cfhkmrv', 'cfhkmst', 'cfhkmsu', 'cfhkmsv', 'cfhknpt', 'cfhknpu', 'cfhknpv', 'cfhknqt', 'cfhknqu', 'cfhknqv', 'cfhknrt', 'cfhknru', 'cfhknrv', 'cfhknst', 'cfhknsu', 'cfhknsv', 'cfhkopt', 'cfhkopu', 'cfhkopv', 'cfhkoqt', 'cfhkoqu', 'cfhkoqv', 'cfhkort', 'cfhkoru', 'cfhkorv', 'cfhkost', 'cfhkosu', 'cfhkosv', 'cfhlmpt', 'cfhlmpu', 'cfhlmpv', 'cfhlmqt', 'cfhlmqu', 'cfhlmqv', 'cfhlmrt', 'cfhlmru', 'cfhlmrv', 'cfhlmst', 'cfhlmsu', 'cfhlmsv', 'cfhlnpt', 'cfhlnpu', 'cfhlnpv', 'cfhlnqt', 'cfhlnqu', 'cfhlnqv', 'cfhlnrt', 'cfhlnru', 'cfhlnrv', 'cfhlnst', 'cfhlnsu', 'cfhlnsv', 'cfhlopt', 'cfhlopu', 'cfhlopv', 'cfhloqt', 'cfhloqu', 'cfhloqv', 'cfhlort', 'cfhloru', 'cfhlorv', 'cfhlost', 'cfhlosu', 'cfhlosv', 'cfijmpt', 'cfijmpu', 'cfijmpv', 'cfijmqt', 'cfijmqu', 'cfijmqv', 'cfijmrt', 'cfijmru', 'cfijmrv', 'cfijmst', 'cfijmsu', 'cfijmsv', 'cfijnpt', 'cfijnpu', 'cfijnpv', 'cfijnqt', 'cfijnqu', 'cfijnqv', 'cfijnrt', 'cfijnru', 'cfijnrv', 'cfijnst', 'cfijnsu', 'cfijnsv', 'cfijopt', 'cfijopu', 'cfijopv', 'cfijoqt', 'cfijoqu', 'cfijoqv', 'cfijort', 'cfijoru', 'cfijorv', 'cfijost', 'cfijosu', 'cfijosv', 'cfikmpt', 'cfikmpu', 'cfikmpv', 'cfikmqt', 'cfikmqu', 'cfikmqv', 'cfikmrt', 'cfikmru', 'cfikmrv', 'cfikmst', 'cfikmsu', 'cfikmsv', 'cfiknpt', 'cfiknpu', 'cfiknpv', 'cfiknqt', 'cfiknqu', 'cfiknqv', 'cfiknrt', 'cfiknru', 'cfiknrv', 'cfiknst', 'cfiknsu', 'cfiknsv', 'cfikopt', 'cfikopu', 'cfikopv', 'cfikoqt', 'cfikoqu', 'cfikoqv', 'cfikort', 'cfikoru', 'cfikorv', 'cfikost', 'cfikosu', 'cfikosv', 'cfilmpt', 'cfilmpu', 'cfilmpv', 'cfilmqt', 'cfilmqu', 'cfilmqv', 'cfilmrt', 'cfilmru', 'cfilmrv', 'cfilmst', 'cfilmsu', 'cfilmsv', 'cfilnpt', 'cfilnpu', 'cfilnpv', 'cfilnqt', 'cfilnqu', 'cfilnqv', 'cfilnrt', 'cfilnru', 'cfilnrv', 'cfilnst', 'cfilnsu', 'cfilnsv', 'cfilopt', 'cfilopu', 'cfilopv', 'cfiloqt', 'cfiloqu', 'cfiloqv', 'cfilort', 'cfiloru', 'cfilorv', 'cfilost', 'cfilosu', 'cfilosv']\n",
            "comb[:20]=['adgjmpt', 'adgjmpu', 'adgjmpv', 'adgjmqt', 'adgjmqu', 'adgjmqv', 'adgjmrt', 'adgjmru', 'adgjmrv', 'adgjmst', 'adgjmsu', 'adgjmsv', 'adgjnpt', 'adgjnpu', 'adgjnpv', 'adgjnqt', 'adgjnqu', 'adgjnqv', 'adgjnrt', 'adgjnru']\n"
          ]
        }
      ]
    },
    {
      "cell_type": "code",
      "source": [
        "x='ABC'\n",
        "y=\"123\"\n",
        "z=\"abc\"\n",
        "comb=[]\n",
        "for i in x:\n",
        "  for j in y:\n",
        "    for k in z:\n",
        "      comb.append(i+j+k)\n",
        "print(comb)\n",
        "print('!!!!!!!!!!!!!!!!!!!!!!!!!!!!!!!!!!!')\n",
        "comb2=[i+j+k for i in x for j in y for k in z]\n",
        "print(comb2)"
      ],
      "metadata": {
        "colab": {
          "base_uri": "https://localhost:8080/"
        },
        "id": "xU-zD66pjgXi",
        "outputId": "52506f27-96f1-4e1c-8274-93c689e48593"
      },
      "execution_count": null,
      "outputs": [
        {
          "output_type": "stream",
          "name": "stdout",
          "text": [
            "['A1a', 'A1b', 'A1c', 'A2a', 'A2b', 'A2c', 'A3a', 'A3b', 'A3c', 'B1a', 'B1b', 'B1c', 'B2a', 'B2b', 'B2c', 'B3a', 'B3b', 'B3c', 'C1a', 'C1b', 'C1c', 'C2a', 'C2b', 'C2c', 'C3a', 'C3b', 'C3c']\n",
            "!!!!!!!!!!!!!!!!!!!!!!!!!!!!!!!!!!!\n",
            "['A1a', 'A1b', 'A1c', 'A2a', 'A2b', 'A2c', 'A3a', 'A3b', 'A3c', 'B1a', 'B1b', 'B1c', 'B2a', 'B2b', 'B2c', 'B3a', 'B3b', 'B3c', 'C1a', 'C1b', 'C1c', 'C2a', 'C2b', 'C2c', 'C3a', 'C3b', 'C3c']\n"
          ]
        }
      ]
    },
    {
      "cell_type": "code",
      "source": [
        "x='ABC'\n",
        "y=\"123\"\n",
        "z=\"abc\"\n",
        "result=[[]]\n",
        "temp=[]\n",
        "args=[x,y,z]\n",
        "args=[tuple(arg) for arg in args]\n",
        "for arg in args:\n",
        " # print(arg)\n",
        "  for x in result:\n",
        "    temp=[]\n",
        "    for y in arg:\n",
        "      #print(y)\n",
        "      print(x+[y])\n",
        "      temp.append(x+[y])\n",
        "    result=temp\n"
      ],
      "metadata": {
        "colab": {
          "base_uri": "https://localhost:8080/"
        },
        "id": "MCTO8f9WkcTu",
        "outputId": "21265b79-b9c3-44c3-9d6d-ba5006647fd2"
      },
      "execution_count": null,
      "outputs": [
        {
          "output_type": "stream",
          "name": "stdout",
          "text": [
            "['A']\n",
            "['B']\n",
            "['C']\n",
            "['A', '1']\n",
            "['A', '2']\n",
            "['A', '3']\n",
            "['B', '1']\n",
            "['B', '2']\n",
            "['B', '3']\n",
            "['C', '1']\n",
            "['C', '2']\n",
            "['C', '3']\n",
            "['C', '1', 'a']\n",
            "['C', '1', 'b']\n",
            "['C', '1', 'c']\n",
            "['C', '2', 'a']\n",
            "['C', '2', 'b']\n",
            "['C', '2', 'c']\n",
            "['C', '3', 'a']\n",
            "['C', '3', 'b']\n",
            "['C', '3', 'c']\n"
          ]
        }
      ]
    },
    {
      "cell_type": "code",
      "source": [
        "x='ABC'\n",
        "y=\"123\"\n",
        "z=\"abc\"\n",
        "result=[[]]\n",
        "temp=[]\n",
        "args=[x,y,z]\n",
        "args=[tuple(arg) for arg in args]\n",
        "for arg in args:\n",
        " # print(arg)\n",
        "  for x in result:\n",
        "    #temp=[]####################it causes infinite loop\n",
        "    for y in arg:\n",
        "      #print(y)\n",
        "      print(x+[y])\n",
        "      temp.append(x+[y])\n",
        "    result=temp\n"
      ],
      "metadata": {
        "id": "UrrxWT10mzGP"
      },
      "execution_count": null,
      "outputs": []
    },
    {
      "cell_type": "code",
      "source": [
        "x='ABC'\n",
        "y=\"123\"\n",
        "z=\"abc\"\n",
        "result=[[]]\n",
        "temp=[]\n",
        "args=[x,y,z]\n",
        "args=[tuple(arg) for arg in args]\n",
        "# for arg in args:\n",
        "#  # print(arg)\n",
        "#   for x in result:\n",
        "#     #temp=[]####################it causes infinite loop\n",
        "#     for y in arg:\n",
        "#       #print(y)\n",
        "#       print(x+[y])\n",
        "#       temp.append(x+[y])\n",
        "#     result=temp\n",
        "for arg in args:\n",
        "  result=[x+[y] for x in result for y in arg]\n",
        "  print(result)\n",
        "print('!!!!!!!!!!!!!!!!!!!!!!!!!!!')\n",
        "print(result)\n",
        "print(len(result))"
      ],
      "metadata": {
        "colab": {
          "base_uri": "https://localhost:8080/"
        },
        "id": "CnAfscAMm_8f",
        "outputId": "a4272e37-b4b1-421b-e96b-6ee06ca4bb9e"
      },
      "execution_count": null,
      "outputs": [
        {
          "output_type": "stream",
          "name": "stdout",
          "text": [
            "[['A'], ['B'], ['C']]\n",
            "[['A', '1'], ['A', '2'], ['A', '3'], ['B', '1'], ['B', '2'], ['B', '3'], ['C', '1'], ['C', '2'], ['C', '3']]\n",
            "[['A', '1', 'a'], ['A', '1', 'b'], ['A', '1', 'c'], ['A', '2', 'a'], ['A', '2', 'b'], ['A', '2', 'c'], ['A', '3', 'a'], ['A', '3', 'b'], ['A', '3', 'c'], ['B', '1', 'a'], ['B', '1', 'b'], ['B', '1', 'c'], ['B', '2', 'a'], ['B', '2', 'b'], ['B', '2', 'c'], ['B', '3', 'a'], ['B', '3', 'b'], ['B', '3', 'c'], ['C', '1', 'a'], ['C', '1', 'b'], ['C', '1', 'c'], ['C', '2', 'a'], ['C', '2', 'b'], ['C', '2', 'c'], ['C', '3', 'a'], ['C', '3', 'b'], ['C', '3', 'c']]\n",
            "!!!!!!!!!!!!!!!!!!!!!!!!!!!\n",
            "[['A', '1', 'a'], ['A', '1', 'b'], ['A', '1', 'c'], ['A', '2', 'a'], ['A', '2', 'b'], ['A', '2', 'c'], ['A', '3', 'a'], ['A', '3', 'b'], ['A', '3', 'c'], ['B', '1', 'a'], ['B', '1', 'b'], ['B', '1', 'c'], ['B', '2', 'a'], ['B', '2', 'b'], ['B', '2', 'c'], ['B', '3', 'a'], ['B', '3', 'b'], ['B', '3', 'c'], ['C', '1', 'a'], ['C', '1', 'b'], ['C', '1', 'c'], ['C', '2', 'a'], ['C', '2', 'b'], ['C', '2', 'c'], ['C', '3', 'a'], ['C', '3', 'b'], ['C', '3', 'c']]\n",
            "27\n"
          ]
        }
      ]
    },
    {
      "cell_type": "markdown",
      "source": [
        "#TEST THIS"
      ],
      "metadata": {
        "id": "22XJdhy8Fw8j"
      }
    },
    {
      "cell_type": "code",
      "source": [
        "a: float=input()\n",
        "print(a)\n",
        "print(type(a))"
      ],
      "metadata": {
        "id": "89nt9xx4Fvtu"
      },
      "execution_count": null,
      "outputs": []
    },
    {
      "cell_type": "code",
      "source": [
        "print(4<4)"
      ],
      "metadata": {
        "colab": {
          "base_uri": "https://localhost:8080/"
        },
        "id": "48WJtkqtNUqW",
        "outputId": "84d49c86-ef1e-4688-db58-8ce4a844d1b3"
      },
      "execution_count": null,
      "outputs": [
        {
          "output_type": "stream",
          "name": "stdout",
          "text": [
            "False\n"
          ]
        }
      ]
    },
    {
      "cell_type": "code",
      "source": [
        "from collections import Counter\n",
        "l=input().split()\n",
        "print(l)\n",
        "sales=Counter(l)\n",
        "print(sales)"
      ],
      "metadata": {
        "id": "ebLrBkKaNWjf",
        "colab": {
          "base_uri": "https://localhost:8080/"
        },
        "outputId": "41fb7b83-36dd-422d-acae-5603b45c40cf"
      },
      "execution_count": null,
      "outputs": [
        {
          "output_type": "stream",
          "name": "stdout",
          "text": [
            "banab=15 apple=20 rab=56\n",
            "['banab=15', 'apple=20', 'rab=56']\n",
            "Counter({'banab=15': 1, 'apple=20': 1, 'rab=56': 1})\n"
          ]
        }
      ]
    },
    {
      "cell_type": "code",
      "source": [
        "from collections import Counter\n",
        "l=input().split('=')\n",
        "print(l)\n",
        "sales=Counter(l)\n",
        "print(sales)"
      ],
      "metadata": {
        "colab": {
          "base_uri": "https://localhost:8080/"
        },
        "id": "RPXvTuP_DwOH",
        "outputId": "bef7ecd3-e17b-4dcf-f30e-855e29cfa6d5"
      },
      "execution_count": null,
      "outputs": [
        {
          "output_type": "stream",
          "name": "stdout",
          "text": [
            "banab=15apple=20rab=56\n",
            "['banab', '15apple', '20rab', '56']\n",
            "Counter({'banab': 1, '15apple': 1, '20rab': 1, '56': 1})\n"
          ]
        }
      ]
    },
    {
      "cell_type": "code",
      "source": [],
      "metadata": {
        "id": "71rL1WBpEW7P"
      },
      "execution_count": null,
      "outputs": []
    }
  ]
}