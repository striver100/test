{
  "nbformat": 4,
  "nbformat_minor": 0,
  "metadata": {
    "colab": {
      "provenance": [],
      "authorship_tag": "ABX9TyNQMBo8Shc+Ci0x3lf4F5u3",
      "include_colab_link": true
    },
    "kernelspec": {
      "name": "python3",
      "display_name": "Python 3"
    },
    "language_info": {
      "name": "python"
    }
  },
  "cells": [
    {
      "cell_type": "markdown",
      "metadata": {
        "id": "view-in-github",
        "colab_type": "text"
      },
      "source": [
        "<a href=\"https://colab.research.google.com/github/StriverPraveen/test/blob/main/collections%5Ccollections_module_problems.ipynb\" target=\"_parent\"><img src=\"https://colab.research.google.com/assets/colab-badge.svg\" alt=\"Open In Colab\"/></a>"
      ]
    },
    {
      "cell_type": "markdown",
      "source": [
        "#Counter"
      ],
      "metadata": {
        "id": "rrMIN54Ur3_H"
      }
    },
    {
      "cell_type": "markdown",
      "source": [
        "realpython website link\n",
        "https://realpython.com/python-counter/"
      ],
      "metadata": {
        "id": "CpYR47PNsATN"
      }
    },
    {
      "cell_type": "code",
      "source": [
        "word='kuruba praveen kumar'\n",
        "counter={}\n",
        "for letter in word:\n",
        "  if letter not in counter:\n",
        "    print(counter,\"before\")\n",
        "    counter[letter]=0\n",
        "    print(counter,'middle')\n",
        "\n",
        "  counter[letter]+=1\n",
        "  print(counter,'last')\n",
        "print('!!!!!!!!!!!!!!!!!!!!!!!!!!!!!!!!!!!!!!!!!!!!!!!!!!!!!!!!!!!!!!!!!!!!!!!!!!!!!!!!!!!!!!!!!!!!!!!!!!')\n",
        "print(counter)"
      ],
      "metadata": {
        "colab": {
          "base_uri": "https://localhost:8080/"
        },
        "id": "1jJ48PXVr8Yf",
        "outputId": "a0fa974e-d698-40a1-9b06-97f06e4f3106"
      },
      "execution_count": null,
      "outputs": [
        {
          "output_type": "stream",
          "name": "stdout",
          "text": [
            "{} before\n",
            "{'k': 0} middle\n",
            "{'k': 1} last\n",
            "{'k': 1} before\n",
            "{'k': 1, 'u': 0} middle\n",
            "{'k': 1, 'u': 1} last\n",
            "{'k': 1, 'u': 1} before\n",
            "{'k': 1, 'u': 1, 'r': 0} middle\n",
            "{'k': 1, 'u': 1, 'r': 1} last\n",
            "{'k': 1, 'u': 2, 'r': 1} last\n",
            "{'k': 1, 'u': 2, 'r': 1} before\n",
            "{'k': 1, 'u': 2, 'r': 1, 'b': 0} middle\n",
            "{'k': 1, 'u': 2, 'r': 1, 'b': 1} last\n",
            "{'k': 1, 'u': 2, 'r': 1, 'b': 1} before\n",
            "{'k': 1, 'u': 2, 'r': 1, 'b': 1, 'a': 0} middle\n",
            "{'k': 1, 'u': 2, 'r': 1, 'b': 1, 'a': 1} last\n",
            "{'k': 1, 'u': 2, 'r': 1, 'b': 1, 'a': 1} before\n",
            "{'k': 1, 'u': 2, 'r': 1, 'b': 1, 'a': 1, ' ': 0} middle\n",
            "{'k': 1, 'u': 2, 'r': 1, 'b': 1, 'a': 1, ' ': 1} last\n",
            "{'k': 1, 'u': 2, 'r': 1, 'b': 1, 'a': 1, ' ': 1} before\n",
            "{'k': 1, 'u': 2, 'r': 1, 'b': 1, 'a': 1, ' ': 1, 'p': 0} middle\n",
            "{'k': 1, 'u': 2, 'r': 1, 'b': 1, 'a': 1, ' ': 1, 'p': 1} last\n",
            "{'k': 1, 'u': 2, 'r': 2, 'b': 1, 'a': 1, ' ': 1, 'p': 1} last\n",
            "{'k': 1, 'u': 2, 'r': 2, 'b': 1, 'a': 2, ' ': 1, 'p': 1} last\n",
            "{'k': 1, 'u': 2, 'r': 2, 'b': 1, 'a': 2, ' ': 1, 'p': 1} before\n",
            "{'k': 1, 'u': 2, 'r': 2, 'b': 1, 'a': 2, ' ': 1, 'p': 1, 'v': 0} middle\n",
            "{'k': 1, 'u': 2, 'r': 2, 'b': 1, 'a': 2, ' ': 1, 'p': 1, 'v': 1} last\n",
            "{'k': 1, 'u': 2, 'r': 2, 'b': 1, 'a': 2, ' ': 1, 'p': 1, 'v': 1} before\n",
            "{'k': 1, 'u': 2, 'r': 2, 'b': 1, 'a': 2, ' ': 1, 'p': 1, 'v': 1, 'e': 0} middle\n",
            "{'k': 1, 'u': 2, 'r': 2, 'b': 1, 'a': 2, ' ': 1, 'p': 1, 'v': 1, 'e': 1} last\n",
            "{'k': 1, 'u': 2, 'r': 2, 'b': 1, 'a': 2, ' ': 1, 'p': 1, 'v': 1, 'e': 2} last\n",
            "{'k': 1, 'u': 2, 'r': 2, 'b': 1, 'a': 2, ' ': 1, 'p': 1, 'v': 1, 'e': 2} before\n",
            "{'k': 1, 'u': 2, 'r': 2, 'b': 1, 'a': 2, ' ': 1, 'p': 1, 'v': 1, 'e': 2, 'n': 0} middle\n",
            "{'k': 1, 'u': 2, 'r': 2, 'b': 1, 'a': 2, ' ': 1, 'p': 1, 'v': 1, 'e': 2, 'n': 1} last\n",
            "{'k': 1, 'u': 2, 'r': 2, 'b': 1, 'a': 2, ' ': 2, 'p': 1, 'v': 1, 'e': 2, 'n': 1} last\n",
            "{'k': 2, 'u': 2, 'r': 2, 'b': 1, 'a': 2, ' ': 2, 'p': 1, 'v': 1, 'e': 2, 'n': 1} last\n",
            "{'k': 2, 'u': 3, 'r': 2, 'b': 1, 'a': 2, ' ': 2, 'p': 1, 'v': 1, 'e': 2, 'n': 1} last\n",
            "{'k': 2, 'u': 3, 'r': 2, 'b': 1, 'a': 2, ' ': 2, 'p': 1, 'v': 1, 'e': 2, 'n': 1} before\n",
            "{'k': 2, 'u': 3, 'r': 2, 'b': 1, 'a': 2, ' ': 2, 'p': 1, 'v': 1, 'e': 2, 'n': 1, 'm': 0} middle\n",
            "{'k': 2, 'u': 3, 'r': 2, 'b': 1, 'a': 2, ' ': 2, 'p': 1, 'v': 1, 'e': 2, 'n': 1, 'm': 1} last\n",
            "{'k': 2, 'u': 3, 'r': 2, 'b': 1, 'a': 3, ' ': 2, 'p': 1, 'v': 1, 'e': 2, 'n': 1, 'm': 1} last\n",
            "{'k': 2, 'u': 3, 'r': 3, 'b': 1, 'a': 3, ' ': 2, 'p': 1, 'v': 1, 'e': 2, 'n': 1, 'm': 1} last\n",
            "!!!!!!!!!!!!!!!!!!!!!!!!!!!!!!!!!!!!!!!!!!!!!!!!!!!!!!!!!!!!!!!!!!!!!!!!!!!!!!!!!!!!!!!!!!!!!!!!!!\n",
            "{'k': 2, 'u': 3, 'r': 3, 'b': 1, 'a': 3, ' ': 2, 'p': 1, 'v': 1, 'e': 2, 'n': 1, 'm': 1}\n"
          ]
        }
      ]
    },
    {
      "cell_type": "code",
      "source": [
        "word='HELLO'\n",
        "counter={}\n",
        "for letter in word:\n",
        "  counter[letter]=counter.get(letter,0)+1\n",
        "  print(counter)\n",
        "print('!!!!!!!!!!!!!!!!!!!!!!!!!!!!!!!!!!!!!!!!!!!!!')\n",
        "print(counter)"
      ],
      "metadata": {
        "colab": {
          "base_uri": "https://localhost:8080/"
        },
        "id": "8mKq5RPmyEfi",
        "outputId": "c25a7881-11e1-49af-9d40-e638db6c4eb9"
      },
      "execution_count": null,
      "outputs": [
        {
          "output_type": "stream",
          "name": "stdout",
          "text": [
            "{'H': 1}\n",
            "{'H': 1, 'E': 1}\n",
            "{'H': 1, 'E': 1, 'L': 1}\n",
            "{'H': 1, 'E': 1, 'L': 2}\n",
            "{'H': 1, 'E': 1, 'L': 2, 'O': 1}\n",
            "!!!!!!!!!!!!!!!!!!!!!!!!!!!!!!!!!!!!!!!!!!!!!\n",
            "{'H': 1, 'E': 1, 'L': 2, 'O': 1}\n"
          ]
        }
      ]
    },
    {
      "cell_type": "code",
      "source": [
        "word='HELLO'\n",
        "counter={}\n",
        "for letter in word:\n",
        "  counter[letter]+=1\n",
        "  print(counter)\n",
        "print('!!!!!!!!!!!!!!!!!!!!!!!!!!!!!!!!!!!!!!!!!!!!!')\n",
        "print(counter)"
      ],
      "metadata": {
        "colab": {
          "base_uri": "https://localhost:8080/",
          "height": 235
        },
        "id": "hyiLZokwyXvY",
        "outputId": "d24c9349-fa6b-4eb2-f798-ac09841a48cf"
      },
      "execution_count": null,
      "outputs": [
        {
          "output_type": "error",
          "ename": "KeyError",
          "evalue": "ignored",
          "traceback": [
            "\u001b[0;31m---------------------------------------------------------------------------\u001b[0m",
            "\u001b[0;31mKeyError\u001b[0m                                  Traceback (most recent call last)",
            "\u001b[0;32m<ipython-input-11-b88524b13b65>\u001b[0m in \u001b[0;36m<module>\u001b[0;34m\u001b[0m\n\u001b[1;32m      2\u001b[0m \u001b[0mcounter\u001b[0m\u001b[0;34m=\u001b[0m\u001b[0;34m{\u001b[0m\u001b[0;34m}\u001b[0m\u001b[0;34m\u001b[0m\u001b[0;34m\u001b[0m\u001b[0m\n\u001b[1;32m      3\u001b[0m \u001b[0;32mfor\u001b[0m \u001b[0mletter\u001b[0m \u001b[0;32min\u001b[0m \u001b[0mword\u001b[0m\u001b[0;34m:\u001b[0m\u001b[0;34m\u001b[0m\u001b[0;34m\u001b[0m\u001b[0m\n\u001b[0;32m----> 4\u001b[0;31m   \u001b[0mcounter\u001b[0m\u001b[0;34m[\u001b[0m\u001b[0mletter\u001b[0m\u001b[0;34m]\u001b[0m\u001b[0;34m+=\u001b[0m\u001b[0;36m1\u001b[0m\u001b[0;34m\u001b[0m\u001b[0;34m\u001b[0m\u001b[0m\n\u001b[0m\u001b[1;32m      5\u001b[0m   \u001b[0mprint\u001b[0m\u001b[0;34m(\u001b[0m\u001b[0mcounter\u001b[0m\u001b[0;34m)\u001b[0m\u001b[0;34m\u001b[0m\u001b[0;34m\u001b[0m\u001b[0m\n\u001b[1;32m      6\u001b[0m \u001b[0mprint\u001b[0m\u001b[0;34m(\u001b[0m\u001b[0;34m'!!!!!!!!!!!!!!!!!!!!!!!!!!!!!!!!!!!!!!!!!!!!!'\u001b[0m\u001b[0;34m)\u001b[0m\u001b[0;34m\u001b[0m\u001b[0;34m\u001b[0m\u001b[0m\n",
            "\u001b[0;31mKeyError\u001b[0m: 'H'"
          ]
        }
      ]
    },
    {
      "cell_type": "code",
      "source": [
        "word='kuruba praveen kumar'\n",
        "counter={}\n",
        "for letter in word:\n",
        "  counter[letter]=counter.get(letter,0)+1\n",
        "  print(counter)\n",
        "print('!!!!!!!!!!!!!!!!!!!!!!!!!!!!!!!!!!!!!!!!!!!!!')\n",
        "print(counter)\n",
        "for i in counter:\n",
        "  print(i,counter[i])"
      ],
      "metadata": {
        "colab": {
          "base_uri": "https://localhost:8080/"
        },
        "id": "WwaPk4H5tbFY",
        "outputId": "15b7bcb8-7cc5-4de2-dd1f-3f77cdd237d8"
      },
      "execution_count": null,
      "outputs": [
        {
          "output_type": "stream",
          "name": "stdout",
          "text": [
            "{'k': 1}\n",
            "{'k': 1, 'u': 1}\n",
            "{'k': 1, 'u': 1, 'r': 1}\n",
            "{'k': 1, 'u': 2, 'r': 1}\n",
            "{'k': 1, 'u': 2, 'r': 1, 'b': 1}\n",
            "{'k': 1, 'u': 2, 'r': 1, 'b': 1, 'a': 1}\n",
            "{'k': 1, 'u': 2, 'r': 1, 'b': 1, 'a': 1, ' ': 1}\n",
            "{'k': 1, 'u': 2, 'r': 1, 'b': 1, 'a': 1, ' ': 1, 'p': 1}\n",
            "{'k': 1, 'u': 2, 'r': 2, 'b': 1, 'a': 1, ' ': 1, 'p': 1}\n",
            "{'k': 1, 'u': 2, 'r': 2, 'b': 1, 'a': 2, ' ': 1, 'p': 1}\n",
            "{'k': 1, 'u': 2, 'r': 2, 'b': 1, 'a': 2, ' ': 1, 'p': 1, 'v': 1}\n",
            "{'k': 1, 'u': 2, 'r': 2, 'b': 1, 'a': 2, ' ': 1, 'p': 1, 'v': 1, 'e': 1}\n",
            "{'k': 1, 'u': 2, 'r': 2, 'b': 1, 'a': 2, ' ': 1, 'p': 1, 'v': 1, 'e': 2}\n",
            "{'k': 1, 'u': 2, 'r': 2, 'b': 1, 'a': 2, ' ': 1, 'p': 1, 'v': 1, 'e': 2, 'n': 1}\n",
            "{'k': 1, 'u': 2, 'r': 2, 'b': 1, 'a': 2, ' ': 2, 'p': 1, 'v': 1, 'e': 2, 'n': 1}\n",
            "{'k': 2, 'u': 2, 'r': 2, 'b': 1, 'a': 2, ' ': 2, 'p': 1, 'v': 1, 'e': 2, 'n': 1}\n",
            "{'k': 2, 'u': 3, 'r': 2, 'b': 1, 'a': 2, ' ': 2, 'p': 1, 'v': 1, 'e': 2, 'n': 1}\n",
            "{'k': 2, 'u': 3, 'r': 2, 'b': 1, 'a': 2, ' ': 2, 'p': 1, 'v': 1, 'e': 2, 'n': 1, 'm': 1}\n",
            "{'k': 2, 'u': 3, 'r': 2, 'b': 1, 'a': 3, ' ': 2, 'p': 1, 'v': 1, 'e': 2, 'n': 1, 'm': 1}\n",
            "{'k': 2, 'u': 3, 'r': 3, 'b': 1, 'a': 3, ' ': 2, 'p': 1, 'v': 1, 'e': 2, 'n': 1, 'm': 1}\n",
            "!!!!!!!!!!!!!!!!!!!!!!!!!!!!!!!!!!!!!!!!!!!!!\n",
            "{'k': 2, 'u': 3, 'r': 3, 'b': 1, 'a': 3, ' ': 2, 'p': 1, 'v': 1, 'e': 2, 'n': 1, 'm': 1}\n",
            "k 2\n",
            "u 3\n",
            "r 3\n",
            "b 1\n",
            "a 3\n",
            "  2\n",
            "p 1\n",
            "v 1\n",
            "e 2\n",
            "n 1\n",
            "m 1\n"
          ]
        }
      ]
    },
    {
      "cell_type": "code",
      "source": [
        "from collections import defaultdict\n",
        "word=\"HELLO\"\n",
        "counter=defaultdict(int)\n",
        "for letter in word:\n",
        "  print(counter,'!FIRST          in the loop at        !')\n",
        "  counter[letter]+=1\n",
        "  print(counter,\"! LAST        in the loop   at       !\")\n",
        "print('!!!!!!!!!!!!!!!!!!!!!!!!!!!!!!!!!!!!!!!!!!!!!!!!')\n",
        "print(counter)\n",
        "for i in counter:\n",
        "  print(i,counter[i])"
      ],
      "metadata": {
        "colab": {
          "base_uri": "https://localhost:8080/"
        },
        "id": "0LMOVDlFveo8",
        "outputId": "3486f62d-71fe-4a79-8acf-645873c74401"
      },
      "execution_count": null,
      "outputs": [
        {
          "output_type": "stream",
          "name": "stdout",
          "text": [
            "defaultdict(<class 'int'>, {}) !FIRST          in the loop at        !\n",
            "defaultdict(<class 'int'>, {'H': 1}) ! LAST        in the loop   at       !\n",
            "defaultdict(<class 'int'>, {'H': 1}) !FIRST          in the loop at        !\n",
            "defaultdict(<class 'int'>, {'H': 1, 'E': 1}) ! LAST        in the loop   at       !\n",
            "defaultdict(<class 'int'>, {'H': 1, 'E': 1}) !FIRST          in the loop at        !\n",
            "defaultdict(<class 'int'>, {'H': 1, 'E': 1, 'L': 1}) ! LAST        in the loop   at       !\n",
            "defaultdict(<class 'int'>, {'H': 1, 'E': 1, 'L': 1}) !FIRST          in the loop at        !\n",
            "defaultdict(<class 'int'>, {'H': 1, 'E': 1, 'L': 2}) ! LAST        in the loop   at       !\n",
            "defaultdict(<class 'int'>, {'H': 1, 'E': 1, 'L': 2}) !FIRST          in the loop at        !\n",
            "defaultdict(<class 'int'>, {'H': 1, 'E': 1, 'L': 2, 'O': 1}) ! LAST        in the loop   at       !\n",
            "!!!!!!!!!!!!!!!!!!!!!!!!!!!!!!!!!!!!!!!!!!!!!!!!\n",
            "defaultdict(<class 'int'>, {'H': 1, 'E': 1, 'L': 2, 'O': 1})\n",
            "H 1\n",
            "E 1\n",
            "L 2\n",
            "O 1\n"
          ]
        }
      ]
    },
    {
      "cell_type": "code",
      "source": [
        "#WITH OUT USING defaultdict it will product the following error\n",
        "word='HELLO'\n",
        "counter={}\n",
        "for letter in word:\n",
        "  counter[letter]+=1\n",
        "  print(counter)\n",
        "print('!!!!!!!!!!!!!!!!!!!!!!!!!!!!!!!!!!!!!!!!!!!!!')\n",
        "print(counter)"
      ],
      "metadata": {
        "colab": {
          "base_uri": "https://localhost:8080/",
          "height": 235
        },
        "id": "KksYNAEMyqX5",
        "outputId": "692a76f4-e731-4e30-a11d-284af7d40920"
      },
      "execution_count": null,
      "outputs": [
        {
          "output_type": "error",
          "ename": "KeyError",
          "evalue": "ignored",
          "traceback": [
            "\u001b[0;31m---------------------------------------------------------------------------\u001b[0m",
            "\u001b[0;31mKeyError\u001b[0m                                  Traceback (most recent call last)",
            "\u001b[0;32m<ipython-input-12-250fca052bc5>\u001b[0m in \u001b[0;36m<module>\u001b[0;34m\u001b[0m\n\u001b[1;32m      3\u001b[0m \u001b[0mcounter\u001b[0m\u001b[0;34m=\u001b[0m\u001b[0;34m{\u001b[0m\u001b[0;34m}\u001b[0m\u001b[0;34m\u001b[0m\u001b[0;34m\u001b[0m\u001b[0m\n\u001b[1;32m      4\u001b[0m \u001b[0;32mfor\u001b[0m \u001b[0mletter\u001b[0m \u001b[0;32min\u001b[0m \u001b[0mword\u001b[0m\u001b[0;34m:\u001b[0m\u001b[0;34m\u001b[0m\u001b[0;34m\u001b[0m\u001b[0m\n\u001b[0;32m----> 5\u001b[0;31m   \u001b[0mcounter\u001b[0m\u001b[0;34m[\u001b[0m\u001b[0mletter\u001b[0m\u001b[0;34m]\u001b[0m\u001b[0;34m+=\u001b[0m\u001b[0;36m1\u001b[0m\u001b[0;34m\u001b[0m\u001b[0;34m\u001b[0m\u001b[0m\n\u001b[0m\u001b[1;32m      6\u001b[0m   \u001b[0mprint\u001b[0m\u001b[0;34m(\u001b[0m\u001b[0mcounter\u001b[0m\u001b[0;34m)\u001b[0m\u001b[0;34m\u001b[0m\u001b[0;34m\u001b[0m\u001b[0m\n\u001b[1;32m      7\u001b[0m \u001b[0mprint\u001b[0m\u001b[0;34m(\u001b[0m\u001b[0;34m'!!!!!!!!!!!!!!!!!!!!!!!!!!!!!!!!!!!!!!!!!!!!!'\u001b[0m\u001b[0;34m)\u001b[0m\u001b[0;34m\u001b[0m\u001b[0;34m\u001b[0m\u001b[0m\n",
            "\u001b[0;31mKeyError\u001b[0m: 'H'"
          ]
        }
      ]
    },
    {
      "cell_type": "code",
      "source": [
        "from collections import defaultdict\n",
        "word=\"kuruba praveen kumar\"\n",
        "counter=defaultdict(int)\n",
        "for letter in word:\n",
        "  print(counter,'!FIRST          in the loop at        !')\n",
        "  counter[letter]+=1\n",
        "  print(counter,\"!LAST       in the loop   at         !\")\n",
        "print('!!!!!!!!!!!!!!!!!!!!!!!!!!!!!!!!!!!!!!!!!!!!!!!!')\n",
        "print(counter)\n",
        "for i in counter:\n",
        "  print(i,counter[i])"
      ],
      "metadata": {
        "colab": {
          "base_uri": "https://localhost:8080/"
        },
        "id": "Hcvsb9GKt6_-",
        "outputId": "a58246ea-fd94-440b-eb82-c6e7a54a104b"
      },
      "execution_count": null,
      "outputs": [
        {
          "output_type": "stream",
          "name": "stdout",
          "text": [
            "defaultdict(<class 'int'>, {}) !FIRST          in the loop at        !\n",
            "defaultdict(<class 'int'>, {'k': 1}) !LAST       in the loop   at         !\n",
            "defaultdict(<class 'int'>, {'k': 1}) !FIRST          in the loop at        !\n",
            "defaultdict(<class 'int'>, {'k': 1, 'u': 1}) !LAST       in the loop   at         !\n",
            "defaultdict(<class 'int'>, {'k': 1, 'u': 1}) !FIRST          in the loop at        !\n",
            "defaultdict(<class 'int'>, {'k': 1, 'u': 1, 'r': 1}) !LAST       in the loop   at         !\n",
            "defaultdict(<class 'int'>, {'k': 1, 'u': 1, 'r': 1}) !FIRST          in the loop at        !\n",
            "defaultdict(<class 'int'>, {'k': 1, 'u': 2, 'r': 1}) !LAST       in the loop   at         !\n",
            "defaultdict(<class 'int'>, {'k': 1, 'u': 2, 'r': 1}) !FIRST          in the loop at        !\n",
            "defaultdict(<class 'int'>, {'k': 1, 'u': 2, 'r': 1, 'b': 1}) !LAST       in the loop   at         !\n",
            "defaultdict(<class 'int'>, {'k': 1, 'u': 2, 'r': 1, 'b': 1}) !FIRST          in the loop at        !\n",
            "defaultdict(<class 'int'>, {'k': 1, 'u': 2, 'r': 1, 'b': 1, 'a': 1}) !LAST       in the loop   at         !\n",
            "defaultdict(<class 'int'>, {'k': 1, 'u': 2, 'r': 1, 'b': 1, 'a': 1}) !FIRST          in the loop at        !\n",
            "defaultdict(<class 'int'>, {'k': 1, 'u': 2, 'r': 1, 'b': 1, 'a': 1, ' ': 1}) !LAST       in the loop   at         !\n",
            "defaultdict(<class 'int'>, {'k': 1, 'u': 2, 'r': 1, 'b': 1, 'a': 1, ' ': 1}) !FIRST          in the loop at        !\n",
            "defaultdict(<class 'int'>, {'k': 1, 'u': 2, 'r': 1, 'b': 1, 'a': 1, ' ': 1, 'p': 1}) !LAST       in the loop   at         !\n",
            "defaultdict(<class 'int'>, {'k': 1, 'u': 2, 'r': 1, 'b': 1, 'a': 1, ' ': 1, 'p': 1}) !FIRST          in the loop at        !\n",
            "defaultdict(<class 'int'>, {'k': 1, 'u': 2, 'r': 2, 'b': 1, 'a': 1, ' ': 1, 'p': 1}) !LAST       in the loop   at         !\n",
            "defaultdict(<class 'int'>, {'k': 1, 'u': 2, 'r': 2, 'b': 1, 'a': 1, ' ': 1, 'p': 1}) !FIRST          in the loop at        !\n",
            "defaultdict(<class 'int'>, {'k': 1, 'u': 2, 'r': 2, 'b': 1, 'a': 2, ' ': 1, 'p': 1}) !LAST       in the loop   at         !\n",
            "defaultdict(<class 'int'>, {'k': 1, 'u': 2, 'r': 2, 'b': 1, 'a': 2, ' ': 1, 'p': 1}) !FIRST          in the loop at        !\n",
            "defaultdict(<class 'int'>, {'k': 1, 'u': 2, 'r': 2, 'b': 1, 'a': 2, ' ': 1, 'p': 1, 'v': 1}) !LAST       in the loop   at         !\n",
            "defaultdict(<class 'int'>, {'k': 1, 'u': 2, 'r': 2, 'b': 1, 'a': 2, ' ': 1, 'p': 1, 'v': 1}) !FIRST          in the loop at        !\n",
            "defaultdict(<class 'int'>, {'k': 1, 'u': 2, 'r': 2, 'b': 1, 'a': 2, ' ': 1, 'p': 1, 'v': 1, 'e': 1}) !LAST       in the loop   at         !\n",
            "defaultdict(<class 'int'>, {'k': 1, 'u': 2, 'r': 2, 'b': 1, 'a': 2, ' ': 1, 'p': 1, 'v': 1, 'e': 1}) !FIRST          in the loop at        !\n",
            "defaultdict(<class 'int'>, {'k': 1, 'u': 2, 'r': 2, 'b': 1, 'a': 2, ' ': 1, 'p': 1, 'v': 1, 'e': 2}) !LAST       in the loop   at         !\n",
            "defaultdict(<class 'int'>, {'k': 1, 'u': 2, 'r': 2, 'b': 1, 'a': 2, ' ': 1, 'p': 1, 'v': 1, 'e': 2}) !FIRST          in the loop at        !\n",
            "defaultdict(<class 'int'>, {'k': 1, 'u': 2, 'r': 2, 'b': 1, 'a': 2, ' ': 1, 'p': 1, 'v': 1, 'e': 2, 'n': 1}) !LAST       in the loop   at         !\n",
            "defaultdict(<class 'int'>, {'k': 1, 'u': 2, 'r': 2, 'b': 1, 'a': 2, ' ': 1, 'p': 1, 'v': 1, 'e': 2, 'n': 1}) !FIRST          in the loop at        !\n",
            "defaultdict(<class 'int'>, {'k': 1, 'u': 2, 'r': 2, 'b': 1, 'a': 2, ' ': 2, 'p': 1, 'v': 1, 'e': 2, 'n': 1}) !LAST       in the loop   at         !\n",
            "defaultdict(<class 'int'>, {'k': 1, 'u': 2, 'r': 2, 'b': 1, 'a': 2, ' ': 2, 'p': 1, 'v': 1, 'e': 2, 'n': 1}) !FIRST          in the loop at        !\n",
            "defaultdict(<class 'int'>, {'k': 2, 'u': 2, 'r': 2, 'b': 1, 'a': 2, ' ': 2, 'p': 1, 'v': 1, 'e': 2, 'n': 1}) !LAST       in the loop   at         !\n",
            "defaultdict(<class 'int'>, {'k': 2, 'u': 2, 'r': 2, 'b': 1, 'a': 2, ' ': 2, 'p': 1, 'v': 1, 'e': 2, 'n': 1}) !FIRST          in the loop at        !\n",
            "defaultdict(<class 'int'>, {'k': 2, 'u': 3, 'r': 2, 'b': 1, 'a': 2, ' ': 2, 'p': 1, 'v': 1, 'e': 2, 'n': 1}) !LAST       in the loop   at         !\n",
            "defaultdict(<class 'int'>, {'k': 2, 'u': 3, 'r': 2, 'b': 1, 'a': 2, ' ': 2, 'p': 1, 'v': 1, 'e': 2, 'n': 1}) !FIRST          in the loop at        !\n",
            "defaultdict(<class 'int'>, {'k': 2, 'u': 3, 'r': 2, 'b': 1, 'a': 2, ' ': 2, 'p': 1, 'v': 1, 'e': 2, 'n': 1, 'm': 1}) !LAST       in the loop   at         !\n",
            "defaultdict(<class 'int'>, {'k': 2, 'u': 3, 'r': 2, 'b': 1, 'a': 2, ' ': 2, 'p': 1, 'v': 1, 'e': 2, 'n': 1, 'm': 1}) !FIRST          in the loop at        !\n",
            "defaultdict(<class 'int'>, {'k': 2, 'u': 3, 'r': 2, 'b': 1, 'a': 3, ' ': 2, 'p': 1, 'v': 1, 'e': 2, 'n': 1, 'm': 1}) !LAST       in the loop   at         !\n",
            "defaultdict(<class 'int'>, {'k': 2, 'u': 3, 'r': 2, 'b': 1, 'a': 3, ' ': 2, 'p': 1, 'v': 1, 'e': 2, 'n': 1, 'm': 1}) !FIRST          in the loop at        !\n",
            "defaultdict(<class 'int'>, {'k': 2, 'u': 3, 'r': 3, 'b': 1, 'a': 3, ' ': 2, 'p': 1, 'v': 1, 'e': 2, 'n': 1, 'm': 1}) !LAST       in the loop   at         !\n",
            "!!!!!!!!!!!!!!!!!!!!!!!!!!!!!!!!!!!!!!!!!!!!!!!!\n",
            "defaultdict(<class 'int'>, {'k': 2, 'u': 3, 'r': 3, 'b': 1, 'a': 3, ' ': 2, 'p': 1, 'v': 1, 'e': 2, 'n': 1, 'm': 1})\n",
            "k 2\n",
            "u 3\n",
            "r 3\n",
            "b 1\n",
            "a 3\n",
            "  2\n",
            "p 1\n",
            "v 1\n",
            "e 2\n",
            "n 1\n",
            "m 1\n"
          ]
        }
      ]
    },
    {
      "cell_type": "markdown",
      "source": [
        "###try to understand the list() process and also when the append and extend should be used and know how many arguments[interpreter says only one in both] can be passed in extend and append"
      ],
      "metadata": {
        "id": "YUUQR4wlAXMB"
      }
    },
    {
      "cell_type": "code",
      "source": [
        "from collections import Counter\n",
        "print(Counter(\"kuruba praveen kumar\"))\n",
        "print(Counter(list('kuruba praveen kumar')))\n",
        "letters=Counter(\"praveen\")\n",
        "for i in letters:\n",
        "  print(i,letters[i])\n",
        "print(\"!!!!!!!!!!!!!!!!!!!!!!!!!!!!!!!!!\")\n",
        "l=[]\n",
        "for i in letters:\n",
        "  l.append([i,letters[i]])\n",
        "print(l,'append')\n",
        "print('!!!!!!!!!!!!!!!!!!!!!!!!!!!!!!!!!!!!!!!!!!!!')\n",
        "l=[]\n",
        "for i in letters:\n",
        "  l.extend([i,letters[i]])\n",
        "print(l,'extend')\n",
        "print(\"!!!!!!!!!!!!!!!!!!!!!!!!!!!!!!!!!!!!!!!!!!!!!!!!!!!\")\n",
        "# l2=[]\n",
        "# for i in letters:\n",
        "#   l2.extend(i,letters[i])#TypeError: extend() takes exactly one argument (2 given)\n",
        "# print(l2)\n",
        "# l2=[]\n",
        "# for i in letters:\n",
        "#   l2.extend(list(i,letters[i]))#TypeError: list expected at most 1 argument, got 2\n",
        "# print(l2)\n",
        "# l2=[]\n",
        "# for i in letters:\n",
        "#   l2.append(list(i,letters[i]))#TypeError: list expected at most 1 argument, got 2\n",
        "# print(l2)\n",
        "l=[]\n",
        "for i in letters:\n",
        "  l.append(i,letters[i])#TypeError: append() takes exactly one argument (2 given)\n",
        "print(l)\n",
        "for i in letters:\n",
        "  print(i,i[i])#TypeError: string indices must be integers\n"
      ],
      "metadata": {
        "colab": {
          "base_uri": "https://localhost:8080/",
          "height": 480
        },
        "id": "jRgAsyW6y2ZR",
        "outputId": "ef7fd293-126d-4649-8aa3-8c42aa885b00"
      },
      "execution_count": null,
      "outputs": [
        {
          "output_type": "stream",
          "name": "stdout",
          "text": [
            "Counter({'u': 3, 'r': 3, 'a': 3, 'k': 2, ' ': 2, 'e': 2, 'b': 1, 'p': 1, 'v': 1, 'n': 1, 'm': 1})\n",
            "Counter({'u': 3, 'r': 3, 'a': 3, 'k': 2, ' ': 2, 'e': 2, 'b': 1, 'p': 1, 'v': 1, 'n': 1, 'm': 1})\n",
            "p 1\n",
            "r 1\n",
            "a 1\n",
            "v 1\n",
            "e 2\n",
            "n 1\n",
            "!!!!!!!!!!!!!!!!!!!!!!!!!!!!!!!!!\n",
            "[['p', 1], ['r', 1], ['a', 1], ['v', 1], ['e', 2], ['n', 1]] append\n",
            "!!!!!!!!!!!!!!!!!!!!!!!!!!!!!!!!!!!!!!!!!!!!\n",
            "['p', 1, 'r', 1, 'a', 1, 'v', 1, 'e', 2, 'n', 1] extend\n",
            "!!!!!!!!!!!!!!!!!!!!!!!!!!!!!!!!!!!!!!!!!!!!!!!!!!!\n"
          ]
        },
        {
          "output_type": "error",
          "ename": "TypeError",
          "evalue": "ignored",
          "traceback": [
            "\u001b[0;31m---------------------------------------------------------------------------\u001b[0m",
            "\u001b[0;31mTypeError\u001b[0m                                 Traceback (most recent call last)",
            "\u001b[0;32m<ipython-input-46-d74c313731ba>\u001b[0m in \u001b[0;36m<module>\u001b[0;34m\u001b[0m\n\u001b[1;32m     30\u001b[0m \u001b[0ml\u001b[0m\u001b[0;34m=\u001b[0m\u001b[0;34m[\u001b[0m\u001b[0;34m]\u001b[0m\u001b[0;34m\u001b[0m\u001b[0;34m\u001b[0m\u001b[0m\n\u001b[1;32m     31\u001b[0m \u001b[0;32mfor\u001b[0m \u001b[0mi\u001b[0m \u001b[0;32min\u001b[0m \u001b[0mletters\u001b[0m\u001b[0;34m:\u001b[0m\u001b[0;34m\u001b[0m\u001b[0;34m\u001b[0m\u001b[0m\n\u001b[0;32m---> 32\u001b[0;31m   \u001b[0ml\u001b[0m\u001b[0;34m.\u001b[0m\u001b[0mappend\u001b[0m\u001b[0;34m(\u001b[0m\u001b[0mi\u001b[0m\u001b[0;34m,\u001b[0m\u001b[0mletters\u001b[0m\u001b[0;34m[\u001b[0m\u001b[0mi\u001b[0m\u001b[0;34m]\u001b[0m\u001b[0;34m)\u001b[0m\u001b[0;34m\u001b[0m\u001b[0;34m\u001b[0m\u001b[0m\n\u001b[0m\u001b[1;32m     33\u001b[0m \u001b[0mprint\u001b[0m\u001b[0;34m(\u001b[0m\u001b[0ml\u001b[0m\u001b[0;34m)\u001b[0m\u001b[0;34m\u001b[0m\u001b[0;34m\u001b[0m\u001b[0m\n\u001b[1;32m     34\u001b[0m \u001b[0;32mfor\u001b[0m \u001b[0mi\u001b[0m \u001b[0;32min\u001b[0m \u001b[0mletters\u001b[0m\u001b[0;34m:\u001b[0m\u001b[0;34m\u001b[0m\u001b[0;34m\u001b[0m\u001b[0m\n",
            "\u001b[0;31mTypeError\u001b[0m: append() takes exactly one argument (2 given)"
          ]
        }
      ]
    },
    {
      "cell_type": "code",
      "source": [
        "from collections import Counter\n",
        "print(Counter(\"kuruba praveen kumar\"))\n",
        "print(Counter(list('kuruba praveen kumar')))\n",
        "letters=Counter(\"praveen\")\n",
        "for i in letters:\n",
        "  print(i,letters[i])\n",
        "print(\"!!!!!!!!!!!!!!!!!!!!!!!!!!!!!!!!!\")\n",
        "l=[]\n",
        "for i in letters:\n",
        "  l.extend([i,letters[i]])\n",
        "print(l)"
      ],
      "metadata": {
        "colab": {
          "base_uri": "https://localhost:8080/"
        },
        "id": "pXTYw-QWAnZu",
        "outputId": "e500f10c-0670-4e57-8bfe-2d47d6732c9d"
      },
      "execution_count": null,
      "outputs": [
        {
          "output_type": "stream",
          "name": "stdout",
          "text": [
            "Counter({'u': 3, 'r': 3, 'a': 3, 'k': 2, ' ': 2, 'e': 2, 'b': 1, 'p': 1, 'v': 1, 'n': 1, 'm': 1})\n",
            "Counter({'u': 3, 'r': 3, 'a': 3, 'k': 2, ' ': 2, 'e': 2, 'b': 1, 'p': 1, 'v': 1, 'n': 1, 'm': 1})\n",
            "p 1\n",
            "r 1\n",
            "a 1\n",
            "v 1\n",
            "e 2\n",
            "n 1\n",
            "!!!!!!!!!!!!!!!!!!!!!!!!!!!!!!!!!\n",
            "['p', 1, 'r', 1, 'a', 1, 'v', 1, 'e', 2, 'n', 1]\n"
          ]
        }
      ]
    },
    {
      "cell_type": "code",
      "source": [
        "from collections import Counter\n",
        "letters=Counter(\"mississippi\")\n",
        "for letter in letters:\n",
        "  print(letter,letters[letter])\n",
        "for i in letters:\n",
        "  print(i,i[i])\n"
      ],
      "metadata": {
        "colab": {
          "base_uri": "https://localhost:8080/",
          "height": 269
        },
        "id": "W0PLX0VS6tu_",
        "outputId": "11ae97e8-5b84-4b5a-89f7-c79f5f3fa385"
      },
      "execution_count": null,
      "outputs": [
        {
          "output_type": "stream",
          "name": "stdout",
          "text": [
            "m 1\n",
            "i 4\n",
            "s 4\n",
            "p 2\n"
          ]
        },
        {
          "output_type": "error",
          "ename": "TypeError",
          "evalue": "ignored",
          "traceback": [
            "\u001b[0;31m---------------------------------------------------------------------------\u001b[0m",
            "\u001b[0;31mTypeError\u001b[0m                                 Traceback (most recent call last)",
            "\u001b[0;32m<ipython-input-34-69321462e604>\u001b[0m in \u001b[0;36m<module>\u001b[0;34m\u001b[0m\n\u001b[1;32m      4\u001b[0m   \u001b[0mprint\u001b[0m\u001b[0;34m(\u001b[0m\u001b[0mletter\u001b[0m\u001b[0;34m,\u001b[0m\u001b[0mletters\u001b[0m\u001b[0;34m[\u001b[0m\u001b[0mletter\u001b[0m\u001b[0;34m]\u001b[0m\u001b[0;34m)\u001b[0m\u001b[0;34m\u001b[0m\u001b[0;34m\u001b[0m\u001b[0m\n\u001b[1;32m      5\u001b[0m \u001b[0;32mfor\u001b[0m \u001b[0mi\u001b[0m \u001b[0;32min\u001b[0m \u001b[0mletters\u001b[0m\u001b[0;34m:\u001b[0m\u001b[0;34m\u001b[0m\u001b[0;34m\u001b[0m\u001b[0m\n\u001b[0;32m----> 6\u001b[0;31m   \u001b[0mprint\u001b[0m\u001b[0;34m(\u001b[0m\u001b[0mi\u001b[0m\u001b[0;34m,\u001b[0m\u001b[0mi\u001b[0m\u001b[0;34m[\u001b[0m\u001b[0mi\u001b[0m\u001b[0;34m]\u001b[0m\u001b[0;34m)\u001b[0m\u001b[0;34m\u001b[0m\u001b[0;34m\u001b[0m\u001b[0m\n\u001b[0m",
            "\u001b[0;31mTypeError\u001b[0m: string indices must be integers"
          ]
        }
      ]
    },
    {
      "cell_type": "code",
      "source": [
        "from collections import Counter\n",
        "print(Counter(i=4,s=4,m=1,p=2))"
      ],
      "metadata": {
        "colab": {
          "base_uri": "https://localhost:8080/"
        },
        "id": "isK9niAW1Nbg",
        "outputId": "2f5d3ebe-e589-494c-ef77-5413e6b15847"
      },
      "execution_count": null,
      "outputs": [
        {
          "output_type": "stream",
          "name": "stdout",
          "text": [
            "Counter({'i': 4, 's': 4, 'p': 2, 'm': 1})\n"
          ]
        }
      ]
    },
    {
      "cell_type": "code",
      "source": [
        "from collections import Counter\n",
        "print(Counter(\"mississippi\"))\n",
        "print('!!!!!!!!!!!!!!!!!!!!!!!!!!!!!!!!!!!!!!!!!!!!')\n",
        "print(Counter(list('mississippi')))\n",
        "print(\"!!!!!!!!!!!!!!!!!!!!!!!!!!!!!!!!!!!!!!!!!!!!!!!!\")\n",
        "print(Counter(tuple(\"mississippi\")))\n",
        "print(\"!!!!!!!!!!!!!!!!!!!!!!!!!!!!!!!!!!!!!!!!!!!!!!!!!!!!!!!\")\n",
        "print(Counter(set(\"mississippi\")),\"set removes the duplicate elements\")"
      ],
      "metadata": {
        "colab": {
          "base_uri": "https://localhost:8080/"
        },
        "id": "LWucKm3w1ooQ",
        "outputId": "3906b847-262a-4929-bd1f-1efc6fcd87ab"
      },
      "execution_count": null,
      "outputs": [
        {
          "output_type": "stream",
          "name": "stdout",
          "text": [
            "Counter({'i': 4, 's': 4, 'p': 2, 'm': 1})\n",
            "!!!!!!!!!!!!!!!!!!!!!!!!!!!!!!!!!!!!!!!!!!!!\n",
            "Counter({'i': 4, 's': 4, 'p': 2, 'm': 1})\n",
            "!!!!!!!!!!!!!!!!!!!!!!!!!!!!!!!!!!!!!!!!!!!!!!!!\n",
            "Counter({'i': 4, 's': 4, 'p': 2, 'm': 1})\n",
            "!!!!!!!!!!!!!!!!!!!!!!!!!!!!!!!!!!!!!!!!!!!!!!!!!!!!!!!\n",
            "Counter({'i': 1, 'p': 1, 'm': 1, 's': 1})\n"
          ]
        }
      ]
    },
    {
      "cell_type": "markdown",
      "source": [],
      "metadata": {
        "id": "QaZXlWq1ufGg"
      }
    }
  ]
}